{
 "cells": [
  {
   "cell_type": "markdown",
   "id": "dfbcd23e",
   "metadata": {},
   "source": [
    "# Lab #4: Loops\n",
    "\n",
    "#### CS65 | Fall 2023 | [CodePost Login](https://codepost.io/login)\n",
    "\n",
    "__Due__: Wednesday, 9/27 by 11:59pm\n",
    "\n",
    "__Total Points__: 4\n",
    "\n",
    "description\n",
    "\n",
    "## Exercise #1:\n",
    "\n",
    "Consider the guess-my-number code we looked at in the lecture. When the user guesses wrong, add some code that will tell them whether they were too high or too low. \n",
    "\n",
    "To make this a little more fun, instead of just hard-coding the secret number as 7, we'll generate a random number between 1 and 100.\n",
    "\n",
    "> __Hint__: _add a new conditional statement (or change the exiting one, remember, `elif` is a thing) in the indented part of the code._"
   ]
  },
  {
   "cell_type": "code",
   "execution_count": 1,
   "id": "f196cb41",
   "metadata": {},
   "outputs": [
    {
     "name": "stdout",
     "output_type": "stream",
     "text": [
      "Guess a number: 50\n",
      "Wrong! Too low.\n",
      "Guess a number: 75\n",
      "Wrong! Too low.\n",
      "Guess a number: 90\n",
      "Wrong! Too high.\n",
      "Guess a number: 80\n",
      "Wrong! Too high.\n",
      "Guess a number: 76\n",
      "Wrong! Too low.\n",
      "Guess a number: 77\n",
      "Wrong! Too low.\n",
      "Guess a number: 78\n",
      "Wrong! Too low.\n",
      "Guess a number: 79\n",
      "That was right, good guess!\n",
      "That took 8 guesses\n"
     ]
    }
   ],
   "source": [
    "import random\n",
    "secret_number = random.randint(1,100) #this will generate a random integer between 1 and 100\n",
    "guess = 0\n",
    "guess_counter = 0\n",
    "\n",
    "while guess != secret_number:\n",
    "    guess = int(input(\"Guess a number: \"))\n",
    "    \n",
    "    guess_counter += 1 #this is the same as guess_counter = guess_counter + 1\n",
    "    \n",
    "    if guess == secret_number:\n",
    "        print(\"That was right, good guess!\")\n",
    "    elif guess > secret_number:\n",
    "        print(\"Wrong! Too high.\")\n",
    "    elif guess < secret_number:\n",
    "        print(\"Wrong! Too low.\")\n",
    "    else:\n",
    "        print(\"Wrong!\")\n",
    "\n",
    "print(\"That took\",guess_counter,\"guesses\")"
   ]
  },
  {
   "cell_type": "markdown",
   "id": "ce0d677b",
   "metadata": {},
   "source": [
    "---\n",
    "\n",
    "## Exercise #2:\n",
    "\n",
    "Write a program that asks the user how many times they would like to be greeted, and then use a loop to say \"Hello\" that many times. "
   ]
  },
  {
   "cell_type": "code",
   "execution_count": 2,
   "id": "08358241",
   "metadata": {},
   "outputs": [
    {
     "name": "stdout",
     "output_type": "stream",
     "text": [
      "how many times would you like to be greeted?7\n",
      "Hello!\n",
      "Hello!\n",
      "Hello!\n",
      "Hello!\n",
      "Hello!\n",
      "Hello!\n",
      "Hello!\n"
     ]
    }
   ],
   "source": [
    "# output may look like this:"
   ]
  },
  {
   "cell_type": "markdown",
   "id": "cddef467",
   "metadata": {},
   "source": [
    "# Challenge Exercise:\n",
    "\n",
    "Write a program that firsts asks the user for the limit for the number they wan tot use in their loop. Secondly, ask the user for the amount they want to add to their loop variable each loop. The output should be the loop variable (starting at 0) counting by the increment amount, until (and including) the limit. "
   ]
  },
  {
   "cell_type": "code",
   "execution_count": 4,
   "id": "70ccd920",
   "metadata": {},
   "outputs": [
    {
     "name": "stdout",
     "output_type": "stream",
     "text": [
      "What is the limit? 5\n",
      "What is the increment? 1\n",
      "0\n",
      "1\n",
      "2\n",
      "3\n",
      "4\n",
      "5\n"
     ]
    }
   ],
   "source": [
    "# example output #1"
   ]
  },
  {
   "cell_type": "code",
   "execution_count": 5,
   "id": "26f4f410",
   "metadata": {},
   "outputs": [
    {
     "name": "stdout",
     "output_type": "stream",
     "text": [
      "What is the limit? 5\n",
      "What is the increment? 2\n",
      "0\n",
      "2\n",
      "4\n"
     ]
    }
   ],
   "source": [
    "# example output #2"
   ]
  },
  {
   "cell_type": "code",
   "execution_count": 6,
   "id": "ec8cfb6e",
   "metadata": {},
   "outputs": [
    {
     "name": "stdout",
     "output_type": "stream",
     "text": [
      "What is the limit? 99\n",
      "What is the increment? 12\n",
      "0\n",
      "12\n",
      "24\n",
      "36\n",
      "48\n",
      "60\n",
      "72\n",
      "84\n",
      "96\n"
     ]
    }
   ],
   "source": [
    "# example output #3"
   ]
  },
  {
   "cell_type": "markdown",
   "id": "640824f8",
   "metadata": {},
   "source": [
    "## Challenge Exercise Hints:\n",
    "\n",
    "Here's a big push in the right direction for this challenge exercise:\n",
    "\n",
    "- You'll likely need three different variables for this problem:\n",
    "    - a variable to keep track of the `limit`\n",
    "    - a variable to keep track of the `increment`\n",
    "    - a variable to keep track of the `number` you will output; the `number` should start with a value of 0.\n",
    "- Loop `while` the `number` is less than or equal to the limit.\n",
    "- Within the loop, add the vlaue of the `increment` to the `number`.\n",
    "\n",
    "When you are finished, submit your solution to the __Lab 4: Loops__ assignment on codePost. This problem will be auto-graded, and it will be checking that your output matches the test examples I have created. so, if you think your solution is correct, but codePost doesn't give you the points, check the mssages it is giving you--there may be a difference in spelling, puncutation, etc."
   ]
  },
  {
   "cell_type": "code",
   "execution_count": null,
   "id": "ad327605",
   "metadata": {},
   "outputs": [],
   "source": []
  }
 ],
 "metadata": {
  "kernelspec": {
   "display_name": "Python 3 (ipykernel)",
   "language": "python",
   "name": "python3"
  },
  "language_info": {
   "codemirror_mode": {
    "name": "ipython",
    "version": 3
   },
   "file_extension": ".py",
   "mimetype": "text/x-python",
   "name": "python",
   "nbconvert_exporter": "python",
   "pygments_lexer": "ipython3",
   "version": "3.11.4"
  }
 },
 "nbformat": 4,
 "nbformat_minor": 5
}
