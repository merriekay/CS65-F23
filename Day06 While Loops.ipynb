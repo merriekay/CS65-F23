{
 "cells": [
  {
   "cell_type": "markdown",
   "metadata": {
    "slideshow": {
     "slide_type": "slide"
    }
   },
   "source": [
    "# CS65: Day 06\n",
    "## While Loops\n",
    "\n",
    "####  CS65: Introduction to Computer Science I | Fall 2023\n",
    "\n",
    "Wednesday, September 20th, 2023\n",
    "\n",
    " 📜 [Syllabus](https://docs.google.com/document/d/1JTRJ-22abpu3HNhHzE2NaGfstNrrBav1MSQcLIMBWe4/edit?usp=sharing) | 📬 [CodePost Login](https://codepost.io/login) | 📆 [Schedule](https://docs.google.com/spreadsheets/d/e/2PACX-1vS51v65qE22qEyhLTF_q5sF_4Nu1GhWU4mDgfsF7NY8Yrjl5-ismCyXjHiR4Fuxqd1cJ9dY5l55CcV0/pubhtml?gid=0&single=true) | 🙋 [Polleverywhere](https://pollev.com/moore) | 🪴 [Office Hour Sign Up](https://calendly.com/meredith-moore/office-hours)"
   ]
  },
  {
   "cell_type": "markdown",
   "metadata": {
    "slideshow": {
     "slide_type": "slide"
    }
   },
   "source": [
    "> Note to self: Make sure you're recording 🎥"
   ]
  },
  {
   "cell_type": "markdown",
   "metadata": {
    "slideshow": {
     "slide_type": "slide"
    }
   },
   "source": [
    "# Admin Stuff"
   ]
  },
  {
   "cell_type": "markdown",
   "metadata": {
    "slideshow": {
     "slide_type": "fragment"
    }
   },
   "source": [
    "You should be working on:\n",
    "- Quiz #1 is released today, due Monday September 25th by 11:49 pm\n",
    "\n",
    "- [If Statment Reading](https://python.swaroopch.com/control_flow.html)-- I forgot to include this last class\n",
    "- [While Loop Reading](https://analytics.drake.edu/~urness/CS65Text/Chapter4.html) "
   ]
  },
  {
   "cell_type": "markdown",
   "metadata": {
    "slideshow": {
     "slide_type": "slide"
    }
   },
   "source": [
    "# ⏪ Quick Review:"
   ]
  },
  {
   "cell_type": "markdown",
   "metadata": {
    "slideshow": {
     "slide_type": "slide"
    }
   },
   "source": [
    "## Boolean Operators (`and`, `or`, and `not`)\n",
    "\n",
    "Boolean operators allow you to combine (or negate) boolean expressions:\n",
    "\n",
    "| Boolean operator | Description                                                                                              |\n",
    "|------------------|:----------------------------------------------------------------------------------------------------------|\n",
    "| a `and` b        | __boolean AND__: `True` when both operands are `True`                                                    |\n",
    "| a `or` b         | __boolean OR__: `True` when at least one operand is `True`                                               |\n",
    "| `not` a          | __boolean NOT__ (opposite): True when the signle operand is `False` (and `False` when operand is `True`) |"
   ]
  },
  {
   "cell_type": "markdown",
   "metadata": {
    "slideshow": {
     "slide_type": "slide"
    }
   },
   "source": [
    "## Quick Question:\n",
    "\n",
    "What's wrong with this?"
   ]
  },
  {
   "cell_type": "code",
   "execution_count": 33,
   "metadata": {},
   "outputs": [
    {
     "name": "stdout",
     "output_type": "stream",
     "text": [
      "name a state with only 4 letters Illinois\n",
      "correct\n"
     ]
    }
   ],
   "source": [
    "state = input(\"name a state with only 4 letters \")\n",
    "\n",
    "if state == \"Iowa\" or \"Utah\" or \"Ohio\": \n",
    "    print(\"correct\")\n",
    "else: \n",
    "    print(\"wrong!\")"
   ]
  },
  {
   "cell_type": "code",
   "execution_count": 37,
   "metadata": {
    "slideshow": {
     "slide_type": "slide"
    }
   },
   "outputs": [
    {
     "name": "stdout",
     "output_type": "stream",
     "text": [
      "name a state with only 4 letters Minnesota\n",
      "wrong!\n"
     ]
    }
   ],
   "source": [
    "state = input(\"name a state with only 4 letters \")\n",
    "\n",
    "if state == \"Iowa\" or state == \"Utah\" or state==\"Ohio\":\n",
    "    print(\"correct\")\n",
    "else:\n",
    "    print(\"wrong!\")"
   ]
  },
  {
   "cell_type": "markdown",
   "metadata": {
    "slideshow": {
     "slide_type": "slide"
    }
   },
   "source": [
    "## Review Question:\n"
   ]
  },
  {
   "cell_type": "markdown",
   "metadata": {
    "slideshow": {
     "slide_type": "slide"
    }
   },
   "source": [
    "# ✨ New Material"
   ]
  },
  {
   "cell_type": "markdown",
   "metadata": {
    "slideshow": {
     "slide_type": "slide"
    }
   },
   "source": [
    "## Repeating code\n",
    "\n",
    "\n",
    "Sometimes we want a section of our code to repeat multiple times. For this we use a __loop__. \n",
    "\n",
    "The first loop we're going to look at is a `while` loop. Its syntax is a lot like the `if` statement (but there's no else part):\n",
    "* keyword `while`\n",
    "* condition\n",
    "* colon `:`\n",
    "* indented block of code\n",
    "\n",
    "**Example**: remember this code we wrote for a simple guess-the-number game? What if we want the user to be able to keep guess until they get it right?"
   ]
  },
  {
   "cell_type": "code",
   "execution_count": 42,
   "metadata": {
    "slideshow": {
     "slide_type": "slide"
    }
   },
   "outputs": [
    {
     "name": "stdout",
     "output_type": "stream",
     "text": [
      "Guess a number: 5\n",
      "Wrong!\n",
      "Guess a number: 7\n",
      "That was right, good guess!\n",
      "Thank you for playing!\n"
     ]
    }
   ],
   "source": [
    "secret_number = 7\n",
    "guess = 0\n",
    "\n",
    "while guess != secret_number:\n",
    "    guess = int(input(\"Guess a number: \"))\n",
    "\n",
    "    if guess == secret_number:\n",
    "        print(\"That was right, good guess!\")\n",
    "    else:\n",
    "        print(\"Wrong!\")\n",
    "\n",
    "print(\"Thank you for playing!\") "
   ]
  },
  {
   "cell_type": "markdown",
   "metadata": {
    "slideshow": {
     "slide_type": "slide"
    }
   },
   "source": [
    "## Input validation\n",
    "\n",
    "__input validation:__ making sure the user's input makes sense for the program\n",
    "\n",
    "We can use the same pattern as the guess-the-number loop to make an input-validation loop."
   ]
  },
  {
   "cell_type": "code",
   "execution_count": 44,
   "metadata": {},
   "outputs": [
    {
     "name": "stdout",
     "output_type": "stream",
     "text": [
      "Soccer team registration form\n",
      "How many players on your team (minimum 11)? 0\n",
      "How many players on your team (minimum 11)? -5\n",
      "How many players on your team (minimum 11)? 12\n",
      "Registering team with 12 players...\n"
     ]
    }
   ],
   "source": [
    "print(\"Soccer team registration form\")\n",
    "num_players = 0\n",
    "\n",
    "while num_players < 11:\n",
    "    num_players = int(input(\"How many players on your team (minimum 11)? \"))\n",
    "    \n",
    "print(\"Registering team with\",num_players,\"players...\")"
   ]
  },
  {
   "cell_type": "markdown",
   "metadata": {
    "slideshow": {
     "slide_type": "slide"
    }
   },
   "source": [
    "## Counting\n",
    "\n",
    "Loops are good for counting things. A variable that is used to count something is called a  __counter__.\n",
    "\n",
    "Let's say we want to count how many guesses it took for the user to guess the number."
   ]
  },
  {
   "cell_type": "code",
   "execution_count": 48,
   "metadata": {},
   "outputs": [
    {
     "name": "stdout",
     "output_type": "stream",
     "text": [
      "Guess a number: 1\n",
      "Wrong!\n",
      "Guess a number: 2\n",
      "Wrong!\n",
      "Guess a number: 3\n",
      "Wrong!\n",
      "Guess a number: 4\n",
      "Wrong!\n",
      "Guess a number: 5\n",
      "Wrong!\n",
      "Sorry :(\n",
      "That took 5 guesses\n"
     ]
    }
   ],
   "source": [
    "secret_number = 7\n",
    "guess = 0\n",
    "guess_counter = 0\n",
    "\n",
    "while guess != secret_number and guess_counter <= 5:\n",
    "    guess = int(input(\"Guess a number: \"))\n",
    "    guess_counter += 1 #this is the same as guess_counter = guess_counter + 1\n",
    "\n",
    "    if guess == secret_number:\n",
    "        print(\"That was right, good guess!\")\n",
    "    else:\n",
    "        print(\"Wrong!\")\n",
    "        \n",
    "if guess == secret_number:\n",
    "    print(\"Congrats!\")\n",
    "else:\n",
    "    print(\"Sorry :(\")\n",
    "\n",
    "print(\"That took\",guess_counter,\"guesses\")"
   ]
  },
  {
   "cell_type": "markdown",
   "metadata": {
    "slideshow": {
     "slide_type": "slide"
    }
   },
   "source": [
    "## Thonny Debugger Demo\n",
    "\n",
    "The Thonny debugger is a helpful tool that allows you to step through your program and watch what's happening as it executes. \n",
    "\n",
    "Let's look at how to use it now.\n",
    "\n",
    "You should get in the habit of using the debugger to help identify logic errors in your code."
   ]
  },
  {
   "cell_type": "markdown",
   "metadata": {
    "slideshow": {
     "slide_type": "slide"
    }
   },
   "source": [
    "## Count-controlled loops\n",
    "\n",
    "You can even use counter variables to control how many times the loop will run."
   ]
  },
  {
   "cell_type": "code",
   "execution_count": 49,
   "metadata": {},
   "outputs": [
    {
     "name": "stdout",
     "output_type": "stream",
     "text": [
      "0\n",
      "1\n",
      "2\n",
      "3\n",
      "4\n",
      "5\n",
      "6\n",
      "7\n",
      "8\n",
      "9\n",
      "all done\n"
     ]
    }
   ],
   "source": [
    "val = 0\n",
    "while val < 10:\n",
    "    print(val)\n",
    "    val += 1\n",
    "print(\"all done\")"
   ]
  },
  {
   "cell_type": "markdown",
   "metadata": {
    "slideshow": {
     "slide_type": "slide"
    }
   },
   "source": [
    "# PollEverywhere:\n",
    "\n",
    "How will the output of these loops be different?\n",
    "<div>\n",
    "<img src=\"images/day05_q1.png\" width=\"500\"/>\n",
    "</div>"
   ]
  },
  {
   "cell_type": "code",
   "execution_count": null,
   "metadata": {
    "slideshow": {
     "slide_type": "slide"
    }
   },
   "outputs": [],
   "source": [
    "val = 0\n",
    "while val < 10:\n",
    "    print(val)\n",
    "    val += 1\n",
    "print(\"all done\")"
   ]
  },
  {
   "cell_type": "code",
   "execution_count": null,
   "metadata": {},
   "outputs": [],
   "source": [
    "val = 0\n",
    "while val < 10:\n",
    "    val += 1\n",
    "    print(val)\n",
    "print(\"all done\")"
   ]
  },
  {
   "cell_type": "markdown",
   "metadata": {
    "slideshow": {
     "slide_type": "slide"
    }
   },
   "source": [
    "## Another example:"
   ]
  },
  {
   "cell_type": "code",
   "execution_count": null,
   "metadata": {},
   "outputs": [],
   "source": [
    "how_far = int(input(\"How far should we make the car drive?\"))\n",
    "counter = 0\n",
    "\n",
    "while counter < how_far:\n",
    "    print(\"Time\",counter)\n",
    "    print(\"\\t\"*counter+\"  ______\")\n",
    "    print(\"\\t\"*counter+\" /|_||_\\`.__\")\n",
    "    print(\"\\t\"*counter+\"(   _    _ _\\\\\")\n",
    "    print(\"\\t\"*counter+\"=`-(_)--(_)-')\")\n",
    "    counter += 1\n",
    "print(\"Safe travels.\")"
   ]
  },
  {
   "cell_type": "markdown",
   "metadata": {
    "slideshow": {
     "slide_type": "slide"
    }
   },
   "source": [
    "## Accumulation\n",
    "\n",
    "An __accumulator__ variable keeps a running total of something. Loops are good for this too."
   ]
  },
  {
   "cell_type": "code",
   "execution_count": 56,
   "metadata": {},
   "outputs": [
    {
     "name": "stdout",
     "output_type": "stream",
     "text": [
      "Enter item cost (0 to quit): 20\n",
      "Enter item cost (0 to quit): 25\n",
      "Enter item cost (0 to quit): 20\n",
      "Enter item cost (0 to quit): 0\n",
      "The total is 65.0\n",
      "The average cost was:  13.0\n"
     ]
    }
   ],
   "source": [
    "total_bill = 0.0 #accumulator\n",
    "item_cost = -1\n",
    "num_items = 1\n",
    "\n",
    "while item_cost != 0.0:\n",
    "    \n",
    "    item_cost = float(input(\"Enter item cost (0 to quit): \"))\n",
    "    total_bill += item_cost #this is the same as total_bill = total_bill + item_co st\n",
    "    num_items+=1\n",
    "    \n",
    "print(\"The total is\",total_bill)\n",
    "avg_cost=total_bill/num_items\n",
    "print(\"The average cost was: \",avg_cost)"
   ]
  },
  {
   "cell_type": "markdown",
   "metadata": {
    "slideshow": {
     "slide_type": "slide"
    }
   },
   "source": [
    "# Infinite Loops\n",
    "\n",
    "In all but rare cases, loops must contain within themselves a way to terminate.\n",
    "\n",
    "Something that makes the test condition `False`\n",
    "\n",
    "If your loop does not have a way of stopping, it is called an _infinite loop_.\n",
    "\n",
    "> If you accidentally do this in Thonny, you can kill the program by hitting the STOP button."
   ]
  },
  {
   "cell_type": "code",
   "execution_count": null,
   "metadata": {},
   "outputs": [],
   "source": [
    "counter = 0\n",
    "while counter < 10:\n",
    "    print(\"counter:\", counter)\n",
    "counter +=1"
   ]
  },
  {
   "cell_type": "markdown",
   "metadata": {
    "slideshow": {
     "slide_type": "slide"
    }
   },
   "source": [
    "## Tips for writing loops\n",
    "\n",
    "* Split it into 3 parts...Think about what needs to happen\n",
    "    - *before the loop*, set up loop control variables with initial values\n",
    "    - *during each loop __iteration__*, what do you need to update _inside_ the loop?\n",
    "    - and *after the loop*, what result do you want to show?"
   ]
  },
  {
   "cell_type": "markdown",
   "metadata": {
    "slideshow": {
     "slide_type": "fragment"
    }
   },
   "source": [
    "* Think about what condition should make the loop end\n",
    "    - Make sure there is something that changes inside the loop that will eventually allow the loop's condition to be `False`\n"
   ]
  },
  {
   "cell_type": "markdown",
   "metadata": {
    "slideshow": {
     "slide_type": "slide"
    }
   },
   "source": [
    "## Exercise #1:"
   ]
  },
  {
   "cell_type": "code",
   "execution_count": 1,
   "metadata": {},
   "outputs": [
    {
     "name": "stdout",
     "output_type": "stream",
     "text": [
      "10\n",
      "9\n",
      "8\n",
      "7\n",
      "6\n",
      "5\n",
      "4\n",
      "3\n",
      "2\n",
      "1\n"
     ]
    }
   ],
   "source": [
    "# write the loop that gives the following output:\n",
    "\n",
    "# before the loop , set variables \n",
    "\n",
    "# during, print and increment "
   ]
  },
  {
   "cell_type": "code",
   "execution_count": 2,
   "metadata": {
    "slideshow": {
     "slide_type": "-"
    }
   },
   "outputs": [
    {
     "name": "stdout",
     "output_type": "stream",
     "text": [
      "1\n",
      "2\n",
      "3\n",
      "4\n",
      "5\n",
      "6\n",
      "7\n",
      "8\n",
      "9\n",
      "10\n"
     ]
    }
   ],
   "source": [
    "# write the loop that gives you the following output:\n"
   ]
  },
  {
   "cell_type": "markdown",
   "metadata": {
    "slideshow": {
     "slide_type": "slide"
    }
   },
   "source": [
    "## Exercise #2:\n",
    "\n",
    "Prompt the user for an integer:\n",
    "\n",
    "Keep on dividing the nubmer by 2 while the number is still greater than or equal to 1:"
   ]
  },
  {
   "cell_type": "code",
   "execution_count": 70,
   "metadata": {},
   "outputs": [
    {
     "name": "stdout",
     "output_type": "stream",
     "text": [
      "please enter a number: 64\n",
      "64.0\n",
      "32.0\n",
      "16.0\n",
      "8.0\n",
      "4.0\n",
      "2.0\n",
      "1.0\n"
     ]
    }
   ],
   "source": [
    "# example output"
   ]
  },
  {
   "cell_type": "code",
   "execution_count": 13,
   "metadata": {},
   "outputs": [
    {
     "name": "stdout",
     "output_type": "stream",
     "text": [
      "please enter a number: 13\n",
      "13\n",
      "6.5\n",
      "3.25\n",
      "1.625\n"
     ]
    }
   ],
   "source": [
    "# example output"
   ]
  },
  {
   "cell_type": "markdown",
   "metadata": {
    "slideshow": {
     "slide_type": "slide"
    }
   },
   "source": [
    "## What does this code do?"
   ]
  },
  {
   "cell_type": "code",
   "execution_count": 71,
   "metadata": {},
   "outputs": [
    {
     "name": "stdout",
     "output_type": "stream",
     "text": [
      "How much did you make today: 50\n",
      "How much did you make today: 10\n",
      "How much did you make today: 70\n",
      "How much did you make today: 100\n",
      "How much did you make today: 50\n",
      "you made a total of 280.0\n"
     ]
    }
   ],
   "source": [
    "total = 0\n",
    "day = 1\n",
    "\n",
    "while day <= 5:\n",
    "    amount = float(input(\"How much did you make today: \"))\n",
    "    total = total + amount \n",
    "    day += 1\n",
    "print(\"you made a total of\", total)"
   ]
  },
  {
   "cell_type": "markdown",
   "metadata": {
    "slideshow": {
     "slide_type": "slide"
    }
   },
   "source": [
    "## What does this code do?"
   ]
  },
  {
   "cell_type": "code",
   "execution_count": 72,
   "metadata": {},
   "outputs": [
    {
     "name": "stdout",
     "output_type": "stream",
     "text": [
      "please enter a grade: 5\n",
      "please enter a grade: 5\n",
      "please enter a grade: 4.5\n",
      "please enter a grade: 4.5\n",
      "please enter a grade: 5\n",
      "4.8\n"
     ]
    }
   ],
   "source": [
    "total = 0\n",
    "counter = 0\n",
    "\n",
    "while counter < 5:\n",
    "    grade = float(input(\"please enter a grade: \"))\n",
    "    total += grade\n",
    "    counter += 1\n",
    "print(total / counter) ## what do you expect to be the output?"
   ]
  },
  {
   "cell_type": "markdown",
   "metadata": {
    "slideshow": {
     "slide_type": "slide"
    }
   },
   "source": [
    "## Exercise #3\n",
    "\n",
    "- write a loop that will execute 5 times\n",
    "- within the loop, get a float value from the user (the amount of rain that fell in a day)\n",
    "- use an accumulator to add up all of the rain that fell over the five days\n",
    "- outside of the loop, print out the sum of all of the rainfall"
   ]
  },
  {
   "cell_type": "code",
   "execution_count": 74,
   "metadata": {},
   "outputs": [
    {
     "name": "stdout",
     "output_type": "stream",
     "text": [
      "What is the rainfall? 0\n",
      "What is the rainfall? 0\n",
      "What is the rainfall? .5\n",
      "What is the rainfall? .10\n",
      "What is the rainfall? 0\n",
      "There was a total of 0.6 inches of rain\n"
     ]
    }
   ],
   "source": [
    "# example output\n"
   ]
  },
  {
   "cell_type": "markdown",
   "metadata": {
    "slideshow": {
     "slide_type": "slide"
    }
   },
   "source": [
    "## Exercise #4:\n",
    "- 1+2+3+4+5 is 15\n",
    "- 1+2+3+4+5+6 is 21\n",
    "- Prompt the user for an integer. Output the sum of all of the integers up to and including the input number"
   ]
  },
  {
   "cell_type": "code",
   "execution_count": 79,
   "metadata": {},
   "outputs": [
    {
     "name": "stdout",
     "output_type": "stream",
     "text": [
      "Please enter an integer: 5\n",
      "the sum of integers 1 through 5 is 15\n"
     ]
    }
   ],
   "source": [
    "# Example output\n"
   ]
  },
  {
   "cell_type": "code",
   "execution_count": 22,
   "metadata": {},
   "outputs": [
    {
     "name": "stdout",
     "output_type": "stream",
     "text": [
      "Please enter an integer: 6\n",
      "The sum of integers 1 through 6 is 21\n"
     ]
    }
   ],
   "source": [
    "# example output"
   ]
  },
  {
   "cell_type": "code",
   "execution_count": 23,
   "metadata": {},
   "outputs": [
    {
     "name": "stdout",
     "output_type": "stream",
     "text": [
      "Please enter an integer: 200\n",
      "The sum of integers 1 through 200 is 20100\n"
     ]
    }
   ],
   "source": [
    "# example output"
   ]
  },
  {
   "cell_type": "markdown",
   "metadata": {
    "slideshow": {
     "slide_type": "slide"
    }
   },
   "source": [
    "# If statements within loops\n",
    "\n",
    "Let's _trace_ this code:\n",
    "> _Trace_ means to go through it line by line to deterine how it works\n",
    "\n",
    "Question: What is happening?"
   ]
  },
  {
   "cell_type": "code",
   "execution_count": null,
   "metadata": {},
   "outputs": [],
   "source": [
    "a = 0\n",
    "x = 0\n",
    "\n",
    "while a < 5:\n",
    "    a+=1\n",
    "    b = int(input(\"Please enter an integer between 0 and 100: \"))\n",
    "    if b > x:\n",
    "        x = b\n",
    "print(\"The mysterious answer is\", x)"
   ]
  },
  {
   "cell_type": "markdown",
   "metadata": {
    "slideshow": {
     "slide_type": "slide"
    }
   },
   "source": [
    "## Exercise #5\n",
    "\n",
    "- Write the code that will loop 5 times\n",
    "- Prompt the user to enter 5 integers between 0 and 100\n",
    "- After the loop, print out the _minimum_ of the numbers entered\n",
    "- Use better variable names than the previous slide."
   ]
  },
  {
   "cell_type": "code",
   "execution_count": null,
   "metadata": {},
   "outputs": [],
   "source": []
  },
  {
   "cell_type": "markdown",
   "metadata": {
    "slideshow": {
     "slide_type": "slide"
    }
   },
   "source": [
    "# Admin Stuff"
   ]
  },
  {
   "cell_type": "markdown",
   "metadata": {
    "slideshow": {
     "slide_type": "fragment"
    }
   },
   "source": [
    "You should be working on:\n",
    "- Quiz #1 is released today, due Monday September 25th by 11:49 pm\n",
    "\n",
    "- [Reading ](https://python.swaroopch.com/control_flow.html)\n",
    "- [Reading ](https://analytics.drake.edu/~urness/CS65Text/Chapter4.html) "
   ]
  },
  {
   "cell_type": "code",
   "execution_count": null,
   "metadata": {},
   "outputs": [],
   "source": []
  }
 ],
 "metadata": {
  "celltoolbar": "Slideshow",
  "kernelspec": {
   "display_name": "Python 3 (ipykernel)",
   "language": "python",
   "name": "python3"
  },
  "language_info": {
   "codemirror_mode": {
    "name": "ipython",
    "version": 3
   },
   "file_extension": ".py",
   "mimetype": "text/x-python",
   "name": "python",
   "nbconvert_exporter": "python",
   "pygments_lexer": "ipython3",
   "version": "3.11.4"
  }
 },
 "nbformat": 4,
 "nbformat_minor": 4
}
