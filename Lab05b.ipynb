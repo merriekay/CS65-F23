{
 "cells": [
  {
   "cell_type": "markdown",
   "id": "180dcd46",
   "metadata": {},
   "source": [
    "# Lab 5b: Store\n",
    "\n",
    "### Due: Monday, October 2nd, 2023\n",
    "#### Fall 2023 | CS 65\n",
    "\n",
    "This is “Part B” of Lab #5, worth 2 points. It will not be automatically graded, though you will still submit via CodePost. Professor Moore will view your code and award points accordingly.\n",
    "\n",
    "\n",
    "In this lab, you are going to simulate an online store, using a while loop, accumulator variables, and an ifelif-else statement.\n",
    "\n",
    "\n",
    "See below for some sample starter code. It is incomplete and contains a few errors. Update the code and\n",
    "submit it for Lab5B.\n",
    "\n",
    "The complete program should do the following:\n",
    "- Print out a “menu” or items to buy with their prices. There must be at least 3 items. Please change this to make it more interesting than apples, bananas, and carrots!\n",
    "\n",
    "- Prompt the user for something they would like to buy; If the user enters the string that matches an item from the menu, the cost should be added to the total cost\n",
    "\n",
    "- Prompt the user if they wish to continue shopping; If the user enters “yes” (capitalization does not matter as any version of “Yes”, “YES”, “yeS” will suffice) continue looping and asking what they want to buy.\n",
    "\n",
    "- After the loop, output the total cost. Note that the number should be immediately preceded by a \\$ (no space between)"
   ]
  },
  {
   "cell_type": "code",
   "execution_count": null,
   "id": "d98c453b",
   "metadata": {},
   "outputs": [],
   "source": [
    "# print out the menu:\n",
    "print(\"Menu\")\n",
    "print(\"Apples... $1\")\n",
    "print(\"Bananas...$2\")\n",
    "print(\"Carrots...$3\")\n",
    "\n",
    "response = \"yes\"\n",
    "total = 0\n",
    "\n",
    "# loop while the user wants to keep shopping\n",
    "while response == 'yes': # will this also work for YES?\n",
    "    purchase = input(\"what would you like to buy?\")\n",
    "    if purchase.lower() == 'apples':\n",
    "        total += 1\n",
    "    # missing something here... what about bananas and carrots?\n",
    "    \n",
    "    response = input(\"would you like to buy anything else? \")\n",
    "\n",
    "# print out the final bill\n",
    "print(\" You owe $\", total, end=\"\") # is this the correct format?"
   ]
  },
  {
   "cell_type": "markdown",
   "id": "86e386d9",
   "metadata": {},
   "source": [
    "## Example Outputs:"
   ]
  },
  {
   "cell_type": "code",
   "execution_count": 5,
   "id": "45817e45",
   "metadata": {},
   "outputs": [
    {
     "name": "stdout",
     "output_type": "stream",
     "text": [
      "Menu\n",
      "Rose... $1\n",
      "Tulip...$2\n",
      "Iris...$3\n",
      "what would you like to buy? ROSE\n",
      "would you like to buy anything else? YES\n",
      "what would you like to buy? tulip\n",
      "would you like to buy anything else? yeS\n",
      "what would you like to buy? IrIs\n",
      "would you like to buy anything else? yes\n",
      "what would you like to buy? Cheese\n",
      "Sorry, we don't sell that here. Please try again.\n",
      "would you like to buy anything else? no\n",
      "You owe $6\n"
     ]
    }
   ],
   "source": [
    "# example output #1"
   ]
  },
  {
   "cell_type": "code",
   "execution_count": 6,
   "id": "41bca794",
   "metadata": {},
   "outputs": [
    {
     "name": "stdout",
     "output_type": "stream",
     "text": [
      "Menu\n",
      "Rose... $1\n",
      "Tulip...$2\n",
      "Iris...$3\n",
      "what would you like to buy? tulip\n",
      "would you like to buy anything else? yes\n",
      "what would you like to buy? iris\n",
      "would you like to buy anything else? no\n",
      "You owe $5\n"
     ]
    }
   ],
   "source": [
    "# example output #2"
   ]
  },
  {
   "cell_type": "code",
   "execution_count": 7,
   "id": "c442f8f5",
   "metadata": {},
   "outputs": [
    {
     "name": "stdout",
     "output_type": "stream",
     "text": [
      "Menu\n",
      "Rose... $1\n",
      "Tulip...$2\n",
      "Iris...$3\n",
      "what would you like to buy? Rose\n",
      "would you like to buy anything else? yes\n",
      "what would you like to buy? hydrangea\n",
      "Sorry, we don't sell that here. Please try again.\n",
      "would you like to buy anything else? no\n",
      "You owe $1\n"
     ]
    }
   ],
   "source": [
    "# example output #3"
   ]
  },
  {
   "cell_type": "markdown",
   "id": "b2d81ad1",
   "metadata": {},
   "source": [
    "When you are finished, submit your solution to the __Lab 5b: Store__ assignment on codePost."
   ]
  },
  {
   "cell_type": "code",
   "execution_count": null,
   "id": "4854dd9f",
   "metadata": {},
   "outputs": [],
   "source": []
  }
 ],
 "metadata": {
  "kernelspec": {
   "display_name": "Python 3 (ipykernel)",
   "language": "python",
   "name": "python3"
  },
  "language_info": {
   "codemirror_mode": {
    "name": "ipython",
    "version": 3
   },
   "file_extension": ".py",
   "mimetype": "text/x-python",
   "name": "python",
   "nbconvert_exporter": "python",
   "pygments_lexer": "ipython3",
   "version": "3.11.4"
  }
 },
 "nbformat": 4,
 "nbformat_minor": 5
}
