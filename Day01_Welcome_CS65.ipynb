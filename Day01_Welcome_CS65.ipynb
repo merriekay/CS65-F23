{
 "cells": [
  {
   "cell_type": "markdown",
   "metadata": {
    "slideshow": {
     "slide_type": "slide"
    }
   },
   "source": [
    "# CS65: Day 01\n",
    "## Welcome to CS65!\n",
    "\n",
    "####  CS65: Introduction to Computer Science I | Fall 2023\n",
    "\n",
    "Monday, August 28th, 2023\n",
    "\n",
    " 📜 [Syllabus](https://docs.google.com/document/d/1JTRJ-22abpu3HNhHzE2NaGfstNrrBav1MSQcLIMBWe4/edit?usp=sharing) | 📬 [CodePost Login](https://codepost.io/login) | 📆 [Schedule](https://docs.google.com/spreadsheets/d/e/2PACX-1vS51v65qE22qEyhLTF_q5sF_4Nu1GhWU4mDgfsF7NY8Yrjl5-ismCyXjHiR4Fuxqd1cJ9dY5l55CcV0/pubhtml?gid=0&single=true) | 🙋 [Polleverywhere](https://pollev.com/moore) | 🪴 [Office Hour Sign Up](https://calendly.com/meredith-moore/office-hours)"
   ]
  },
  {
   "cell_type": "markdown",
   "metadata": {
    "slideshow": {
     "slide_type": "slide"
    }
   },
   "source": [
    "> Note to self: Make sure you're recording 🎥"
   ]
  },
  {
   "cell_type": "markdown",
   "metadata": {
    "slideshow": {
     "slide_type": "slide"
    }
   },
   "source": [
    "# Hello!\n",
    "\n",
    "I'm Meredith Moore, the instructor for CS65.\n",
    "\n",
    "__Meredith Moore, Ph.D.__\n",
    "- Ph.D. in Computer Science from ASU in 2020\n",
    "- B.S. in Computer Science and Neuroscience from Drake University in 2015\n",
    "- Starting my 4th year teaching at Drake\n",
    "\n",
    "Contact Info:\n",
    "- meredith.moore@drake.edu\n",
    "- Collier Scripps Hall 325"
   ]
  },
  {
   "cell_type": "markdown",
   "metadata": {
    "slideshow": {
     "slide_type": "slide"
    }
   },
   "source": [
    "# Attendance"
   ]
  },
  {
   "cell_type": "markdown",
   "metadata": {
    "slideshow": {
     "slide_type": "slide"
    }
   },
   "source": [
    "# 👋 Introductions:\n",
    "\n",
    "This class will be highly interacive--you will be asked multiple times a class to talk to your neighbors. Let's start out by getting to know your neighbors. \n",
    "\n",
    "> _(yes, first years, I know you're all tired of introducing yourself after welcome week, but please bear with me)_\n",
    "\n",
    "Go around the table and introduce yourself. Things to include:\n",
    "- Name, pronouns\n",
    "- Year, major(s)/ minors(s)\n",
    "- Where you're from\n",
    "- Any previous computer science experience? (keep in mind, this is an intro class and there is no expectation that you have previous experience)"
   ]
  },
  {
   "cell_type": "markdown",
   "metadata": {
    "slideshow": {
     "slide_type": "slide"
    }
   },
   "source": [
    "## Quick Debrief: "
   ]
  },
  {
   "cell_type": "markdown",
   "metadata": {
    "slideshow": {
     "slide_type": "slide"
    }
   },
   "source": [
    "# Today's Overview:\n",
    "\n",
    "- Part 1: Course Overview / Syllabus\n",
    "- Part 2: Introduction to Computer Science"
   ]
  },
  {
   "cell_type": "markdown",
   "metadata": {
    "slideshow": {
     "slide_type": "slide"
    }
   },
   "source": [
    "# Part 1: Course Overview"
   ]
  },
  {
   "cell_type": "markdown",
   "metadata": {
    "slideshow": {
     "slide_type": "slide"
    }
   },
   "source": [
    "# Course Expectations:\n",
    "There is no programming prequesite for this course.\n",
    "- as long as you can type and turn on a computer (and think logically), you can earn an A in this course.\n",
    "- Those with programming experience, be careful\n",
    "<div>\n",
    "<img src=\"images/day01_noexp.png\"/ width=300>\n",
    "</div>"
   ]
  },
  {
   "cell_type": "markdown",
   "metadata": {
    "slideshow": {
     "slide_type": "slide"
    }
   },
   "source": [
    "# 🛠 Course Tools\n",
    "\n",
    "There are a few tools that we will use to make this course run smoothly:\n",
    "- __Blackboard__: slides, code, labs, announcements\n",
    "- __CodePost__: code will be submitted to CodePost for grading\n",
    "- __PollEverywhere__: attendance, review questions, concept checks, reflections\n",
    "- __Thonny__: Thonny is what we will use to write Python programs in"
   ]
  },
  {
   "cell_type": "markdown",
   "metadata": {
    "slideshow": {
     "slide_type": "slide"
    }
   },
   "source": [
    "# A Note on Content Delivery\n",
    "\n",
    "You might notice that these slides aren't Powerpoint or Google Slides...\n",
    "\n",
    "I'm using Jupyter Notebooks (a way of writing code and text together), and presenting them as slides. \n",
    "\n",
    "I understand that this might mean you have to adjust how you take notes in this class. \n",
    "\n",
    "I'll demonstrate how I'd take notes if I were you. It involves using Google Drive and another great tool called Google Colaboratory. "
   ]
  },
  {
   "cell_type": "code",
   "execution_count": 1,
   "metadata": {},
   "outputs": [
    {
     "name": "stdout",
     "output_type": "stream",
     "text": [
      "Hello world!\n"
     ]
    }
   ],
   "source": [
    "# demo code here\n",
    "print(\"Hello world!\")"
   ]
  },
  {
   "cell_type": "markdown",
   "metadata": {
    "slideshow": {
     "slide_type": "slide"
    }
   },
   "source": [
    "## 🫶 An Accommodation Request\n",
    "\n",
    "It is a personal goal of mine to respond to your emails within 24 hours of you sending it. However... I have ADHD and I don't always make that happen. \n",
    "\n",
    "__My ask__: If it has been more than 24 hours and you haven't heard from me, please feel free to forward me your email again with a simple \"bump\" in the message to provide me a gentle reminder to respond. \n"
   ]
  },
  {
   "cell_type": "markdown",
   "metadata": {
    "slideshow": {
     "slide_type": "slide"
    }
   },
   "source": [
    "# Blackboard Tour"
   ]
  },
  {
   "cell_type": "markdown",
   "metadata": {
    "slideshow": {
     "slide_type": "slide"
    }
   },
   "source": [
    "# 📜 Syllabus\n",
    "\n",
    "[The syllabus is available here](https://docs.google.com/document/d/1JTRJ-22abpu3HNhHzE2NaGfstNrrBav1MSQcLIMBWe4/edit?usp=sharing) (also on blackboard)\n",
    "\n",
    "Please read the syllabus prior to class on Wednesday. \n",
    "\n",
    "It specifies expectations (for you and for me):\n",
    "- Assignments\n",
    "- Plagiarism\n",
    "- Contacting me\n",
    "- Course goals\n",
    "\n",
    "I'll go over some of the most important pieces in the next few slides."
   ]
  },
  {
   "cell_type": "markdown",
   "metadata": {
    "slideshow": {
     "slide_type": "slide"
    }
   },
   "source": [
    "## 💼 Office Hours\n",
    "\n",
    "Monday, Wednesday, Friday:\n",
    "- 12:30 pm - 2:30 pm\n",
    "- Collier Scripps 325\n",
    "\n",
    "Use this link to schedule: https://calendly.com/meredith-moore/office-hours"
   ]
  },
  {
   "cell_type": "code",
   "execution_count": 7,
   "metadata": {
    "slideshow": {
     "slide_type": "slide"
    }
   },
   "outputs": [
    {
     "data": {
      "text/html": [
       "<iframe src=\"https://calendly.com/meredith-moore/office-hours\" width=\"1200\" height=\"600\"></iframe>\n"
      ],
      "text/plain": [
       "<IPython.core.display.HTML object>"
      ]
     },
     "metadata": {},
     "output_type": "display_data"
    }
   ],
   "source": [
    "%%html\n",
    "<iframe src=\"https://calendly.com/meredith-moore/office-hours\" width=\"1200\" height=\"600\"></iframe>"
   ]
  },
  {
   "cell_type": "markdown",
   "metadata": {
    "slideshow": {
     "slide_type": "slide"
    }
   },
   "source": [
    "# Teaching Assistants:\n",
    "\n",
    "Section 0 (9:30 - 10:45): __Lane Affield__\n",
    "- lane.affield@drake.edu\n",
    "\n",
    "Section 1 (11:00 - 12:15): __Jenna Steffl__\n",
    "- jenna.steffl@drake.edu\n",
    "\n",
    "They will be walking around helping with group exercises. If you have questions on assignments, please CC your TA."
   ]
  },
  {
   "cell_type": "markdown",
   "metadata": {
    "slideshow": {
     "slide_type": "slide"
    }
   },
   "source": [
    "# 📚 Textbook(s)\n",
    "\n",
    "It's been my experience htat most students can do well in the course using the lecture notes and code examples provided.\n",
    "\n",
    "I don't want to make you purchase a text that will go out of date or that won't be used again. \n",
    "\n",
    "There are plenty of free, open-source, online textbooks\n",
    "\n",
    "A small inconvenience: there isn't one online textbook that does it all. \n",
    "\n",
    "I don't love _everything_  about any text\n",
    "\n",
    "I will post links to chapters of a textbook that will provide supplementary materials for you each class. (each session is technically 2 classes)"
   ]
  },
  {
   "cell_type": "markdown",
   "metadata": {
    "slideshow": {
     "slide_type": "slide"
    }
   },
   "source": [
    "- [Think Python: How to Think Like a Computer Scientist](https://greenteapress.com/thinkpython2/html/index.html) 2nd Edition by Allen B. Downey\n",
    "- [A Practical Introduction to Python Programming](https://www.brianheinold.net/python/python_book.html) by Brian Heinold\n",
    "- [A Byte of Python](https://python.swaroopch.com/) by Swaroop\n",
    "- [Python for Everybody](https://www.py4e.com/lessons) by Charles Severance"
   ]
  },
  {
   "cell_type": "markdown",
   "metadata": {
    "slideshow": {
     "slide_type": "slide"
    }
   },
   "source": [
    "## Reading for Wednesday:\n",
    "\n",
    "Reading #1: [About Python](https://python.swaroopch.com/about_python.html) from \"A Byte of Python\"\n",
    "- why is it called Python?\n",
    "- Advantgaes of Python"
   ]
  },
  {
   "cell_type": "markdown",
   "metadata": {
    "slideshow": {
     "slide_type": "slide"
    }
   },
   "source": [
    "# Grading Policy:\n",
    "\n",
    "| **Activity**     | **% Final Grade** |\n",
    "|:------------------|:-------------------|\n",
    "| Programming Labs | 35%               |\n",
    "| Content Quizzes  | 35%               |\n",
    "| Final Project    | 20%               |\n",
    "| Participation    | 10%               |"
   ]
  },
  {
   "cell_type": "markdown",
   "metadata": {
    "slideshow": {
     "slide_type": "slide"
    }
   },
   "source": [
    "## Programming Labs (35%):\n",
    "\n",
    "A seires of short execises accompanying nearly each class topic, usually culminating in a challenge exercise which will be submitted for credit.\n",
    "- Submitted via CodePost (we'll talk more about this later)\n",
    "- There will be many of these (like one a class period)\n",
    "- Often auto-graded (we'll learn more about this later)\n",
    "- 4 points each"
   ]
  },
  {
   "cell_type": "markdown",
   "metadata": {
    "slideshow": {
     "slide_type": "slide"
    }
   },
   "source": [
    "## Content Quizzes (35%)\n",
    "\n",
    "Open-note, open-book, take-home quizzes that will be submitted via Blackboard\n",
    "\n",
    "You will be gien (approximately 24 hours to complete them)\n",
    "\n",
    "Dates TBD, but I'll give you advance warning."
   ]
  },
  {
   "cell_type": "markdown",
   "metadata": {
    "slideshow": {
     "slide_type": "slide"
    }
   },
   "source": [
    "## Final Project (20%)\n",
    "\n",
    "You will develop a program of your choosing that incorporates many different programming concepts you have learned throughout the semester. \n",
    "\n",
    "The final project is to be completed individually."
   ]
  },
  {
   "cell_type": "markdown",
   "metadata": {
    "slideshow": {
     "slide_type": "slide"
    }
   },
   "source": [
    "## Participation (10%)\n",
    "\n",
    "We will use PollEverywhere in each class to take attendance, review concepts from the previous class, as well as test the understanding of new concepts. \n",
    "\n",
    "Your PollEverywhere answers will not be judged on correctness–-we’re here to learn and will certainly make mistakes along the way. Instead, you will be given participation points for submitting your answers each day using PollEverywhere."
   ]
  },
  {
   "cell_type": "markdown",
   "metadata": {
    "slideshow": {
     "slide_type": "slide"
    }
   },
   "source": [
    "## Grade Scale\n",
    "\n",
    "<div>\n",
    "<img src=\"images/day01_gradescale.png\"/ width=500>\n",
    "</div>"
   ]
  },
  {
   "cell_type": "markdown",
   "metadata": {
    "slideshow": {
     "slide_type": "slide"
    }
   },
   "source": [
    "## Collaboration Policy and Academic Integrity\n",
    "- You may work together on _labs_\n",
    "- You may __not__ work together on _projects and quizzes_\n",
    "- When working together, say who you worked with in the code comments\n",
    "- When taking code from somewhere on the Internet, cite it in your comments and provide a link\n",
    "- May not look at code from previous students in the course\n",
    "- May not search the Internet for solutions\n",
    "- First violation: 0 on that thing\n",
    "- Second violation: F for the course"
   ]
  },
  {
   "cell_type": "markdown",
   "metadata": {
    "slideshow": {
     "slide_type": "slide"
    }
   },
   "source": [
    "# Introductory Questionnaire\n",
    "\n",
    "Before class on Tuesday, please answer the questions on the [introductory questionnaire](https://forms.gle/DXPzsi16PKzM7Ls46).\n",
    "\n",
    "This take-home questionnaire is intended to help the professor learn more about you."
   ]
  },
  {
   "cell_type": "markdown",
   "metadata": {
    "slideshow": {
     "slide_type": "slide"
    }
   },
   "source": [
    "## Participation Cards:\n",
    "\n",
    "It is a goal of mine to make my classrooms as __inclusive and equitable as possible__. \n",
    "\n",
    "Towards this goal, we will be using __participation cards__. \n",
    "\n",
    "How it's going to work: \n",
    "- Today, in class, we're going ot make __participation cards__\n",
    "- At the start of class, I'll shuffle and draw a card. The person whose name is on that card becomes the __card bearer__ for the day. \n",
    "- The __card bearer__ is responsible for flipping cards and calling out the person whose name is on the card when I ask them to. "
   ]
  },
  {
   "cell_type": "markdown",
   "metadata": {
    "slideshow": {
     "slide_type": "slide"
    }
   },
   "source": [
    "## Participation Cards (continued)\n",
    "\n",
    "If your name is called out by the card bearer you have a few options: \n",
    "1. Answer the question\n",
    "2. Ask what the question was (you'll be surprised how often, even I, forget what the question was). \n",
    "3. Say 'Pass', or 'I'm not sure'\n",
    "4. Ask for a group 'huddle', where you can talk to your neighbors for a solution.\n",
    "\n",
    "Participation cards are a solution to help the class participation be more equitable. They're not meant to induce anxiety, and I hope you'll find I use them in a way that is more fun than anxiety inducing. "
   ]
  },
  {
   "cell_type": "markdown",
   "metadata": {
    "slideshow": {
     "slide_type": "slide"
    }
   },
   "source": [
    "# 🎨 Arts and Crafts Time\n",
    "\n",
    "Time to make your participation card!\n",
    "\n",
    "> Make sure the following is neat, and clear so that the class can read your name.\n",
    "\n",
    "What to include:\n",
    "- __name__: (what you want to be called), at least first name and last initial, pronunciation help if you think it's necessary \n",
    "- __pronouns__: \n",
    "- __class name__: CS167\n",
    "- Feel free to add decorations or whatever you'd like, but make sure your name is clearly readable."
   ]
  },
  {
   "cell_type": "markdown",
   "metadata": {
    "slideshow": {
     "slide_type": "slide"
    }
   },
   "source": [
    "## 🎶 Spotify Collaborative In-Class Playlist\n",
    "\n",
    "There will be plenty of time to work on exercises in this class. During these times, I like to play music. \n",
    "\n",
    "Here is a link to a collaborative spotify playlist called __Fall 2023 -- CS65 Mix__\n",
    "- https://open.spotify.com/playlist/5eANsSKXECtYEXHWm7DaJB?si=dad3f1393cf44751&pt=45e0f588070c1382efe585ba6cc44fdc \n",
    "\n",
    "If you copy and paste the link into your spotify search bar, I think it will find it. This has been a struggle previous years, but we've been able to make it work\n",
    "\n",
    "Please keeps songs at least somewhat appropriate (they can be explicit, but should be respectful). I reserve the right to remove songs. "
   ]
  },
  {
   "cell_type": "markdown",
   "metadata": {
    "slideshow": {
     "slide_type": "slide"
    }
   },
   "source": [
    "# 🙋 Questions?"
   ]
  },
  {
   "cell_type": "markdown",
   "metadata": {
    "slideshow": {
     "slide_type": "slide"
    }
   },
   "source": [
    "# Part 2: Introduction to Computer Science"
   ]
  },
  {
   "cell_type": "markdown",
   "metadata": {
    "slideshow": {
     "slide_type": "slide"
    }
   },
   "source": [
    "# What is Computer Science?"
   ]
  },
  {
   "cell_type": "markdown",
   "metadata": {
    "slideshow": {
     "slide_type": "fragment"
    }
   },
   "source": [
    "Study of Computers?"
   ]
  },
  {
   "cell_type": "markdown",
   "metadata": {
    "slideshow": {
     "slide_type": "fragment"
    }
   },
   "source": [
    "Programming?"
   ]
  },
  {
   "cell_type": "markdown",
   "metadata": {
    "slideshow": {
     "slide_type": "fragment"
    }
   },
   "source": [
    "Computer science is the study of __algorithms__."
   ]
  },
  {
   "cell_type": "markdown",
   "metadata": {
    "slideshow": {
     "slide_type": "slide"
    }
   },
   "source": [
    "## 🚨🚨 Terminology Alert 🚨🚨\n",
    "An __algorithm__ is a step-by-step procedure for producing a solution to a given problem. "
   ]
  },
  {
   "cell_type": "markdown",
   "metadata": {
    "slideshow": {
     "slide_type": "slide"
    }
   },
   "source": [
    "# Algorithm Examples?"
   ]
  },
  {
   "cell_type": "markdown",
   "metadata": {
    "slideshow": {
     "slide_type": "slide"
    }
   },
   "source": [
    "\n",
    "<div>\n",
    "<img src=\"images/day01_algo_ex1.png\"/ width=700>\n",
    "</div>"
   ]
  },
  {
   "cell_type": "markdown",
   "metadata": {
    "slideshow": {
     "slide_type": "slide"
    }
   },
   "source": [
    "\n",
    "<div>\n",
    "<img src=\"images/day01_algo_ex2.png\"/ width=600>\n",
    "</div>"
   ]
  },
  {
   "cell_type": "markdown",
   "metadata": {
    "slideshow": {
     "slide_type": "slide"
    }
   },
   "source": [
    "\n",
    "<div>\n",
    "<img src=\"images/day01_algo_ex3.png\"/ width=600>\n",
    "</div>"
   ]
  },
  {
   "cell_type": "markdown",
   "metadata": {
    "slideshow": {
     "slide_type": "slide"
    }
   },
   "source": [
    "Making a peanut butter and jelly sandwich..."
   ]
  },
  {
   "cell_type": "markdown",
   "metadata": {
    "slideshow": {
     "slide_type": "slide"
    }
   },
   "source": [
    "# 💬 Goup Exercise:\n",
    "\n",
    "1. Discuss the algorithm for making a peanut butter and jelly sandwich.\n",
    "2. Write down your algorithm\n",
    "\n",
    "You have 5 minutes. Be ready to discuss."
   ]
  },
  {
   "cell_type": "markdown",
   "metadata": {
    "slideshow": {
     "slide_type": "slide"
    }
   },
   "source": [
    "# Why program?\n",
    "\n",
    "Why is programming such a valuable skill? \n",
    "- computers are tools that can be programmed to perform many functions. \n",
    "\n",
    "Implement _ _ _ _ _  to solve problems or calculate answers to problems, listen to music, give recommendations, display images, play videos..."
   ]
  },
  {
   "cell_type": "markdown",
   "metadata": {
    "slideshow": {
     "slide_type": "slide"
    }
   },
   "source": [
    "# Why program?\n",
    "\n",
    "Why is programming such a valuable skill? \n",
    "- computers are tools that can be programmed to perform many functions. \n",
    "\n",
    "Implement __algorithms__ to solve problems or calculate answers to problems, listen to music, give recommendations, display images, play videos..."
   ]
  },
  {
   "cell_type": "markdown",
   "metadata": {
    "slideshow": {
     "slide_type": "slide"
    }
   },
   "source": [
    "# Computer Programs:\n",
    "\n",
    "## 🚨🚨 Terminology Alert 🚨🚨\n",
    "A __program__ is a sequence of instructions that specifies how to perform a computation.\n",
    "\n",
    "Computers are not intelligent!\n",
    "- All they do is follow instructions"
   ]
  },
  {
   "cell_type": "markdown",
   "metadata": {
    "slideshow": {
     "slide_type": "fragment"
    }
   },
   "source": [
    "__Programming languages__ are formal languages that have been designed to express (compute) computations."
   ]
  },
  {
   "cell_type": "markdown",
   "metadata": {
    "slideshow": {
     "slide_type": "fragment"
    }
   },
   "source": [
    "Programming langauges have strict rules, known as __syntax__, that must be carefully followed. \n",
    "- much like grammar"
   ]
  },
  {
   "cell_type": "markdown",
   "metadata": {
    "slideshow": {
     "slide_type": "slide"
    }
   },
   "source": [
    "# Integrated Development Environment (IDE)\n",
    "\n",
    "An Integrated Development Environment (IDE) is a software system that allows programmers to develop and test code. \n",
    "\n",
    "For this class we'll primarly use an IDE called __Thonny__.\n",
    "\n",
    "<div>\n",
    "<img src=\"images/day01_thonny.png\"/ width=600>\n",
    "</div>\n"
   ]
  },
  {
   "cell_type": "markdown",
   "metadata": {
    "slideshow": {
     "slide_type": "slide"
    }
   },
   "source": [
    "## A metaphor:\n",
    "\n",
    "We're going to start simple... \n",
    "<div>\n",
    "<img src=\"images/day01_thonny_metaphor.png\"/ width=800>\n",
    "</div>\n"
   ]
  },
  {
   "cell_type": "markdown",
   "metadata": {
    "slideshow": {
     "slide_type": "slide"
    }
   },
   "source": [
    "# Download Thonny\n",
    "\n",
    "https://thonny.org/ \n",
    "\n",
    "Show download procedure, and run first program."
   ]
  },
  {
   "cell_type": "markdown",
   "metadata": {
    "slideshow": {
     "slide_type": "slide"
    }
   },
   "source": [
    "# How to Program\n",
    "\n",
    "Programming is not a linear process. You don't just sit down, start writing the first line of code and then keep writing until you're done. \n",
    "\n",
    "Good programmers _design_ their programs before they start writing. \n",
    "- much like having an outline for an essay\n",
    "\n",
    "(a simple) program development cycle:\n",
    "- design the program\n",
    "- write the code\n",
    "- correct syntax errors\n",
    "- test the program\n",
    "- correct logic errors"
   ]
  },
  {
   "cell_type": "markdown",
   "metadata": {
    "slideshow": {
     "slide_type": "slide"
    }
   },
   "source": [
    "# Resiliency in Computer Science\n",
    "\n",
    "One of the best indicators of success in a computer science student is their ability to be __resilient__. \n",
    "\n",
    "Programs almost never work on the first try. To get code to work, you'll have to sit with it, fiddle with it, and try, try again.\n",
    "\n",
    "At first, computer science can be _very_ frustrating. This doesn't mean you're bad at computer science. It just means that you're learning and with every error you run into, you'll be better prepared in the future.\n",
    "\n",
    "This course will work to build your tool box of computer science concepts that you can use to build whatever the heck you want. "
   ]
  },
  {
   "cell_type": "markdown",
   "metadata": {
    "slideshow": {
     "slide_type": "slide"
    }
   },
   "source": [
    "# Psueudocode\n",
    "\n",
    "__Pseudocode__ is an informal 'language' that has no syntax rules\n",
    "- not meant to be compiled or executed (run)\n",
    "- used to create model programs (think scaffolding/outlines)\n",
    "    - no need to worry about syntax errors, can focus on the program's design.\n",
    "    - can be translated directly into actual code in any programming langauge.\n",
    "    \n",
    "I encourage you to always start with pseudocode before you build a program. "
   ]
  },
  {
   "cell_type": "markdown",
   "metadata": {
    "slideshow": {
     "slide_type": "slide"
    }
   },
   "source": [
    "# 🍪 Goup Exercise:\n",
    "\n",
    "A cookie recipe calls for the following ingredients:\n",
    "- 1.5 cups of sugar\n",
    "- 1 cup of butter\n",
    "- 2.75 cups of flour\n",
    "\n",
    "The recipe produces 48 cookies.\n",
    "\n",
    "Take a couple of minutes and write out the __psuedocode__ for a program that:\n",
    "- asks the user how many cookies they would like to make\n",
    "- then displays the number of cups of each ingredient needd for the specified number of cookies"
   ]
  },
  {
   "cell_type": "markdown",
   "metadata": {
    "slideshow": {
     "slide_type": "slide"
    }
   },
   "source": [
    "## _cookie_algorithm.py_ "
   ]
  },
  {
   "cell_type": "markdown",
   "metadata": {
    "slideshow": {
     "slide_type": "slide"
    }
   },
   "source": [
    "# 🐍 Python\n",
    "\n",
    "Python is a programming langauge.\n",
    "- It's main purpose is to convert statements (instructions or _source code_) that programmers write into statements that can be executed on a computer. \n",
    "    - __interpreter__: a program that executes computer code.\n",
    "- __syntax__: rules that must be followed so that the interpreter can successfully convert the written instructions to statements the computer can execute."
   ]
  },
  {
   "cell_type": "markdown",
   "metadata": {
    "slideshow": {
     "slide_type": "slide"
    }
   },
   "source": [
    "# Keywords\n",
    "\n",
    "Programming langauges have __keywords__ or __reserved words__\n",
    "- words that have a specified meaning as part of the syntax of the language.\n",
    "\n",
    "<div>\n",
    "<img src=\"images/day01_keywords.png\"/ width=700>\n",
    "</div>"
   ]
  },
  {
   "cell_type": "code",
   "execution_count": null,
   "metadata": {},
   "outputs": [],
   "source": [
    "#try it out:"
   ]
  },
  {
   "cell_type": "markdown",
   "metadata": {
    "slideshow": {
     "slide_type": "slide"
    }
   },
   "source": [
    "## What to work on:\n",
    "\n",
    "Usually, we'll have less work than this, I promise!!\n",
    "\n",
    "1. Read [syllabus]()\n",
    "\n",
    "2. Complete [Introductory Questionnaire](https://forms.gle/JSpLJgsFkyMJ4vz59)\n",
    "\n",
    "3. Download / Install Thonny https://thonny.org/ \n",
    "\n",
    "4. Sign in to Polleverywhere https://pollev.com/moore\n",
    "\n",
    "5. Register for CodePost https://codepost.io/signup/join?code=3DCN7HSXZP\n",
    "\n",
    "6. (optional) add a few songs to the course playlist\n",
    "\n",
    "### Resources:\n",
    "Reading #1: [About Python](https://python.swaroopch.com/about_python.html) from \"A Byte of Python\"\n",
    "- why is it called Python?\n",
    "- Advantgaes of Python"
   ]
  },
  {
   "cell_type": "code",
   "execution_count": null,
   "metadata": {},
   "outputs": [],
   "source": []
  }
 ],
 "metadata": {
  "celltoolbar": "Slideshow",
  "kernelspec": {
   "display_name": "Python 3 (ipykernel)",
   "language": "python",
   "name": "python3"
  },
  "language_info": {
   "codemirror_mode": {
    "name": "ipython",
    "version": 3
   },
   "file_extension": ".py",
   "mimetype": "text/x-python",
   "name": "python",
   "nbconvert_exporter": "python",
   "pygments_lexer": "ipython3",
   "version": "3.11.4"
  }
 },
 "nbformat": 4,
 "nbformat_minor": 4
}
