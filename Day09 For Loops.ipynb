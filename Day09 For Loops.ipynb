{
 "cells": [
  {
   "cell_type": "markdown",
   "metadata": {
    "slideshow": {
     "slide_type": "slide"
    }
   },
   "source": [
    "# CS65: Day 09\n",
    "## For Loops\n",
    "\n",
    "####  CS65: Introduction to Computer Science I | Fall 2023\n",
    "\n",
    "Wednesday, September 27th, 2023\n",
    "\n",
    " 📜 [Syllabus](https://docs.google.com/document/d/1JTRJ-22abpu3HNhHzE2NaGfstNrrBav1MSQcLIMBWe4/edit?usp=sharing) | 📬 [CodePost Login](https://codepost.io/login) | 📆 [Schedule](https://docs.google.com/spreadsheets/d/e/2PACX-1vS51v65qE22qEyhLTF_q5sF_4Nu1GhWU4mDgfsF7NY8Yrjl5-ismCyXjHiR4Fuxqd1cJ9dY5l55CcV0/pubhtml?gid=0&single=true) | 🙋 [Polleverywhere](https://pollev.com/moore) | 🪴 [Office Hour Sign Up](https://calendly.com/meredith-moore/office-hours)"
   ]
  },
  {
   "cell_type": "markdown",
   "metadata": {
    "slideshow": {
     "slide_type": "slide"
    }
   },
   "source": [
    "# Admin Stuff"
   ]
  },
  {
   "cell_type": "markdown",
   "metadata": {
    "slideshow": {
     "slide_type": "fragment"
    }
   },
   "source": [
    "Grading:\n",
    "- I'll work on getting Quiz #1 graded over the weekend. \n"
   ]
  },
  {
   "cell_type": "markdown",
   "metadata": {
    "slideshow": {
     "slide_type": "fragment"
    }
   },
   "source": [
    "You should be working on:\n",
    "- [Lab #4 Loops](https://analytics.drake.edu/~moore/CS65-F23/Lab4.html) due tonight by 11:59pm.\n",
    "\n",
    "\n",
    "Released today, due Monday October 2nd by 11:59pm:\n",
    "- [Lab #5a Pennies](https://analytics.drake.edu/~moore/CS65-F23/Lab5a.html), 2 points, autograded\n",
    "- [Lab #5b Store](https://analytics.drake.edu/~moore/CS65-F23/Lab5b.html), 2 points, manually graded"
   ]
  },
  {
   "cell_type": "markdown",
   "metadata": {
    "slideshow": {
     "slide_type": "slide"
    }
   },
   "source": [
    "# ⏪ Quick Review:"
   ]
  },
  {
   "cell_type": "markdown",
   "metadata": {
    "slideshow": {
     "slide_type": "slide"
    }
   },
   "source": [
    "# 🥤Containers\n",
    "\n",
    "Some types in Python are used for storing a collection of values. These types are called __containers__. \n",
    "\n",
    "__List:__ a container type that stores values in a ordered _sequence_"
   ]
  },
  {
   "cell_type": "code",
   "execution_count": 65,
   "metadata": {},
   "outputs": [],
   "source": [
    "doctor_who_actors = [\"Tennant\", \"Smith\",\"Capaldi\",\"Whittaker\", \"Gatwa\"]\n",
    "rainfall_amounts = [0.0, 0.3, 0.71, 0.0, 0.32, 1.1, 0.4]\n",
    "dates = [\"March 14, 2020\", 2021, \"4/1\"]\n",
    "empty_list = []"
   ]
  },
  {
   "cell_type": "markdown",
   "metadata": {
    "slideshow": {
     "slide_type": "slide"
    }
   },
   "source": [
    "## 🍕 List Slicing:\n",
    "Sometimes you want to work with not just one element, but multiple elements from a list. To do this, we use what is called __list slicing__.\n",
    "\n",
    "A __slice__ of a list is a span of items that are taken from a sequence.\n",
    "- list slicing syntax: `list[ start : end ] `\n",
    "- Span is a list containing copies of elements from `start` up to, but __not including__ `end`\n",
    "- if `start` is not specified, 0 is used for start index\n",
    "- if `end` is not specified, `len(list)` is used for the end index."
   ]
  },
  {
   "cell_type": "code",
   "execution_count": 136,
   "metadata": {
    "scrolled": true,
    "slideshow": {
     "slide_type": "slide"
    }
   },
   "outputs": [
    {
     "name": "stdout",
     "output_type": "stream",
     "text": [
      "George\n",
      "['Thomas', 'Teddy']\n",
      "['Thomas', 'Teddy', 'Abe']\n",
      "['George', 'Thomas', 'Teddy']\n",
      "['George', 'Thomas', 'Teddy', 'Abe']\n",
      "['George', 'Thomas', 'Teddy', 'Abe']\n"
     ]
    }
   ],
   "source": [
    "#.               0         1.      2.        3 \n",
    "presidents = [\"George\", \"Thomas\", \"Teddy\", \"Abe\"]\n",
    "print(presidents[0])\n",
    "print(presidents[1:3])\n",
    "print(presidents[1:4])\n",
    "print(presidents[:3])\n",
    "print(presidents)\n",
    "print(presidents[:])"
   ]
  },
  {
   "cell_type": "code",
   "execution_count": null,
   "metadata": {},
   "outputs": [],
   "source": [
    "# section 0 got this far"
   ]
  },
  {
   "cell_type": "markdown",
   "metadata": {
    "hideCode": false,
    "hidePrompt": false,
    "slideshow": {
     "slide_type": "slide"
    }
   },
   "source": [
    "## Removing items by value: `del`\n",
    "\n",
    "When you know the __index__ of the item(s) you want to delete from the list, use the `del` keyword.\n",
    "\n",
    "This will work on items or slices of the list."
   ]
  },
  {
   "cell_type": "code",
   "execution_count": 2,
   "metadata": {
    "hideCode": false,
    "hidePrompt": false,
    "scrolled": true
   },
   "outputs": [
    {
     "name": "stdout",
     "output_type": "stream",
     "text": [
      "[0.32, 1.1, 0.4]\n"
     ]
    }
   ],
   "source": [
    "rainfall_amounts = [0.0, 0.3, 0.71, 0.0, 0.32, 1.1, 0.4]\n",
    "\n",
    "del rainfall_amounts[:4]\n",
    "\n",
    "print(rainfall_amounts)"
   ]
  },
  {
   "cell_type": "markdown",
   "metadata": {
    "slideshow": {
     "slide_type": "slide"
    }
   },
   "source": [
    "## List Operation Summary:\n",
    "Last class we talked about **lists**\n",
    "\n",
    "| **Code**                     | **Operation**                                           |\n",
    "|:------------------------------|:---------------------------------------------------------|\n",
    "| `list_sum = sum(my_list)`    | Returns the sum of the elements in the list             |\n",
    "| `num_elements= len(my_list)` | returns number of elements in list                      |\n",
    "| `my_list[1] = 3`             | changes element of the list at index 1                  |\n",
    "| `del my_list[3]`             | deletes element of list at index 3                      |\n",
    "| `my_list.append(7)`          | adds the element 7 to the ened of the list              |\n",
    "| `my_list.pop(2)`             | removes the element at index 2 (also returns the value) |\n",
    "| `my_list.sort()`             | Sorts the list in ascending order                       |\n",
    "| `my_list.sort(reverse=True)` | Sorts the list in descending order                      |\n",
    "| `my_list.reverse()`          | reverses the list                                       |"
   ]
  },
  {
   "cell_type": "markdown",
   "metadata": {
    "slideshow": {
     "slide_type": "slide"
    }
   },
   "source": [
    "# ✨ New Material"
   ]
  },
  {
   "cell_type": "markdown",
   "metadata": {
    "slideshow": {
     "slide_type": "slide"
    }
   },
   "source": [
    "## Loops with Lists\n",
    "\n",
    "Loops are really good for doing things with lists. For example, you use the `len()` function to find out how many items are in a list and then create a count-controlled loop to go through each item in the list, using the counter as the list index. \n",
    "\n",
    "For example, this list will print out all of the values in the `rainfall_amounts` list."
   ]
  },
  {
   "cell_type": "code",
   "execution_count": 52,
   "metadata": {
    "scrolled": true
   },
   "outputs": [
    {
     "name": "stdout",
     "output_type": "stream",
     "text": [
      "Day 0 had 0.0 inches of rainfall.\n",
      "Day 1 had 0.3 inches of rainfall.\n",
      "Day 2 had 0.71 inches of rainfall.\n",
      "Day 3 had 0.0 inches of rainfall.\n",
      "Day 4 had 0.32 inches of rainfall.\n",
      "Day 5 had 1.1 inches of rainfall.\n",
      "Day 6 had 0.4 inches of rainfall.\n"
     ]
    }
   ],
   "source": [
    "rainfall = [0.0, 0.3, 0.71, 0.0, 0.32, 1.1, 0.4]\n",
    "counter = 0\n",
    "\n",
    "# [0,1,2,3,4,5,6] < 7\n",
    "while counter < len(rainfall):\n",
    "    print(\"Day\",counter,\"had\", rainfall[counter],\"inches of rainfall.\")\n",
    "    counter += 1"
   ]
  },
  {
   "cell_type": "markdown",
   "metadata": {
    "slideshow": {
     "slide_type": "slide"
    }
   },
   "source": [
    "# Introduction to For Loops and `range()`"
   ]
  },
  {
   "cell_type": "markdown",
   "metadata": {
    "slideshow": {
     "slide_type": "slide"
    }
   },
   "source": [
    "# Count-Controlled Loops\n",
    "\n",
    "__count-controlled loop__: a loop that ierates a specific number of times. \n",
    "- So far, we've accomplished this using a combination of a `counter`, `while` loop, and the `len()` function.\n"
   ]
  },
  {
   "cell_type": "code",
   "execution_count": 43,
   "metadata": {
    "scrolled": true
   },
   "outputs": [
    {
     "name": "stdout",
     "output_type": "stream",
     "text": [
      "Sunday\n",
      "Monday\n",
      "Tuesday\n",
      "Wednesday\n",
      "Thursday\n",
      "Friday\n",
      "Saturday\n"
     ]
    }
   ],
   "source": [
    "days_in_week = ['Sunday','Monday', 'Tuesday', 'Wednesday', 'Thursday', 'Friday', 'Saturday']\n",
    "counter = 0\n",
    "while counter < len(days_in_week):\n",
    "    print(days_in_week[counter])\n",
    "    counter +=1"
   ]
  },
  {
   "cell_type": "markdown",
   "metadata": {
    "slideshow": {
     "slide_type": "slide"
    }
   },
   "source": [
    "# The For Loop:\n",
    "## 🔐✨ New Keywords Unlocked: `for` and `in`\n",
    "Use a `for` statement to easily write count-controlled loops.\n",
    "- designed to work with a sequence of data items.\n",
    "    - iterates once for each item in the sequence."
   ]
  },
  {
   "cell_type": "markdown",
   "metadata": {
    "slideshow": {
     "slide_type": "subslide"
    }
   },
   "source": [
    "## `for` loop syntax:\n",
    "- keyword `for`\n",
    "- __target variable__: you get to make this one up, but it's best if it hasn't been used in your current program.\n",
    "- keyword `in`\n",
    "- a sequence\n",
    "- colon `:`\n",
    "\n",
    "Example:"
   ]
  },
  {
   "cell_type": "code",
   "execution_count": 44,
   "metadata": {
    "slideshow": {
     "slide_type": "subslide"
    }
   },
   "outputs": [
    {
     "name": "stdout",
     "output_type": "stream",
     "text": [
      "Sunday\n",
      "Monday\n",
      "Tuesday\n",
      "Wednesday\n",
      "Thursday\n",
      "Friday\n",
      "Saturday\n"
     ]
    }
   ],
   "source": [
    "days_in_week = ['Sunday','Monday', 'Tuesday', 'Wednesday', 'Thursday', 'Friday', 'Saturday']\n",
    "\n",
    "for day in days_in_week: #day is the target variable\n",
    "    print(day)"
   ]
  },
  {
   "cell_type": "code",
   "execution_count": 45,
   "metadata": {},
   "outputs": [
    {
     "name": "stdout",
     "output_type": "stream",
     "text": [
      "1\n",
      "2\n",
      "3\n",
      "4\n",
      "5\n"
     ]
    }
   ],
   "source": [
    "for num in [1,2,3,4,5]:\n",
    "    print(num)"
   ]
  },
  {
   "cell_type": "markdown",
   "metadata": {
    "slideshow": {
     "slide_type": "slide"
    }
   },
   "source": [
    "<div>\n",
    "<img src=\"images/day05_forloops.png\" width=\"500\"/>\n",
    "</div>"
   ]
  },
  {
   "cell_type": "markdown",
   "metadata": {
    "slideshow": {
     "slide_type": "slide"
    }
   },
   "source": [
    "# Group Exercise:\n",
    "\n",
    "Walk through the following for loops. Before you try running them, see if you can predit what they will output."
   ]
  },
  {
   "cell_type": "code",
   "execution_count": null,
   "metadata": {},
   "outputs": [],
   "source": [
    "for val in [1,3,5,7,9]:\n",
    "    print(val)"
   ]
  },
  {
   "cell_type": "code",
   "execution_count": null,
   "metadata": {},
   "outputs": [],
   "source": [
    "for name in ['Han Solo', 'Darth Vader', 'Yoda', 'Grogu']:\n",
    "    print(name)"
   ]
  },
  {
   "cell_type": "code",
   "execution_count": null,
   "metadata": {},
   "outputs": [],
   "source": [
    "for num in [1,2,3,4,5]:\n",
    "    if num%2==0:\n",
    "        print(num)"
   ]
  },
  {
   "cell_type": "code",
   "execution_count": null,
   "metadata": {
    "scrolled": true
   },
   "outputs": [],
   "source": [
    "my_string = input(\"type something:\")\n",
    "for char in my_string:\n",
    "    print(char)"
   ]
  },
  {
   "cell_type": "markdown",
   "metadata": {
    "slideshow": {
     "slide_type": "slide"
    }
   },
   "source": [
    "# The `range()` function\n",
    "\n",
    "The `range()` function simplifies the process of writing a for loop.\n",
    "\n",
    "- `range()` returns an iterable object\n",
    "    - *iterable* means that it contains a sequence of values that can be iterated (looped) over."
   ]
  },
  {
   "cell_type": "code",
   "execution_count": 47,
   "metadata": {},
   "outputs": [
    {
     "data": {
      "text/plain": [
       "range(0, 5)"
      ]
     },
     "execution_count": 47,
     "metadata": {},
     "output_type": "execute_result"
    }
   ],
   "source": [
    "range(5)"
   ]
  },
  {
   "cell_type": "code",
   "execution_count": 6,
   "metadata": {
    "slideshow": {
     "slide_type": "subslide"
    }
   },
   "outputs": [
    {
     "name": "stdout",
     "output_type": "stream",
     "text": [
      "0\n",
      "1\n",
      "2\n",
      "3\n",
      "4\n"
     ]
    }
   ],
   "source": [
    "#          [0,1,2,3,4]\n",
    "for num in range(5):\n",
    "    print(num)"
   ]
  },
  {
   "cell_type": "code",
   "execution_count": 7,
   "metadata": {},
   "outputs": [
    {
     "name": "stdout",
     "output_type": "stream",
     "text": [
      "Hello World!\n",
      "Hello World!\n",
      "Hello World!\n",
      "Hello World!\n",
      "Hello World!\n"
     ]
    }
   ],
   "source": [
    "#        [0,1,2,3,4]\n",
    "for x in range(5):\n",
    "    print(\"Hello World!\")"
   ]
  },
  {
   "cell_type": "markdown",
   "metadata": {
    "slideshow": {
     "slide_type": "slide"
    }
   },
   "source": [
    "## Passing `range()` Multiple Arguments\n",
    "\n",
    "By default, the range function produces a sequence of numbers that increases by 1.\n",
    "\n",
    "If you pass three arguments to range:\n",
    "- the first number is the starting value\n",
    "- the second number is the ending limit\n",
    "- the third number is the step value (increment)"
   ]
  },
  {
   "cell_type": "code",
   "execution_count": 48,
   "metadata": {},
   "outputs": [
    {
     "name": "stdout",
     "output_type": "stream",
     "text": [
      "10\n",
      "8\n",
      "6\n",
      "4\n",
      "2\n"
     ]
    }
   ],
   "source": [
    "#         [10, 8, 6, 4, 2]\n",
    "for x in range(10,1,-2):\n",
    "    print(x)"
   ]
  },
  {
   "cell_type": "markdown",
   "metadata": {
    "slideshow": {
     "slide_type": "slide"
    }
   },
   "source": [
    "## Group Exercise:\n",
    "\n",
    "Using for loops and the `range()` function, take a crack at the following tasks:\n",
    "- print out all integers between 1 and 200 (including 200)\n",
    "- print out all even integers between 1 and 200 (including 200)\n",
    "- print out all integers counting down from 50 to 1\n",
    "- print out all integers between 1 and 10, followed by the squares\n",
    "    - So this output might look like:\n",
    "    \n",
    "    `1 --- 1`\n",
    "    \n",
    "    `2 --- 4` \n",
    "    \n",
    "    `3 --- 9` etc"
   ]
  },
  {
   "cell_type": "code",
   "execution_count": null,
   "metadata": {},
   "outputs": [],
   "source": []
  },
  {
   "cell_type": "markdown",
   "metadata": {
    "slideshow": {
     "slide_type": "slide"
    }
   },
   "source": [
    "## Two Main Formulas for For Loops:\n",
    "\n",
    "There are two common strategies for using for loops with lists. \n",
    "\n",
    "The first is called `list comprehension`, use this when: \n",
    "- you want to access the __values__ in the list\n",
    "- but you don't need access to the __index__ of each value.\n",
    "\n",
    "For example... if we want to print out the negative temperatures from a list:"
   ]
  },
  {
   "cell_type": "code",
   "execution_count": 3,
   "metadata": {
    "slideshow": {
     "slide_type": "-"
    }
   },
   "outputs": [
    {
     "name": "stdout",
     "output_type": "stream",
     "text": [
      "-5\n",
      "-15\n",
      "-8\n",
      "-1\n"
     ]
    }
   ],
   "source": [
    "temperatures = [30, 20, 2, -5, -15, -8, -1, 0, 5, 35]\n",
    "\n",
    "for temp in temperatures:\n",
    "    # print temp if it is negative\n",
    "    if temp < 0:\n",
    "        print(temp)"
   ]
  },
  {
   "cell_type": "markdown",
   "metadata": {
    "slideshow": {
     "slide_type": "slide"
    }
   },
   "source": [
    "What if we wanted to print out which days had negative temperatures?"
   ]
  },
  {
   "cell_type": "code",
   "execution_count": 6,
   "metadata": {},
   "outputs": [
    {
     "name": "stdout",
     "output_type": "stream",
     "text": [
      "Day 3 had a temperature of -5\n",
      "Day 4 had a temperature of -15\n",
      "Day 5 had a temperature of -8\n",
      "Day 6 had a temperature of -1\n"
     ]
    }
   ],
   "source": [
    "# our output might look like:"
   ]
  },
  {
   "cell_type": "markdown",
   "metadata": {
    "slideshow": {
     "slide_type": "fragment"
    }
   },
   "source": [
    "So, essentially, we want to access both the:\n",
    "- __values__ inside the list\n",
    "- __index__ of each value in the list. "
   ]
  },
  {
   "cell_type": "markdown",
   "metadata": {
    "slideshow": {
     "slide_type": "slide"
    }
   },
   "source": [
    "Possible solutions:\n",
    "- use a counter\n",
    "- use the `range()` function\n"
   ]
  },
  {
   "cell_type": "code",
   "execution_count": null,
   "metadata": {
    "slideshow": {
     "slide_type": "-"
    }
   },
   "outputs": [],
   "source": [
    "# what will this code do?\n",
    "for index in range(len(temperatures)):\n",
    "    print(index)"
   ]
  },
  {
   "cell_type": "code",
   "execution_count": null,
   "metadata": {},
   "outputs": [],
   "source": [
    "temperatures = [30, 20, 2, -5, -15, -8, -1, 0, 5, 35]\n",
    "\n",
    "for index in range(len(temperatures)):\n",
    "    if temperatures[index] < 0:\n",
    "        print(\"Day\", index, \" had a negative temperature\")"
   ]
  },
  {
   "cell_type": "markdown",
   "metadata": {
    "slideshow": {
     "slide_type": "slide"
    }
   },
   "source": [
    "# Print Formatting\n",
    "\n",
    "If we didnt want the next print statemenet to otput on the next line, we can ass in a second __argument__ to the print function.\n",
    "\n",
    "Passing in `end=\"\"` inside the parenthese of `print()` will no longer make the next print statement continue on the next line. "
   ]
  },
  {
   "cell_type": "code",
   "execution_count": 2,
   "metadata": {},
   "outputs": [
    {
     "name": "stdout",
     "output_type": "stream",
     "text": [
      "one\n",
      "two\n",
      "three\n",
      "==============\n",
      "onetwothree"
     ]
    }
   ],
   "source": [
    "print(\"one\")\n",
    "print(\"two\")\n",
    "print(\"three\")\n",
    "print(\"==============\")\n",
    "print(\"one\", end=\"\")\n",
    "print(\"two\", end=\"\")\n",
    "print(\"three\", end=\"\")"
   ]
  },
  {
   "cell_type": "markdown",
   "metadata": {
    "slideshow": {
     "slide_type": "slide"
    }
   },
   "source": [
    "## Printing a blank line\n",
    "\n",
    "If you want the output to contain a blank line, then print can be used without an __argument__."
   ]
  },
  {
   "cell_type": "code",
   "execution_count": 3,
   "metadata": {},
   "outputs": [
    {
     "name": "stdout",
     "output_type": "stream",
     "text": [
      "hello\n",
      "\n",
      "\n",
      "now I'm here\n"
     ]
    }
   ],
   "source": [
    "print(\"hello\")\n",
    "print()\n",
    "print()\n",
    "print(\"now I'm here\")"
   ]
  },
  {
   "cell_type": "markdown",
   "metadata": {
    "slideshow": {
     "slide_type": "slide"
    }
   },
   "source": [
    "# 💬 Goup Exercise #1:\n",
    "\n",
    "Prompt the user for an integer\n",
    "\n",
    "Print out a row of alternating X's and O's in which the number of characters equals the number input"
   ]
  },
  {
   "cell_type": "code",
   "execution_count": 4,
   "metadata": {},
   "outputs": [
    {
     "name": "stdout",
     "output_type": "stream",
     "text": [
      "Please enter an integer: 3\n",
      "XOX"
     ]
    }
   ],
   "source": [
    "# Example Output #1"
   ]
  },
  {
   "cell_type": "code",
   "execution_count": 5,
   "metadata": {},
   "outputs": [
    {
     "name": "stdout",
     "output_type": "stream",
     "text": [
      "Please enter an integer: 8\n",
      "XOXOXOXO"
     ]
    }
   ],
   "source": [
    "# Example Output #2"
   ]
  },
  {
   "cell_type": "code",
   "execution_count": 6,
   "metadata": {},
   "outputs": [
    {
     "name": "stdout",
     "output_type": "stream",
     "text": [
      "Please enter an integer: 45\n",
      "XOXOXOXOXOXOXOXOXOXOXOXOXOXOXOXOXOXOXOXOXOXOX"
     ]
    }
   ],
   "source": [
    "# Example Output #3"
   ]
  },
  {
   "cell_type": "markdown",
   "metadata": {
    "slideshow": {
     "slide_type": "slide"
    }
   },
   "source": [
    "## Print formatting `sep`:\n",
    "\n",
    "When multiple arguments are passed into the `print()` function, they are by default separated by a space."
   ]
  },
  {
   "cell_type": "code",
   "execution_count": 7,
   "metadata": {},
   "outputs": [
    {
     "name": "stdout",
     "output_type": "stream",
     "text": [
      "The cost of your item is $ 5.75\n"
     ]
    }
   ],
   "source": [
    "cost = 5.75\n",
    "print(\"The cost of your item is $\", cost)"
   ]
  },
  {
   "cell_type": "markdown",
   "metadata": {
    "slideshow": {
     "slide_type": "fragment"
    }
   },
   "source": [
    "Note the pesky space between the $ and the cost above."
   ]
  },
  {
   "cell_type": "markdown",
   "metadata": {
    "slideshow": {
     "slide_type": "slide"
    }
   },
   "source": [
    "## Print formatting `sep`:\n",
    "\n",
    "If you do not want the default space between arguetsin a print statement, you can put an additional argument that specifies exactly what should be placed between items in the print statement. \n",
    "\n",
    "For example, nothing (the empty string) denoted `\"\"`, which is denoted as `sep = \"\"`"
   ]
  },
  {
   "cell_type": "code",
   "execution_count": 8,
   "metadata": {},
   "outputs": [
    {
     "name": "stdout",
     "output_type": "stream",
     "text": [
      "The cost of your item is $5.75\n"
     ]
    }
   ],
   "source": [
    "cost = 5.75\n",
    "print(\"The cost of your item is $\", cost, sep=\"\")"
   ]
  },
  {
   "cell_type": "markdown",
   "metadata": {},
   "source": [
    "## The `round()` function:\n",
    "\n",
    "Python provides a round function that rounds a decimal number to the nearest whole number."
   ]
  },
  {
   "cell_type": "code",
   "execution_count": 9,
   "metadata": {},
   "outputs": [
    {
     "data": {
      "text/plain": [
       "5"
      ]
     },
     "execution_count": 9,
     "metadata": {},
     "output_type": "execute_result"
    }
   ],
   "source": [
    "round(4.56)"
   ]
  },
  {
   "cell_type": "code",
   "execution_count": 10,
   "metadata": {},
   "outputs": [
    {
     "data": {
      "text/plain": [
       "9"
      ]
     },
     "execution_count": 10,
     "metadata": {},
     "output_type": "execute_result"
    }
   ],
   "source": [
    "round(9.12)"
   ]
  },
  {
   "cell_type": "markdown",
   "metadata": {
    "slideshow": {
     "slide_type": "slide"
    }
   },
   "source": [
    "# 💬 Goup Exercise #2:\n",
    "\n",
    "There is somthing peculiar (perhaps a bug?) with Python's implementation of `round()`\n",
    "\n",
    "Tkae a minute, write some code with round, and see if you can figure out this issue... "
   ]
  },
  {
   "cell_type": "code",
   "execution_count": null,
   "metadata": {},
   "outputs": [],
   "source": [
    "# try round(0.5), round(1), round(1.5), round(2), round(2.5), etc"
   ]
  },
  {
   "cell_type": "markdown",
   "metadata": {
    "slideshow": {
     "slide_type": "slide"
    }
   },
   "source": [
    "## Types of Rounding\n",
    "\n",
    "There are actually many different types of rounding:\n",
    "- convergent rounding\n",
    "- statistician's rounding\n",
    "- Guassian rounding\n",
    "- odd-even rounding\n",
    "- banker's rounding\n",
    "\n",
    "Python's rounding:\n",
    "- Numbers which are equidistant from the wo nearest integers are roundd to the nearest _even integer_. \n",
    "- Thus, 0.5 rounds down to 0; 1.5 rounds up to 2."
   ]
  },
  {
   "cell_type": "markdown",
   "metadata": {},
   "source": [
    "## Rounding to Decimal Places:\n",
    "\n",
    "You can also use round to round float numbers to a specific number of decimal places..."
   ]
  },
  {
   "cell_type": "code",
   "execution_count": 11,
   "metadata": {},
   "outputs": [
    {
     "name": "stdout",
     "output_type": "stream",
     "text": [
      "3.142\n"
     ]
    }
   ],
   "source": [
    "my_val = round(3.1415926, 3)\n",
    "print(my_val)"
   ]
  },
  {
   "cell_type": "markdown",
   "metadata": {
    "slideshow": {
     "slide_type": "slide"
    }
   },
   "source": [
    "# Let's Practice:\n",
    "\n",
    "The following exercises have [solution code available here](https://drive.google.com/drive/folders/1N2R-CknezO9jh1ctNosvYRiWytgId52O?usp=drive_link)"
   ]
  },
  {
   "cell_type": "markdown",
   "metadata": {
    "slideshow": {
     "slide_type": "slide"
    }
   },
   "source": [
    "## Exercise #1:\n",
    "\n",
    "Write both the `for` loop and the `while` loop that will have this output:"
   ]
  },
  {
   "cell_type": "code",
   "execution_count": 7,
   "metadata": {},
   "outputs": [
    {
     "name": "stdout",
     "output_type": "stream",
     "text": [
      "1\n",
      "2\n",
      "3\n",
      "4\n",
      "5\n",
      "6\n",
      "7\n",
      "8\n",
      "9\n",
      "10\n"
     ]
    }
   ],
   "source": [
    "# for loop"
   ]
  },
  {
   "cell_type": "code",
   "execution_count": 8,
   "metadata": {},
   "outputs": [
    {
     "name": "stdout",
     "output_type": "stream",
     "text": [
      "1\n",
      "2\n",
      "3\n",
      "4\n",
      "5\n",
      "6\n",
      "7\n",
      "8\n",
      "9\n",
      "10\n"
     ]
    }
   ],
   "source": [
    "# while loop\n"
   ]
  },
  {
   "cell_type": "markdown",
   "metadata": {
    "slideshow": {
     "slide_type": "slide"
    }
   },
   "source": [
    "## Exercise #2:\n",
    "\n",
    "- Write a loop that will execute 5 times. \n",
    "- Within the loop, get a float vlaue from the user (the amount of rain that fell in a day)\n",
    "- use an accumulator to add up all of the rain that fell over the five days\n",
    "- outside of the loop, print out the sum of all of the rainfall."
   ]
  },
  {
   "cell_type": "code",
   "execution_count": 9,
   "metadata": {},
   "outputs": [
    {
     "name": "stdout",
     "output_type": "stream",
     "text": [
      "What is the rainfall? 2\n",
      "What is the rainfall? 0\n",
      "What is the rainfall? 1\n",
      "What is the rainfall? 1.1\n",
      "What is the rainfall? 3\n",
      "There was a total of 7.1 inches of rain\n"
     ]
    }
   ],
   "source": [
    "# output might look like this:"
   ]
  },
  {
   "cell_type": "markdown",
   "metadata": {
    "slideshow": {
     "slide_type": "slide"
    }
   },
   "source": [
    "## Exercise #3:\n",
    "- `1+2+3+4+5+ = 15`\n",
    "- `1+2+3+4+5+6 = 21`\n",
    "\n",
    "Prompt the user for an integer. Output the sum of all of the integers up to an dincluding the input number. "
   ]
  },
  {
   "cell_type": "code",
   "execution_count": 11,
   "metadata": {},
   "outputs": [
    {
     "name": "stdout",
     "output_type": "stream",
     "text": [
      "Please enter an integer: 6\n",
      "The sum of integers 1 through 6 is 21\n"
     ]
    }
   ],
   "source": [
    "# possible output"
   ]
  },
  {
   "cell_type": "code",
   "execution_count": 12,
   "metadata": {},
   "outputs": [
    {
     "name": "stdout",
     "output_type": "stream",
     "text": [
      "Please enter an integer: 5\n",
      "The sum of integers 1 through 5 is 15\n"
     ]
    }
   ],
   "source": [
    "# possible output #2"
   ]
  },
  {
   "cell_type": "code",
   "execution_count": 13,
   "metadata": {},
   "outputs": [
    {
     "name": "stdout",
     "output_type": "stream",
     "text": [
      "Please enter an integer: 100\n",
      "The sum of integers 1 through 100 is 5050\n"
     ]
    }
   ],
   "source": [
    "# possible output #3"
   ]
  },
  {
   "cell_type": "markdown",
   "metadata": {
    "slideshow": {
     "slide_type": "slide"
    }
   },
   "source": [
    "## Exercise #4:\n",
    "\n",
    "Prompt the user for an integer\n",
    "\n",
    "Print out a row of alternating `X`s and `O`s in which. the number or characters equals the number input."
   ]
  },
  {
   "cell_type": "code",
   "execution_count": 14,
   "metadata": {},
   "outputs": [
    {
     "name": "stdout",
     "output_type": "stream",
     "text": [
      "please enter an integer: 3\n",
      "XOX"
     ]
    }
   ],
   "source": [
    "# example output"
   ]
  },
  {
   "cell_type": "code",
   "execution_count": 15,
   "metadata": {},
   "outputs": [
    {
     "name": "stdout",
     "output_type": "stream",
     "text": [
      "please enter an integer: 10\n",
      "XOXOXOXOXO"
     ]
    }
   ],
   "source": [
    "# example output"
   ]
  },
  {
   "cell_type": "code",
   "execution_count": 16,
   "metadata": {},
   "outputs": [
    {
     "name": "stdout",
     "output_type": "stream",
     "text": [
      "please enter an integer: 100\n",
      "XOXOXOXOXOXOXOXOXOXOXOXOXOXOXOXOXOXOXOXOXOXOXOXOXOXOXOXOXOXOXOXOXOXOXOXOXOXOXOXOXOXOXOXOXOXOXOXOXOXO"
     ]
    }
   ],
   "source": [
    "# example output"
   ]
  },
  {
   "cell_type": "markdown",
   "metadata": {
    "slideshow": {
     "slide_type": "slide"
    }
   },
   "source": [
    "## Exercise #5\n",
    "\n",
    "The user can play a game. Each time they type in the word yes or yep (capitalization doesn't matter) then they earn $0.015. (1 and a half cents)\n",
    "\n",
    "As soon as they teyp in somthing other than yes or yep, then their turn is over.\n",
    "\n",
    "Write the program that will implement this and also output how much they have earned (rounded to the nearest cent(. \n",
    "\n",
    "Pay close attention to the formatting:"
   ]
  },
  {
   "cell_type": "code",
   "execution_count": 17,
   "metadata": {},
   "outputs": [
    {
     "name": "stdout",
     "output_type": "stream",
     "text": [
      "would you like to play? yes\n",
      "would you like to play? YES\n",
      "would you like to play? yep\n",
      "would you like to play? Yep\n",
      "would you like to play? YeS\n",
      "would you like to play? no\n",
      "you earned $0.09\n"
     ]
    }
   ],
   "source": [
    "# possible output"
   ]
  },
  {
   "cell_type": "markdown",
   "metadata": {
    "slideshow": {
     "slide_type": "slide"
    }
   },
   "source": [
    "## Exercise #6:\n",
    "\n",
    "Describe in English what this code will do:"
   ]
  },
  {
   "cell_type": "code",
   "execution_count": null,
   "metadata": {},
   "outputs": [],
   "source": [
    "import random\n",
    "\n",
    "num = random.randint(1,10)\n",
    "\n",
    "for try_number in [1,2,3,4,5]:\n",
    "    print(\"Try\", try_number, \"--\", end=\"\")\n",
    "    guess = int(input(\" guess a number \"))\n",
    "    if guess == num:\n",
    "        print(\"You got it!\")\n",
    "    else:\n",
    "        print(\"Nope.\")"
   ]
  },
  {
   "cell_type": "markdown",
   "metadata": {
    "slideshow": {
     "slide_type": "slide"
    }
   },
   "source": [
    "# Admin Stuff"
   ]
  },
  {
   "cell_type": "markdown",
   "metadata": {
    "slideshow": {
     "slide_type": "fragment"
    }
   },
   "source": [
    "You should be working on:\n",
    "- [Lab #4 Loops](https://analytics.drake.edu/~moore/CS65-F23/Lab4.html) due tonight by 11:59pm.\n",
    "\n",
    "\n",
    "Released today, due Monday October 2nd by 11:59pm:\n",
    "- [Lab #5a Pennies](https://analytics.drake.edu/~moore/CS65-F23/Lab5a.html), 2 points, autograded\n",
    "- [Lab #5b Store](https://analytics.drake.edu/~moore/CS65-F23/Lab5b.html), 2 points, manually graded"
   ]
  }
 ],
 "metadata": {
  "celltoolbar": "Slideshow",
  "kernelspec": {
   "display_name": "Python 3 (ipykernel)",
   "language": "python",
   "name": "python3"
  },
  "language_info": {
   "codemirror_mode": {
    "name": "ipython",
    "version": 3
   },
   "file_extension": ".py",
   "mimetype": "text/x-python",
   "name": "python",
   "nbconvert_exporter": "python",
   "pygments_lexer": "ipython3",
   "version": "3.11.4"
  }
 },
 "nbformat": 4,
 "nbformat_minor": 4
}
