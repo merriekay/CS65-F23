{
  "cells": [
    {
      "cell_type": "markdown",
      "metadata": {
        "id": "view-in-github",
        "colab_type": "text"
      },
      "source": [
        "<a href=\"https://colab.research.google.com/github/merriekay/CS65-F23/blob/main/Day09%20For%20Loops.ipynb\" target=\"_parent\"><img src=\"https://colab.research.google.com/assets/colab-badge.svg\" alt=\"Open In Colab\"/></a>"
      ]
    },
    {
      "cell_type": "markdown",
      "metadata": {
        "id": "Ik0XsDq092Lh"
      },
      "source": [
        "# CS65: Day 09\n",
        "## For Loops\n",
        "\n",
        "####  CS65: Introduction to Computer Science I | Fall 2023\n",
        "\n",
        "Wednesday, September 27th, 2023\n",
        "\n",
        " 📜 [Syllabus](https://docs.google.com/document/d/1JTRJ-22abpu3HNhHzE2NaGfstNrrBav1MSQcLIMBWe4/edit?usp=sharing) | 📬 [CodePost Login](https://codepost.io/login) | 📆 [Schedule](https://docs.google.com/spreadsheets/d/e/2PACX-1vS51v65qE22qEyhLTF_q5sF_4Nu1GhWU4mDgfsF7NY8Yrjl5-ismCyXjHiR4Fuxqd1cJ9dY5l55CcV0/pubhtml?gid=0&single=true) | 🙋 [Polleverywhere](https://pollev.com/moore) | 🪴 [Office Hour Sign Up](https://calendly.com/meredith-moore/office-hours)"
      ]
    },
    {
      "cell_type": "markdown",
      "metadata": {
        "id": "TVuyac2V92Lj"
      },
      "source": [
        "# Admin Stuff"
      ]
    },
    {
      "cell_type": "markdown",
      "metadata": {
        "id": "viZPhB8M92Lj"
      },
      "source": [
        "Grading:\n",
        "- I'll work on getting Quiz #1 graded over the weekend.\n"
      ]
    },
    {
      "cell_type": "markdown",
      "metadata": {
        "id": "jEJ9d_Pu92Lj"
      },
      "source": [
        "You should be working on:\n",
        "- [Lab #4 Loops](https://analytics.drake.edu/~moore/CS65-F23/Lab4.html) due tonight by 11:59pm.\n",
        "\n",
        "\n",
        "Released today, due Monday October 2nd by 11:59pm:\n",
        "- [Lab #5a Pennies](https://analytics.drake.edu/~moore/CS65-F23/Lab5a.html), 2 points, autograded\n",
        "- [Lab #5b Store](https://analytics.drake.edu/~moore/CS65-F23/Lab5b.html), 2 points, manually graded"
      ]
    },
    {
      "cell_type": "markdown",
      "metadata": {
        "id": "Ofw-HpmK92Lj"
      },
      "source": [
        "# ⏪ Quick Review:"
      ]
    },
    {
      "cell_type": "markdown",
      "metadata": {
        "id": "nobA9qD492Lk"
      },
      "source": [
        "# 🥤Containers\n",
        "\n",
        "Some types in Python are used for storing a collection of values. These types are called __containers__.\n",
        "\n",
        "__List:__ a container type that stores values in a ordered _sequence_"
      ]
    },
    {
      "cell_type": "code",
      "execution_count": null,
      "metadata": {
        "id": "DD-orwft92Lk"
      },
      "outputs": [],
      "source": [
        "doctor_who_actors = [\"Tennant\", \"Smith\",\"Capaldi\",\"Whittaker\", \"Gatwa\"]\n",
        "rainfall_amounts = [0.0, 0.3, 0.71, 0.0, 0.32, 1.1, 0.4]\n",
        "dates = [\"March 14, 2020\", 2021, \"4/1\"]\n",
        "empty_list = []"
      ]
    },
    {
      "cell_type": "markdown",
      "metadata": {
        "id": "gXlEgr9o92Ll"
      },
      "source": [
        "## 🍕 List Slicing:\n",
        "Sometimes you want to work with not just one element, but multiple elements from a list. To do this, we use what is called __list slicing__.\n",
        "\n",
        "A __slice__ of a list is a span of items that are taken from a sequence.\n",
        "- list slicing syntax: `list[ start : end ] `\n",
        "- Span is a list containing copies of elements from `start` up to, but __not including__ `end`\n",
        "- if `start` is not specified, 0 is used for start index\n",
        "- if `end` is not specified, `len(list)` is used for the end index."
      ]
    },
    {
      "cell_type": "code",
      "execution_count": null,
      "metadata": {
        "scrolled": true,
        "id": "6oRL7DBb92Ll",
        "outputId": "8c629d78-09e6-4a29-8cd0-b6b803f464a6"
      },
      "outputs": [
        {
          "name": "stdout",
          "output_type": "stream",
          "text": [
            "George\n",
            "['Thomas', 'Teddy']\n",
            "['Thomas', 'Teddy', 'Abe']\n",
            "['George', 'Thomas', 'Teddy']\n",
            "['George', 'Thomas', 'Teddy', 'Abe']\n",
            "['George', 'Thomas', 'Teddy', 'Abe']\n"
          ]
        }
      ],
      "source": [
        "#.               0         1.      2.        3\n",
        "presidents = [\"George\", \"Thomas\", \"Teddy\", \"Abe\"]\n",
        "print(presidents[0])\n",
        "print(presidents[1:3])\n",
        "print(presidents[1:4])\n",
        "print(presidents[:3])\n",
        "print(presidents)\n",
        "print(presidents[:])"
      ]
    },
    {
      "cell_type": "code",
      "execution_count": null,
      "metadata": {
        "id": "bc2uG2o_92Lm"
      },
      "outputs": [],
      "source": [
        "# section 0 got this far"
      ]
    },
    {
      "cell_type": "markdown",
      "metadata": {
        "hideCode": false,
        "hidePrompt": false,
        "id": "nyR8bzl992Lm"
      },
      "source": [
        "## Removing items by value: `del`\n",
        "\n",
        "When you know the __index__ of the item(s) you want to delete from the list, use the `del` keyword.\n",
        "\n",
        "This will work on items or slices of the list."
      ]
    },
    {
      "cell_type": "code",
      "execution_count": null,
      "metadata": {
        "hideCode": false,
        "hidePrompt": false,
        "scrolled": true,
        "id": "TNZUIjin92Lq",
        "outputId": "37db11e3-7d77-4cfa-e9fa-198dfeb69eba"
      },
      "outputs": [
        {
          "name": "stdout",
          "output_type": "stream",
          "text": [
            "[0.32, 1.1, 0.4]\n"
          ]
        }
      ],
      "source": [
        "rainfall_amounts = [0.0, 0.3, 0.71, 0.0, 0.32, 1.1, 0.4]\n",
        "\n",
        "del rainfall_amounts[:4]\n",
        "\n",
        "print(rainfall_amounts)"
      ]
    },
    {
      "cell_type": "markdown",
      "metadata": {
        "id": "GZ8guPfa92Lq"
      },
      "source": [
        "## List Operation Summary:\n",
        "Last class we talked about **lists**\n",
        "\n",
        "| **Code**                     | **Operation**                                           |\n",
        "|:------------------------------|:---------------------------------------------------------|\n",
        "| `list_sum = sum(my_list)`    | Returns the sum of the elements in the list             |\n",
        "| `num_elements= len(my_list)` | returns number of elements in list                      |\n",
        "| `my_list[1] = 3`             | changes element of the list at index 1                  |\n",
        "| `del my_list[3]`             | deletes element of list at index 3                      |\n",
        "| `my_list.append(7)`          | adds the element 7 to the ened of the list              |\n",
        "| `my_list.pop(2)`             | removes the element at index 2 (also returns the value) |\n",
        "| `my_list.sort()`             | Sorts the list in ascending order                       |\n",
        "| `my_list.sort(reverse=True)` | Sorts the list in descending order                      |\n",
        "| `my_list.reverse()`          | reverses the list                                       |"
      ]
    },
    {
      "cell_type": "markdown",
      "metadata": {
        "id": "EcUB8cSR92Lr"
      },
      "source": [
        "# ✨ New Material"
      ]
    },
    {
      "cell_type": "markdown",
      "metadata": {
        "id": "iuiHexko92Lr"
      },
      "source": [
        "## Loops with Lists\n",
        "\n",
        "Loops are really good for doing things with lists. For example, you use the `len()` function to find out how many items are in a list and then create a count-controlled loop to go through each item in the list, using the counter as the list index.\n",
        "\n",
        "For example, this list will print out all of the values in the `rainfall_amounts` list."
      ]
    },
    {
      "cell_type": "code",
      "execution_count": null,
      "metadata": {
        "scrolled": true,
        "id": "_8JCqDJT92Lr",
        "outputId": "ce365fc4-038f-49c2-981e-0e187542c477"
      },
      "outputs": [
        {
          "name": "stdout",
          "output_type": "stream",
          "text": [
            "Day 0 had 0.0 inches of rainfall.\n",
            "Day 1 had 0.3 inches of rainfall.\n",
            "Day 2 had 0.71 inches of rainfall.\n",
            "Day 3 had 0.0 inches of rainfall.\n",
            "Day 4 had 0.32 inches of rainfall.\n",
            "Day 5 had 1.1 inches of rainfall.\n",
            "Day 6 had 0.4 inches of rainfall.\n"
          ]
        }
      ],
      "source": [
        "rainfall = [0.0, 0.3, 0.71, 0.0, 0.32, 1.1, 0.4]\n",
        "counter = 0\n",
        "\n",
        "# [0,1,2,3,4,5,6] < 7\n",
        "while counter < len(rainfall):\n",
        "    print(\"Day\",counter,\"had\", rainfall[counter],\"inches of rainfall.\")\n",
        "    counter += 1"
      ]
    },
    {
      "cell_type": "markdown",
      "metadata": {
        "id": "FVltxDME92Lr"
      },
      "source": [
        "# Introduction to For Loops and `range()`"
      ]
    },
    {
      "cell_type": "markdown",
      "metadata": {
        "id": "uX2-Qq1692Lr"
      },
      "source": [
        "# Count-Controlled Loops\n",
        "\n",
        "__count-controlled loop__: a loop that ierates a specific number of times.\n",
        "- So far, we've accomplished this using a combination of a `counter`, `while` loop, and the `len()` function.\n"
      ]
    },
    {
      "cell_type": "code",
      "execution_count": null,
      "metadata": {
        "scrolled": true,
        "id": "fNk2BydU92Lr",
        "outputId": "70d3dd61-5c08-42af-c10d-52779f87fbfa"
      },
      "outputs": [
        {
          "name": "stdout",
          "output_type": "stream",
          "text": [
            "Sunday\n",
            "Monday\n",
            "Tuesday\n",
            "Wednesday\n",
            "Thursday\n",
            "Friday\n",
            "Saturday\n"
          ]
        }
      ],
      "source": [
        "days_in_week = ['Sunday','Monday', 'Tuesday', 'Wednesday', 'Thursday', 'Friday', 'Saturday']\n",
        "counter = 0\n",
        "while counter < len(days_in_week):\n",
        "    print(days_in_week[counter])\n",
        "    counter +=1"
      ]
    },
    {
      "cell_type": "markdown",
      "metadata": {
        "id": "G-a-VICj92Ls"
      },
      "source": [
        "# The For Loop:\n",
        "## 🔐✨ New Keywords Unlocked: `for` and `in`\n",
        "Use a `for` statement to easily write count-controlled loops.\n",
        "- designed to work with a sequence of data items.\n",
        "    - iterates once for each item in the sequence."
      ]
    },
    {
      "cell_type": "markdown",
      "metadata": {
        "id": "xee1tpls92Ls"
      },
      "source": [
        "## `for` loop syntax:\n",
        "- keyword `for`\n",
        "- __target variable__: you get to make this one up, but it's best if it hasn't been used in your current program.\n",
        "- keyword `in`\n",
        "- a sequence\n",
        "- colon `:`\n",
        "\n",
        "Example:"
      ]
    },
    {
      "cell_type": "code",
      "execution_count": null,
      "metadata": {
        "id": "yllykvtT92Ls",
        "outputId": "536de440-0126-40b4-8c11-d8ebb0f1e08c"
      },
      "outputs": [
        {
          "name": "stdout",
          "output_type": "stream",
          "text": [
            "Sunday\n",
            "Monday\n",
            "Tuesday\n",
            "Wednesday\n",
            "Thursday\n",
            "Friday\n",
            "Saturday\n"
          ]
        }
      ],
      "source": [
        "days_in_week = ['Sunday','Monday', 'Tuesday', 'Wednesday', 'Thursday', 'Friday', 'Saturday']\n",
        "\n",
        "for day in days_in_week: #day is the target variable\n",
        "    print(day)"
      ]
    },
    {
      "cell_type": "code",
      "execution_count": null,
      "metadata": {
        "id": "9Le_U83B92Ls",
        "outputId": "20522a1c-7f3f-47cf-8e67-ccf195329da6"
      },
      "outputs": [
        {
          "name": "stdout",
          "output_type": "stream",
          "text": [
            "1\n",
            "2\n",
            "3\n",
            "4\n",
            "5\n"
          ]
        }
      ],
      "source": [
        "for num in [1,2,3,4,5]:\n",
        "    print(num)"
      ]
    },
    {
      "cell_type": "markdown",
      "metadata": {
        "id": "PcQfpx7s92Ls"
      },
      "source": [
        "<div>\n",
        "<img src=\"https://github.com/merriekay/CS65-F23/blob/main/images/day05_forloops.png?raw=1\" width=\"500\"/>\n",
        "</div>"
      ]
    },
    {
      "cell_type": "markdown",
      "metadata": {
        "id": "wXPYL_fU92Ls"
      },
      "source": [
        "# Group Exercise:\n",
        "\n",
        "Walk through the following for loops. Before you try running them, see if you can predit what they will output."
      ]
    },
    {
      "cell_type": "code",
      "execution_count": null,
      "metadata": {
        "id": "MdCAipqQ92Lt"
      },
      "outputs": [],
      "source": [
        "for val in [1,3,5,7,9]:\n",
        "    print(val)"
      ]
    },
    {
      "cell_type": "code",
      "execution_count": null,
      "metadata": {
        "id": "wwXC0TkS92Lt"
      },
      "outputs": [],
      "source": [
        "for name in ['Han Solo', 'Darth Vader', 'Yoda', 'Grogu']:\n",
        "    print(name)"
      ]
    },
    {
      "cell_type": "code",
      "execution_count": null,
      "metadata": {
        "id": "rIZwc3ln92Lt"
      },
      "outputs": [],
      "source": [
        "for num in [1,2,3,4,5]:\n",
        "    if num%2==0:\n",
        "        print(num)"
      ]
    },
    {
      "cell_type": "code",
      "execution_count": null,
      "metadata": {
        "scrolled": true,
        "id": "0O3LiWJ692Lt"
      },
      "outputs": [],
      "source": [
        "my_string = input(\"type something:\")\n",
        "for char in my_string:\n",
        "    print(char)"
      ]
    },
    {
      "cell_type": "markdown",
      "metadata": {
        "id": "kHAWdfdf92Lt"
      },
      "source": [
        "# The `range()` function\n",
        "\n",
        "The `range()` function simplifies the process of writing a for loop.\n",
        "\n",
        "- `range()` returns an iterable object\n",
        "    - *iterable* means that it contains a sequence of values that can be iterated (looped) over."
      ]
    },
    {
      "cell_type": "code",
      "execution_count": null,
      "metadata": {
        "id": "L4h-vxoI92Lt",
        "outputId": "fcb4b726-6de7-4ad9-ee93-2d31fafe78a6"
      },
      "outputs": [
        {
          "data": {
            "text/plain": [
              "range(0, 5)"
            ]
          },
          "execution_count": 47,
          "metadata": {},
          "output_type": "execute_result"
        }
      ],
      "source": [
        "range(5)"
      ]
    },
    {
      "cell_type": "code",
      "execution_count": null,
      "metadata": {
        "id": "AmnDko4892Lu",
        "outputId": "9960988f-e3c1-47da-bc59-85e02a2b1084"
      },
      "outputs": [
        {
          "name": "stdout",
          "output_type": "stream",
          "text": [
            "0\n",
            "1\n",
            "2\n",
            "3\n",
            "4\n"
          ]
        }
      ],
      "source": [
        "#          [0,1,2,3,4]\n",
        "for num in range(5):\n",
        "    print(num)"
      ]
    },
    {
      "cell_type": "code",
      "execution_count": null,
      "metadata": {
        "id": "0SrUQIwN92Lu",
        "outputId": "11db900c-59c3-47bf-9d2b-509098d3e190"
      },
      "outputs": [
        {
          "name": "stdout",
          "output_type": "stream",
          "text": [
            "Hello World!\n",
            "Hello World!\n",
            "Hello World!\n",
            "Hello World!\n",
            "Hello World!\n"
          ]
        }
      ],
      "source": [
        "#        [0,1,2,3,4]\n",
        "for x in range(5):\n",
        "    print(\"Hello World!\")"
      ]
    },
    {
      "cell_type": "markdown",
      "metadata": {
        "id": "7kZm3F-e92Lu"
      },
      "source": [
        "## Passing `range()` Multiple Arguments\n",
        "\n",
        "By default, the range function produces a sequence of numbers that increases by 1.\n",
        "\n",
        "If you pass three arguments to range:\n",
        "- the first number is the starting value\n",
        "- the second number is the ending limit\n",
        "- the third number is the step value (increment)"
      ]
    },
    {
      "cell_type": "code",
      "execution_count": null,
      "metadata": {
        "id": "yUbdFPWa92Lu",
        "outputId": "0bc92b7d-11cb-4958-a80a-cb352df4f8ba"
      },
      "outputs": [
        {
          "name": "stdout",
          "output_type": "stream",
          "text": [
            "10\n",
            "8\n",
            "6\n",
            "4\n",
            "2\n"
          ]
        }
      ],
      "source": [
        "#         [10, 8, 6, 4, 2]\n",
        "for x in range(10,1,-2):\n",
        "    print(x)"
      ]
    },
    {
      "cell_type": "markdown",
      "metadata": {
        "id": "_wcpme6j92Lv"
      },
      "source": [
        "## Group Exercise:\n",
        "\n",
        "Using for loops and the `range()` function, take a crack at the following tasks:\n",
        "- print out all integers between 1 and 200 (including 200)\n",
        "- print out all even integers between 1 and 200 (including 200)\n",
        "- print out all integers counting down from 50 to 1\n",
        "- print out all integers between 1 and 10, followed by the squares\n",
        "    - So this output might look like:\n",
        "    \n",
        "    `1 --- 1`\n",
        "    \n",
        "    `2 --- 4`\n",
        "    \n",
        "    `3 --- 9` etc"
      ]
    },
    {
      "cell_type": "code",
      "execution_count": null,
      "metadata": {
        "id": "rps_X-sU92Lv"
      },
      "outputs": [],
      "source": []
    },
    {
      "cell_type": "markdown",
      "metadata": {
        "id": "zHUgNC1892Lv"
      },
      "source": [
        "## Two Main Formulas for For Loops:\n",
        "\n",
        "There are two common strategies for using for loops with lists.\n",
        "\n",
        "The first is called `list comprehension`, use this when:\n",
        "- you want to access the __values__ in the list\n",
        "- but you don't need access to the __index__ of each value.\n",
        "\n",
        "For example... if we want to print out the negative temperatures from a list:"
      ]
    },
    {
      "cell_type": "code",
      "execution_count": null,
      "metadata": {
        "id": "TOatcusl92Lv",
        "outputId": "e2618580-103f-42aa-aac6-6c61b8e57d51"
      },
      "outputs": [
        {
          "name": "stdout",
          "output_type": "stream",
          "text": [
            "-5\n",
            "-15\n",
            "-8\n",
            "-1\n"
          ]
        }
      ],
      "source": [
        "temperatures = [30, 20, 2, -5, -15, -8, -1, 0, 5, 35]\n",
        "\n",
        "for temp in temperatures:\n",
        "    # print temp if it is negative\n",
        "    if temp < 0:\n",
        "        print(temp)"
      ]
    },
    {
      "cell_type": "markdown",
      "metadata": {
        "id": "W67PY3cC92L-"
      },
      "source": [
        "What if we wanted to print out which days had negative temperatures?"
      ]
    },
    {
      "cell_type": "code",
      "execution_count": null,
      "metadata": {
        "id": "bK2r54G492L-",
        "outputId": "a00ea82a-79e8-49d1-bcd7-7d0904486aac"
      },
      "outputs": [
        {
          "name": "stdout",
          "output_type": "stream",
          "text": [
            "Day 3 had a temperature of -5\n",
            "Day 4 had a temperature of -15\n",
            "Day 5 had a temperature of -8\n",
            "Day 6 had a temperature of -1\n"
          ]
        }
      ],
      "source": [
        "# our output might look like:"
      ]
    },
    {
      "cell_type": "markdown",
      "metadata": {
        "id": "5Hqco6Lz92L-"
      },
      "source": [
        "So, essentially, we want to access both the:\n",
        "- __values__ inside the list\n",
        "- __index__ of each value in the list."
      ]
    },
    {
      "cell_type": "markdown",
      "metadata": {
        "id": "DbS0JCVx92L-"
      },
      "source": [
        "Possible solutions:\n",
        "- use a counter\n",
        "- use the `range()` function\n"
      ]
    },
    {
      "cell_type": "code",
      "execution_count": null,
      "metadata": {
        "id": "J9P_sRwR92L_"
      },
      "outputs": [],
      "source": [
        "# what will this code do?\n",
        "for index in range(len(temperatures)):\n",
        "    print(index)"
      ]
    },
    {
      "cell_type": "code",
      "execution_count": null,
      "metadata": {
        "id": "mbyRDs8Z92L_"
      },
      "outputs": [],
      "source": [
        "temperatures = [30, 20, 2, -5, -15, -8, -1, 0, 5, 35]\n",
        "\n",
        "for index in range(len(temperatures)):\n",
        "    if temperatures[index] < 0:\n",
        "        print(\"Day\", index, \" had a negative temperature\")"
      ]
    },
    {
      "cell_type": "markdown",
      "metadata": {
        "id": "6O01tcUh92L_"
      },
      "source": [
        "# Print Formatting\n",
        "\n",
        "If we didnt want the next print statemenet to otput on the next line, we can ass in a second __argument__ to the print function.\n",
        "\n",
        "Passing in `end=\"\"` inside the parenthese of `print()` will no longer make the next print statement continue on the next line."
      ]
    },
    {
      "cell_type": "code",
      "execution_count": null,
      "metadata": {
        "id": "D3imAAUB92L_",
        "outputId": "a9bb0429-a3ff-4b92-f963-990109a8dd2e"
      },
      "outputs": [
        {
          "name": "stdout",
          "output_type": "stream",
          "text": [
            "one\n",
            "two\n",
            "three\n",
            "==============\n",
            "onetwothree"
          ]
        }
      ],
      "source": [
        "print(\"one\")\n",
        "print(\"two\")\n",
        "print(\"three\")\n",
        "print(\"==============\")\n",
        "print(\"one\", end=\"\")\n",
        "print(\"two\", end=\"\")\n",
        "print(\"three\", end=\"\")"
      ]
    },
    {
      "cell_type": "markdown",
      "metadata": {
        "id": "ZljHs-c492L_"
      },
      "source": [
        "## Printing a blank line\n",
        "\n",
        "If you want the output to contain a blank line, then print can be used without an __argument__."
      ]
    },
    {
      "cell_type": "code",
      "execution_count": null,
      "metadata": {
        "id": "hsA4552x92MA",
        "outputId": "3e5d9100-bfea-44fb-b3f6-e7ce17605f7d"
      },
      "outputs": [
        {
          "name": "stdout",
          "output_type": "stream",
          "text": [
            "hello\n",
            "\n",
            "\n",
            "now I'm here\n"
          ]
        }
      ],
      "source": [
        "print(\"hello\")\n",
        "print()\n",
        "print()\n",
        "print(\"now I'm here\")"
      ]
    },
    {
      "cell_type": "markdown",
      "metadata": {
        "id": "jBEG1LwZ92MA"
      },
      "source": [
        "# 💬 Goup Exercise #1:\n",
        "\n",
        "Prompt the user for an integer\n",
        "\n",
        "Print out a row of alternating X's and O's in which the number of characters equals the number input"
      ]
    },
    {
      "cell_type": "code",
      "execution_count": null,
      "metadata": {
        "id": "ZqsV3W-t92MA",
        "outputId": "049dd583-0035-4590-d309-27f3d2bda979"
      },
      "outputs": [
        {
          "name": "stdout",
          "output_type": "stream",
          "text": [
            "Please enter an integer: 3\n",
            "XOX"
          ]
        }
      ],
      "source": [
        "# Example Output #1"
      ]
    },
    {
      "cell_type": "code",
      "execution_count": null,
      "metadata": {
        "id": "yTTSTOK692MA",
        "outputId": "56e54591-700a-44bf-d018-70afb5a120dd"
      },
      "outputs": [
        {
          "name": "stdout",
          "output_type": "stream",
          "text": [
            "Please enter an integer: 8\n",
            "XOXOXOXO"
          ]
        }
      ],
      "source": [
        "# Example Output #2"
      ]
    },
    {
      "cell_type": "code",
      "execution_count": null,
      "metadata": {
        "id": "ska_LGGd92MA",
        "outputId": "41e6da87-d647-4757-8c9a-d66623bc57e3"
      },
      "outputs": [
        {
          "name": "stdout",
          "output_type": "stream",
          "text": [
            "Please enter an integer: 45\n",
            "XOXOXOXOXOXOXOXOXOXOXOXOXOXOXOXOXOXOXOXOXOXOX"
          ]
        }
      ],
      "source": [
        "# Example Output #3"
      ]
    },
    {
      "cell_type": "markdown",
      "metadata": {
        "id": "rUju0zXM92MB"
      },
      "source": [
        "## Print formatting `sep`:\n",
        "\n",
        "When multiple arguments are passed into the `print()` function, they are by default separated by a space."
      ]
    },
    {
      "cell_type": "code",
      "execution_count": null,
      "metadata": {
        "id": "a3gsnT-_92MB",
        "outputId": "b6170814-9411-4c4b-b2f1-f0542bdb844a"
      },
      "outputs": [
        {
          "name": "stdout",
          "output_type": "stream",
          "text": [
            "The cost of your item is $ 5.75\n"
          ]
        }
      ],
      "source": [
        "cost = 5.75\n",
        "print(\"The cost of your item is $\", cost)"
      ]
    },
    {
      "cell_type": "markdown",
      "metadata": {
        "id": "CiQPbRIn92MB"
      },
      "source": [
        "Note the pesky space between the $ and the cost above."
      ]
    },
    {
      "cell_type": "markdown",
      "metadata": {
        "id": "OaGuoNMs92MB"
      },
      "source": [
        "## Print formatting `sep`:\n",
        "\n",
        "If you do not want the default space between arguetsin a print statement, you can put an additional argument that specifies exactly what should be placed between items in the print statement.\n",
        "\n",
        "For example, nothing (the empty string) denoted `\"\"`, which is denoted as `sep = \"\"`"
      ]
    },
    {
      "cell_type": "code",
      "execution_count": null,
      "metadata": {
        "id": "CeYlGGAQ92MC",
        "outputId": "d45de699-7de1-4bbf-d741-b86626683717"
      },
      "outputs": [
        {
          "name": "stdout",
          "output_type": "stream",
          "text": [
            "The cost of your item is $5.75\n"
          ]
        }
      ],
      "source": [
        "cost = 5.75\n",
        "print(\"The cost of your item is $\", cost, sep=\"\")"
      ]
    },
    {
      "cell_type": "markdown",
      "metadata": {
        "id": "qBoaGOLj92MC"
      },
      "source": [
        "## The `round()` function:\n",
        "\n",
        "Python provides a round function that rounds a decimal number to the nearest whole number."
      ]
    },
    {
      "cell_type": "code",
      "execution_count": null,
      "metadata": {
        "id": "GCKy2Jwe92MC",
        "outputId": "6dad145f-9e80-4b77-98cf-58ee06000488"
      },
      "outputs": [
        {
          "data": {
            "text/plain": [
              "5"
            ]
          },
          "execution_count": 9,
          "metadata": {},
          "output_type": "execute_result"
        }
      ],
      "source": [
        "round(4.56)"
      ]
    },
    {
      "cell_type": "code",
      "execution_count": null,
      "metadata": {
        "id": "X5Hifu7u92MC",
        "outputId": "5fada20f-a4fd-4d2b-eccf-ac4e8d40adc0"
      },
      "outputs": [
        {
          "data": {
            "text/plain": [
              "9"
            ]
          },
          "execution_count": 10,
          "metadata": {},
          "output_type": "execute_result"
        }
      ],
      "source": [
        "round(9.12)"
      ]
    },
    {
      "cell_type": "markdown",
      "metadata": {
        "id": "oIddC__z92MC"
      },
      "source": [
        "# 💬 Goup Exercise #2:\n",
        "\n",
        "There is somthing peculiar (perhaps a bug?) with Python's implementation of `round()`\n",
        "\n",
        "Tkae a minute, write some code with round, and see if you can figure out this issue..."
      ]
    },
    {
      "cell_type": "code",
      "execution_count": null,
      "metadata": {
        "id": "4R3lOdxO92MD"
      },
      "outputs": [],
      "source": [
        "# try round(0.5), round(1), round(1.5), round(2), round(2.5), etc"
      ]
    },
    {
      "cell_type": "markdown",
      "metadata": {
        "id": "NQVYssU892MD"
      },
      "source": [
        "## Types of Rounding\n",
        "\n",
        "There are actually many different types of rounding:\n",
        "- convergent rounding\n",
        "- statistician's rounding\n",
        "- Guassian rounding\n",
        "- odd-even rounding\n",
        "- banker's rounding\n",
        "\n",
        "Python's rounding:\n",
        "- Numbers which are equidistant from the wo nearest integers are roundd to the nearest _even integer_.\n",
        "- Thus, 0.5 rounds down to 0; 1.5 rounds up to 2."
      ]
    },
    {
      "cell_type": "markdown",
      "metadata": {
        "id": "gDdv2Toh92MD"
      },
      "source": [
        "## Rounding to Decimal Places:\n",
        "\n",
        "You can also use round to round float numbers to a specific number of decimal places..."
      ]
    },
    {
      "cell_type": "code",
      "execution_count": null,
      "metadata": {
        "id": "ZnpXRICA92MD",
        "outputId": "c912d734-04d4-4bc2-ad49-7d20e84ec15f"
      },
      "outputs": [
        {
          "name": "stdout",
          "output_type": "stream",
          "text": [
            "3.142\n"
          ]
        }
      ],
      "source": [
        "my_val = round(3.1415926, 3)\n",
        "print(my_val)"
      ]
    },
    {
      "cell_type": "markdown",
      "metadata": {
        "id": "fk5lWB5g92MD"
      },
      "source": [
        "# Let's Practice:\n",
        "\n",
        "The following exercises have [solution code available here](https://drive.google.com/drive/folders/1N2R-CknezO9jh1ctNosvYRiWytgId52O?usp=drive_link)"
      ]
    },
    {
      "cell_type": "markdown",
      "metadata": {
        "id": "xM2PjmHK92MD"
      },
      "source": [
        "## Exercise #1:\n",
        "\n",
        "Write both the `for` loop and the `while` loop that will have this output:"
      ]
    },
    {
      "cell_type": "code",
      "execution_count": null,
      "metadata": {
        "id": "_BBN5V6-92MD",
        "outputId": "ebc91203-4e83-4a46-9e94-083311819466"
      },
      "outputs": [
        {
          "name": "stdout",
          "output_type": "stream",
          "text": [
            "1\n",
            "2\n",
            "3\n",
            "4\n",
            "5\n",
            "6\n",
            "7\n",
            "8\n",
            "9\n",
            "10\n"
          ]
        }
      ],
      "source": [
        "# for loop"
      ]
    },
    {
      "cell_type": "code",
      "execution_count": null,
      "metadata": {
        "id": "dRUZwgTi92ME",
        "outputId": "0283f05d-0f87-4f29-f990-21b6173ec394"
      },
      "outputs": [
        {
          "name": "stdout",
          "output_type": "stream",
          "text": [
            "1\n",
            "2\n",
            "3\n",
            "4\n",
            "5\n",
            "6\n",
            "7\n",
            "8\n",
            "9\n",
            "10\n"
          ]
        }
      ],
      "source": [
        "# while loop\n"
      ]
    },
    {
      "cell_type": "markdown",
      "metadata": {
        "id": "AA6ZHFBu92ME"
      },
      "source": [
        "## Exercise #2:\n",
        "\n",
        "- Write a loop that will execute 5 times.\n",
        "- Within the loop, get a float vlaue from the user (the amount of rain that fell in a day)\n",
        "- use an accumulator to add up all of the rain that fell over the five days\n",
        "- outside of the loop, print out the sum of all of the rainfall."
      ]
    },
    {
      "cell_type": "code",
      "execution_count": null,
      "metadata": {
        "id": "QCpId0xk92ME",
        "outputId": "49e1f279-d7d2-4130-f100-8c7684039509"
      },
      "outputs": [
        {
          "name": "stdout",
          "output_type": "stream",
          "text": [
            "What is the rainfall? 2\n",
            "What is the rainfall? 0\n",
            "What is the rainfall? 1\n",
            "What is the rainfall? 1.1\n",
            "What is the rainfall? 3\n",
            "There was a total of 7.1 inches of rain\n"
          ]
        }
      ],
      "source": [
        "# output might look like this:"
      ]
    },
    {
      "cell_type": "markdown",
      "metadata": {
        "id": "2pWQg7Zc92ME"
      },
      "source": [
        "## Exercise #3:\n",
        "- `1+2+3+4+5+ = 15`\n",
        "- `1+2+3+4+5+6 = 21`\n",
        "\n",
        "Prompt the user for an integer. Output the sum of all of the integers up to an dincluding the input number."
      ]
    },
    {
      "cell_type": "code",
      "execution_count": null,
      "metadata": {
        "id": "4rZfU-7f92ME",
        "outputId": "cb2593a2-c267-493b-b82f-859d2a0107e1"
      },
      "outputs": [
        {
          "name": "stdout",
          "output_type": "stream",
          "text": [
            "Please enter an integer: 6\n",
            "The sum of integers 1 through 6 is 21\n"
          ]
        }
      ],
      "source": [
        "# possible output"
      ]
    },
    {
      "cell_type": "code",
      "execution_count": null,
      "metadata": {
        "id": "1lNbYMtw92MF",
        "outputId": "bb73f356-1734-4bce-dc3c-32cb8c94d56a"
      },
      "outputs": [
        {
          "name": "stdout",
          "output_type": "stream",
          "text": [
            "Please enter an integer: 5\n",
            "The sum of integers 1 through 5 is 15\n"
          ]
        }
      ],
      "source": [
        "# possible output #2"
      ]
    },
    {
      "cell_type": "code",
      "execution_count": null,
      "metadata": {
        "id": "Zg64gDGP92MF",
        "outputId": "5dba4521-5039-4a70-f0b2-5f3f4e87b39e"
      },
      "outputs": [
        {
          "name": "stdout",
          "output_type": "stream",
          "text": [
            "Please enter an integer: 100\n",
            "The sum of integers 1 through 100 is 5050\n"
          ]
        }
      ],
      "source": [
        "# possible output #3"
      ]
    },
    {
      "cell_type": "markdown",
      "metadata": {
        "id": "9w5bJzCO92MF"
      },
      "source": [
        "## Exercise #4:\n",
        "\n",
        "Prompt the user for an integer\n",
        "\n",
        "Print out a row of alternating `X`s and `O`s in which. the number or characters equals the number input."
      ]
    },
    {
      "cell_type": "code",
      "execution_count": null,
      "metadata": {
        "id": "OvnWa8v092MF",
        "outputId": "da4195b4-bff1-4905-e4dd-86079b2e40e7"
      },
      "outputs": [
        {
          "name": "stdout",
          "output_type": "stream",
          "text": [
            "please enter an integer: 3\n",
            "XOX"
          ]
        }
      ],
      "source": [
        "# example output"
      ]
    },
    {
      "cell_type": "code",
      "execution_count": null,
      "metadata": {
        "id": "StfYkZj692MF",
        "outputId": "60c18e54-6dd2-4dc5-cfdf-9393538f4098"
      },
      "outputs": [
        {
          "name": "stdout",
          "output_type": "stream",
          "text": [
            "please enter an integer: 10\n",
            "XOXOXOXOXO"
          ]
        }
      ],
      "source": [
        "# example output"
      ]
    },
    {
      "cell_type": "code",
      "execution_count": null,
      "metadata": {
        "id": "Vd0gpcIN92MF",
        "outputId": "f2fe7c1a-bcf9-4f71-c634-cff7c0817413"
      },
      "outputs": [
        {
          "name": "stdout",
          "output_type": "stream",
          "text": [
            "please enter an integer: 100\n",
            "XOXOXOXOXOXOXOXOXOXOXOXOXOXOXOXOXOXOXOXOXOXOXOXOXOXOXOXOXOXOXOXOXOXOXOXOXOXOXOXOXOXOXOXOXOXOXOXOXOXO"
          ]
        }
      ],
      "source": [
        "# example output"
      ]
    },
    {
      "cell_type": "markdown",
      "metadata": {
        "id": "IzhEpd2992MG"
      },
      "source": [
        "## Exercise #5\n",
        "\n",
        "The user can play a game. Each time they type in the word yes or yep (capitalization doesn't matter) then they earn $0.015. (1 and a half cents)\n",
        "\n",
        "As soon as they teyp in somthing other than yes or yep, then their turn is over.\n",
        "\n",
        "Write the program that will implement this and also output how much they have earned (rounded to the nearest cent(.\n",
        "\n",
        "Pay close attention to the formatting:"
      ]
    },
    {
      "cell_type": "code",
      "execution_count": null,
      "metadata": {
        "id": "PNENP8um92MG",
        "outputId": "f7597656-c3e2-4273-c975-93436d2bca5f"
      },
      "outputs": [
        {
          "name": "stdout",
          "output_type": "stream",
          "text": [
            "would you like to play? yes\n",
            "would you like to play? YES\n",
            "would you like to play? yep\n",
            "would you like to play? Yep\n",
            "would you like to play? YeS\n",
            "would you like to play? no\n",
            "you earned $0.09\n"
          ]
        }
      ],
      "source": [
        "# possible output"
      ]
    },
    {
      "cell_type": "markdown",
      "metadata": {
        "id": "6PW4fIEN92MG"
      },
      "source": [
        "## Exercise #6:\n",
        "\n",
        "Describe in English what this code will do:"
      ]
    },
    {
      "cell_type": "code",
      "execution_count": null,
      "metadata": {
        "id": "2ZGkX-YA92MG"
      },
      "outputs": [],
      "source": [
        "import random\n",
        "\n",
        "num = random.randint(1,10)\n",
        "\n",
        "for try_number in [1,2,3,4,5]:\n",
        "    print(\"Try\", try_number, \"--\", end=\"\")\n",
        "    guess = int(input(\" guess a number \"))\n",
        "    if guess == num:\n",
        "        print(\"You got it!\")\n",
        "    else:\n",
        "        print(\"Nope.\")"
      ]
    },
    {
      "cell_type": "markdown",
      "metadata": {
        "id": "vr66NHS292MG"
      },
      "source": [
        "# Admin Stuff"
      ]
    },
    {
      "cell_type": "markdown",
      "metadata": {
        "id": "x-kUc6gT92MH"
      },
      "source": [
        "You should be working on:\n",
        "- [Lab #4 Loops](https://analytics.drake.edu/~moore/CS65-F23/Lab4.html) due tonight by 11:59pm.\n",
        "\n",
        "\n",
        "Released today, due Monday October 2nd by 11:59pm:\n",
        "- [Lab #5a Pennies](https://analytics.drake.edu/~moore/CS65-F23/Lab5a.html), 2 points, autograded\n",
        "- [Lab #5b Store](https://analytics.drake.edu/~moore/CS65-F23/Lab5b.html), 2 points, manually graded"
      ]
    }
  ],
  "metadata": {
    "celltoolbar": "Slideshow",
    "kernelspec": {
      "display_name": "Python 3 (ipykernel)",
      "language": "python",
      "name": "python3"
    },
    "language_info": {
      "codemirror_mode": {
        "name": "ipython",
        "version": 3
      },
      "file_extension": ".py",
      "mimetype": "text/x-python",
      "name": "python",
      "nbconvert_exporter": "python",
      "pygments_lexer": "ipython3",
      "version": "3.11.4"
    },
    "colab": {
      "provenance": [],
      "include_colab_link": true
    }
  },
  "nbformat": 4,
  "nbformat_minor": 0
}