{
 "cells": [
  {
   "cell_type": "markdown",
   "id": "180dcd46",
   "metadata": {},
   "source": [
    "# Lab 5a: Pennies\n",
    "\n",
    "### Due: Monday, October 2nd, 2023\n",
    "#### Fall 2023 | CS 65\n",
    "\n",
    "This is \"Part A\" of Lab #5. It will be worth 2 points. In this la you are going to practice working with a for loop, range, and an accumulator variable. \n",
    "\n",
    "When I was in elementary school, (as I remember it) a playground riddle that went around went something like this: you have a choice eitheer A or B.\n",
    "- __Option A__: I’ll give you one penny today, two pennies tomorrow, three pennies the day after that ... and so on for 100 days.\n",
    "- __Option B__: after 100 days, I’ll give you $50.\n",
    "\n",
    "\n",
    "Which will you choose? Let’s write a program to see how much one would earn given the increasingpenny-by-day for a variable number of days!\n",
    "\n",
    "## Challenge Exercise: \n",
    "Write a program that will prompt the user for an integer (the number of days). Then use a for loop (and range), and an accumulator variable to add up the sum of the pennies that would have been earned.\n",
    "\n",
    "Here are some examples of the program. The output should look like this:"
   ]
  },
  {
   "cell_type": "code",
   "execution_count": 4,
   "id": "e773533b",
   "metadata": {},
   "outputs": [
    {
     "name": "stdout",
     "output_type": "stream",
     "text": [
      "Please enter the number of days: 100\n",
      "After 100 days you would have $50.5\n"
     ]
    }
   ],
   "source": [
    "# Example output #1"
   ]
  },
  {
   "cell_type": "code",
   "execution_count": 5,
   "id": "a263d87e",
   "metadata": {},
   "outputs": [
    {
     "name": "stdout",
     "output_type": "stream",
     "text": [
      "Please enter the number of days: 3\n",
      "After 3 days you would have $0.06\n"
     ]
    }
   ],
   "source": [
    "# Example output #2"
   ]
  },
  {
   "cell_type": "code",
   "execution_count": 6,
   "id": "2cc324ff",
   "metadata": {},
   "outputs": [
    {
     "name": "stdout",
     "output_type": "stream",
     "text": [
      "Please enter the number of days: 10\n",
      "After 10 days you would have $0.55\n"
     ]
    }
   ],
   "source": [
    "# Example output #3"
   ]
  },
  {
   "cell_type": "code",
   "execution_count": 9,
   "id": "cdb5a1cd",
   "metadata": {},
   "outputs": [
    {
     "name": "stdout",
     "output_type": "stream",
     "text": [
      "Please enter the number of days: 77\n",
      "After 77 days you would have $30.03\n"
     ]
    }
   ],
   "source": [
    "# Example output #4"
   ]
  },
  {
   "cell_type": "markdown",
   "id": "b2d81ad1",
   "metadata": {},
   "source": [
    "When you are finished, submit your solution to the __Lab 5a: Pennies__ assignment on codePost."
   ]
  }
 ],
 "metadata": {
  "kernelspec": {
   "display_name": "Python 3 (ipykernel)",
   "language": "python",
   "name": "python3"
  },
  "language_info": {
   "codemirror_mode": {
    "name": "ipython",
    "version": 3
   },
   "file_extension": ".py",
   "mimetype": "text/x-python",
   "name": "python",
   "nbconvert_exporter": "python",
   "pygments_lexer": "ipython3",
   "version": "3.11.4"
  }
 },
 "nbformat": 4,
 "nbformat_minor": 5
}
