{
  "cells": [
    {
      "cell_type": "markdown",
      "metadata": {
        "id": "view-in-github",
        "colab_type": "text"
      },
      "source": [
        "<a href=\"https://colab.research.google.com/github/merriekay/CS65-F23/blob/main/Day02_Variables_Expressions_UserInput.ipynb\" target=\"_parent\"><img src=\"https://colab.research.google.com/assets/colab-badge.svg\" alt=\"Open In Colab\"/></a>"
      ]
    },
    {
      "cell_type": "markdown",
      "metadata": {
        "id": "hnVH0898fmbu"
      },
      "source": [
        "# CS65: Day 02\n",
        "## Variables, Expressions, and User Input\n",
        "\n",
        "####  CS65: Introduction to Computer Science I | Fall 2023\n",
        "\n",
        "Wednesday, August 30th, 2023\n",
        "\n",
        "📜 [Syllabus](https://docs.google.com/document/d/1JTRJ-22abpu3HNhHzE2NaGfstNrrBav1MSQcLIMBWe4/edit?usp=sharing) | 📬 [CodePost Login](https://codepost.io/login) | 📆 [Schedule](https://docs.google.com/spreadsheets/d/e/2PACX-1vS51v65qE22qEyhLTF_q5sF_4Nu1GhWU4mDgfsF7NY8Yrjl5-ismCyXjHiR4Fuxqd1cJ9dY5l55CcV0/pubhtml?gid=0&single=true) | 🙋 [Polleverywhere](https://pollev.com/moore) | 🪴 [Office Hour Sign Up](https://calendly.com/meredith-moore/office-hours)"
      ]
    },
    {
      "cell_type": "markdown",
      "metadata": {
        "id": "7qY2UPxYfmbw"
      },
      "source": [
        "> Note to self: Make sure you're recording 🎥"
      ]
    },
    {
      "cell_type": "markdown",
      "metadata": {
        "id": "aK55DvoSfmbw"
      },
      "source": [
        "# Admin Stuff"
      ]
    },
    {
      "cell_type": "markdown",
      "metadata": {
        "id": "IlSdwzkTfmbw"
      },
      "source": [
        "You should be working on:\n",
        "\n",
        "- Lab #1 is released today, due to CodePost Wednesday 9/6 by 11:59 pm\n",
        "- [Reading #2: Variables](https://www.py4e.com/html3/02-variables)"
      ]
    },
    {
      "cell_type": "markdown",
      "metadata": {
        "id": "cdh_qKTzfmbw"
      },
      "source": [
        "# ⏪ Quick Review:"
      ]
    },
    {
      "cell_type": "markdown",
      "metadata": {
        "id": "cLzUKQDIfmbx"
      },
      "source": [
        "# What is Computer Science?"
      ]
    },
    {
      "cell_type": "markdown",
      "metadata": {
        "id": "5K0_Fcr1fmbx"
      },
      "source": [
        "Study of Computers?"
      ]
    },
    {
      "cell_type": "markdown",
      "metadata": {
        "id": "3wzRUzaTfmbx"
      },
      "source": [
        "Programming?"
      ]
    },
    {
      "cell_type": "markdown",
      "metadata": {
        "id": "DpwP6gbYfmbx"
      },
      "source": [
        "Computer science is the study of __algorithms__."
      ]
    },
    {
      "cell_type": "markdown",
      "metadata": {
        "id": "6P-DhiC_fmbx"
      },
      "source": [
        "## 🚨🚨 Terminology Alert 🚨🚨\n",
        "An __algorithm__ is a step-by-step procedure for producing a solution to a given problem."
      ]
    },
    {
      "cell_type": "markdown",
      "metadata": {
        "id": "83tu3xQ6fmbx"
      },
      "source": [
        "# Algorithm Examples?"
      ]
    },
    {
      "cell_type": "markdown",
      "metadata": {
        "id": "1t9rk5f3fmby"
      },
      "source": [
        "\n",
        "<div>\n",
        "<img src=\"https://github.com/merriekay/CS65-F23/blob/main/images/day01_algo_ex1.png?raw=1\"/ width=700>\n",
        "</div>"
      ]
    },
    {
      "cell_type": "markdown",
      "metadata": {
        "id": "j5jxxMIyfmby"
      },
      "source": [
        "\n",
        "<div>\n",
        "<img src=\"https://github.com/merriekay/CS65-F23/blob/main/images/day01_algo_ex2.png?raw=1\"/ width=600>\n",
        "</div>"
      ]
    },
    {
      "cell_type": "markdown",
      "metadata": {
        "id": "6kfDH14dfmby"
      },
      "source": [
        "\n",
        "<div>\n",
        "<img src=\"https://github.com/merriekay/CS65-F23/blob/main/images/day01_algo_ex3.png?raw=1\"/ width=600>\n",
        "</div>"
      ]
    },
    {
      "cell_type": "markdown",
      "metadata": {
        "id": "yWm1_88Mfmby"
      },
      "source": [
        "Making a peanut butter and jelly sandwich..."
      ]
    },
    {
      "cell_type": "markdown",
      "metadata": {
        "id": "Wd2t-zPTfmby"
      },
      "source": [
        "# Integrated Development Environment (IDE)\n",
        "\n",
        "An Integrated Development Environment (IDE) is a software system that allows programmers to develop and test code.\n",
        "\n",
        "For this class we'll primarly use an IDE called __Thonny__.\n",
        "\n",
        "<div>\n",
        "<img src=\"https://github.com/merriekay/CS65-F23/blob/main/images/day01_thonny.png?raw=1\"/ width=600>\n",
        "</div>\n"
      ]
    },
    {
      "cell_type": "markdown",
      "metadata": {
        "id": "YutB5V-jfmby"
      },
      "source": [
        "# ✨ New Material"
      ]
    },
    {
      "cell_type": "markdown",
      "metadata": {
        "id": "RBEIR5Anfmbz"
      },
      "source": [
        "# How to Program\n",
        "\n",
        "Programming is not a linear process. You don't just sit down, start writing the first line of code and then keep writing until you're done.\n",
        "\n",
        "Good programmers _design_ their programs before they start writing.\n",
        "- much like having an outline for an essay\n",
        "\n",
        "(a simple) program development cycle:\n",
        "- design the program\n",
        "- write the code\n",
        "- correct syntax errors\n",
        "- test the program\n",
        "- correct logic errors"
      ]
    },
    {
      "cell_type": "markdown",
      "metadata": {
        "id": "2ukjzerBfmbz"
      },
      "source": [
        "# Resiliency in Computer Science\n",
        "\n",
        "One of the best indicators of success in a computer science student is their ability to be __resilient__.\n",
        "\n",
        "Programs almost never work on the first try. To get code to work, you'll have to sit with it, fiddle with it, and try, try again.\n",
        "\n",
        "At first, computer science can be _very_ frustrating. This doesn't mean you're bad at computer science. It just means that you're learning and with every error you run into, you'll be better prepared in the future.\n",
        "\n",
        "This course will work to build your tool box of computer science concepts that you can use to build whatever the heck you want."
      ]
    },
    {
      "cell_type": "markdown",
      "metadata": {
        "id": "xD8w53Kjfmbz"
      },
      "source": [
        "# Psueudocode\n",
        "\n",
        "__Pseudocode__ is an informal 'language' that has no syntax rules\n",
        "- not meant to be compiled or executed (run)\n",
        "- used to create model programs (think scaffolding/outlines)\n",
        "    - no need to worry about syntax errors, can focus on the program's design.\n",
        "    - can be translated directly into actual code in any programming langauge.\n",
        "    \n",
        "I encourage you to always start with pseudocode before you build a program."
      ]
    },
    {
      "cell_type": "markdown",
      "metadata": {
        "id": "KTlDkbqpfmbz"
      },
      "source": [
        "# 🍪 Goup Exercise:\n",
        "\n",
        "A cookie recipe calls for the following ingredients:\n",
        "- 1.5 cups of sugar\n",
        "- 1 cup of butter\n",
        "- 2.75 cups of flour\n",
        "\n",
        "The recipe produces 48 cookies.\n",
        "\n",
        "Take a couple of minutes and write out the __psuedocode__ for a program that:\n",
        "- asks the user how many cookies they would like to make\n",
        "- then displays the number of cups of each ingredient needd for the specified number of cookies"
      ]
    },
    {
      "cell_type": "markdown",
      "metadata": {
        "id": "PJKRwDkgfmbz"
      },
      "source": [
        "## _cookie_algorithm.py_"
      ]
    },
    {
      "cell_type": "markdown",
      "metadata": {
        "id": "-KD1T9Hpfmb0"
      },
      "source": [
        "# 🐍 Python\n",
        "\n",
        "Python is a programming langauge.\n",
        "- It's main purpose is to convert statements (instructions or _source code_) that programmers write into statements that can be executed on a computer.\n",
        "    - __interpreter__: a program that executes computer code.\n",
        "- __syntax__: rules that must be followed so that the interpreter can successfully convert the written instructions to statements the computer can execute."
      ]
    },
    {
      "cell_type": "markdown",
      "metadata": {
        "id": "I_EDobWpfmb0"
      },
      "source": [
        "# Keywords\n",
        "\n",
        "Programming langauges have __keywords__ or __reserved words__\n",
        "- words that have a specified meaning as part of the syntax of the language.\n",
        "\n",
        "<div>\n",
        "<img src=\"https://github.com/merriekay/CS65-F23/blob/main/images/day01_keywords.png?raw=1\"/ width=700>\n",
        "</div>"
      ]
    },
    {
      "cell_type": "markdown",
      "metadata": {
        "id": "TQxJGImBfmb0"
      },
      "source": [
        "# Let's start coding!\n",
        "\n",
        "- Code and Comments\n",
        "- Variables\n",
        "- printing text and variables\n",
        "- expressions\n",
        "- Lab #1"
      ]
    },
    {
      "cell_type": "markdown",
      "metadata": {
        "id": "3q_6-zE5fmb0"
      },
      "source": [
        "# `print` Statement:\n",
        "\n",
        "The `print` statement is a Python line of code that will output a value when the program is run.\n",
        "\n",
        "The value output will be whatever is between the parentheses `()`."
      ]
    },
    {
      "cell_type": "code",
      "execution_count": null,
      "metadata": {
        "id": "hmV_BHfdfmb0",
        "outputId": "99a52e1f-56a5-40e6-c593-f0d79f1220bd"
      },
      "outputs": [
        {
          "name": "stdout",
          "output_type": "stream",
          "text": [
            "Hello CS65!\n"
          ]
        }
      ],
      "source": [
        "print(\"Hello CS65!\")"
      ]
    },
    {
      "cell_type": "markdown",
      "metadata": {
        "id": "zyCLJXusfmb2"
      },
      "source": [
        "## Demo using Thonny"
      ]
    },
    {
      "cell_type": "markdown",
      "metadata": {
        "id": "HcyrUOotfmb2"
      },
      "source": [
        "# Strings:\n",
        "\n",
        "## 🚨🚨 Terminology Alert 🚨🚨\n",
        "In Python, any sequence of characters between double-quotes `\"`, or single quotes `'` is known as a __string__.\n",
        "\n",
        "String Examples:\n",
        "- `\"Hello World\"`\n",
        "- `'123 ABC'`\n",
        "- `\"Greetings, what is your name?\"`"
      ]
    },
    {
      "cell_type": "markdown",
      "metadata": {
        "id": "-13B22W3fmb2"
      },
      "source": [
        "# Comments:\n",
        "\n",
        "__Comments__ are notes of explanation that document lines of code or sections of a program.\n",
        "\n",
        "Comments are part of the program, but the Python _interpreter_ ignores them.\n",
        "\n",
        "They are intended for people who may be reading the source code:\n",
        "- like your professor\n",
        "- or your teammates\n",
        "\n",
        "Python comments are denoted with a `#`."
      ]
    },
    {
      "cell_type": "code",
      "execution_count": null,
      "metadata": {
        "id": "vCZWHsB9fmb2",
        "outputId": "c922c8b5-4581-433b-f3e5-0f5a5cda0248"
      },
      "outputs": [
        {
          "name": "stdout",
          "output_type": "stream",
          "text": [
            "this is a string\n",
            "this, too, is a string\n"
          ]
        }
      ],
      "source": [
        "# this is a comment\n",
        "\n",
        "print('this is a string') #comments can go after lines of code too\n",
        "print(\"this, too, is a string\")"
      ]
    },
    {
      "cell_type": "markdown",
      "metadata": {
        "id": "4CXRm_aTfmb2"
      },
      "source": [
        "## Multi-line comments\n",
        "\n",
        "Text that is surrounded by triple quotes (either `'`, or `\"`) are also comments:"
      ]
    },
    {
      "cell_type": "code",
      "execution_count": null,
      "metadata": {
        "id": "-ZZNQQRofmb3"
      },
      "outputs": [],
      "source": [
        "# This is a comment\n",
        "\n",
        "'''This is also a comment\n",
        "This comment is on multiple lines\n",
        "'''\n",
        "\n",
        "\"\"\"\n",
        "Yes\n",
        "This\n",
        "is\n",
        "A\n",
        "Comment\n",
        "\"\"\""
      ]
    },
    {
      "cell_type": "markdown",
      "metadata": {
        "id": "CwMlKb1qfmb3"
      },
      "source": [
        "## Pro-Tip:\n",
        "\n",
        "In Thonny, you can select a chunk of code, and comment all of the lines out by control (or command) 3.\n",
        "\n",
        "<div>\n",
        "<img src=\"https://github.com/merriekay/CS65-F23/blob/main/images/day01_comments.png?raw=1\"/ width=400>\n",
        "</div>"
      ]
    },
    {
      "cell_type": "markdown",
      "metadata": {
        "id": "HYpnsBr1fmb3"
      },
      "source": [
        "# Variables:\n",
        "\n",
        "A __variable__ is a _name_ that represents a value stored in the computer's memory.\n",
        "\n",
        "Programmers use variables to hold values that might change.\n",
        "\n",
        "They're kind of like cells in a spreadsheet.\n",
        "\n",
        "> cell with name B4 has the value of 42, and we can use that value in other computations by reerringto its name.\n",
        "\n",
        "<div>\n",
        "<img src=\"https://github.com/merriekay/CS65-F23/blob/main/images/day01_cell.png?raw=1\"/ width=400>\n",
        "</div>\n"
      ]
    },
    {
      "cell_type": "markdown",
      "metadata": {
        "id": "YgyT8-sBfmb3"
      },
      "source": [
        "# Example + Survey"
      ]
    },
    {
      "cell_type": "code",
      "execution_count": null,
      "metadata": {
        "id": "nlP758TWfmb3",
        "outputId": "d96ad202-6c38-4813-9899-e0dd7da1fe1a"
      },
      "outputs": [
        {
          "name": "stdout",
          "output_type": "stream",
          "text": [
            "42\n",
            "52\n"
          ]
        }
      ],
      "source": [
        "B4 = 42\n",
        "B5 = B4 + 10\n",
        "print(B4)\n",
        "print(B5)"
      ]
    },
    {
      "cell_type": "markdown",
      "metadata": {
        "id": "mUSf5vcPfmb3"
      },
      "source": [
        "What will be the output when this code is run?\n",
        "\n",
        "a. `42 52`\n",
        "\n",
        "b. `B4 B5`\n",
        "\n",
        "c. `B4 B4 + 10`\n",
        "\n",
        "d. None of these\n"
      ]
    },
    {
      "cell_type": "markdown",
      "metadata": {
        "id": "xWfg0yN4fmb4"
      },
      "source": [
        "# Outputting a variable's value\n",
        "\n",
        "Don't miss that the print statement will output a _variable's value_ if the variable is between the parentheses."
      ]
    },
    {
      "cell_type": "code",
      "execution_count": null,
      "metadata": {
        "id": "a7N3XhTafmb9",
        "outputId": "237c14aa-ee1d-4f82-f928-0f17f2797f2b"
      },
      "outputs": [
        {
          "name": "stdout",
          "output_type": "stream",
          "text": [
            "34\n"
          ]
        }
      ],
      "source": [
        "value = 34\n",
        "print(value)"
      ]
    },
    {
      "cell_type": "markdown",
      "metadata": {
        "id": "Uzw8n-O2fmb9"
      },
      "source": [
        "# A tricky question:\n",
        "\n",
        "What will be the output when the following code is executed?"
      ]
    },
    {
      "cell_type": "code",
      "execution_count": null,
      "metadata": {
        "id": "d23mGiUmfmb9",
        "outputId": "c8cdbf54-d127-400d-e1bb-21eaa6b6ac2b"
      },
      "outputs": [
        {
          "name": "stdout",
          "output_type": "stream",
          "text": [
            "my_val\n"
          ]
        }
      ],
      "source": [
        "my_val = 27.5\n",
        "print(\"my_val\")"
      ]
    },
    {
      "cell_type": "markdown",
      "metadata": {
        "id": "ZlxSaB0Mfmb9"
      },
      "source": [
        "# Printing text and variables together\n",
        "We've seen printing out text by itself and variables by themselves... What if I want both in the same print statmeent?\n",
        "\n",
        "You can pass multiple things to `print()` using _commas_ between them."
      ]
    },
    {
      "cell_type": "code",
      "execution_count": null,
      "metadata": {
        "id": "iD3UeOF_fmb9",
        "outputId": "cc7447b5-94ee-4ac2-de36-1201170e902a"
      },
      "outputs": [
        {
          "name": "stdout",
          "output_type": "stream",
          "text": [
            "The number is\n",
            "5\n",
            "The number is 5 5 the number is 5\n"
          ]
        }
      ],
      "source": [
        "num = 5\n",
        "print(\"The number is\")\n",
        "print(num)\n",
        "\n",
        "#all together now:\n",
        "print(\"The number is\", num)"
      ]
    },
    {
      "cell_type": "markdown",
      "metadata": {
        "id": "CnOHtDqifmb-"
      },
      "source": [
        "## Another example:"
      ]
    },
    {
      "cell_type": "code",
      "execution_count": null,
      "metadata": {
        "id": "tXnvjciTfmb-",
        "outputId": "2d34de1a-65f4-42cf-e6db-b468d21db988"
      },
      "outputs": [
        {
          "name": "stdout",
          "output_type": "stream",
          "text": [
            "There are 42 students who need to eat lunch.\n"
          ]
        }
      ],
      "source": [
        "students = 42\n",
        "print(\"There are\", students, \"students who need to eat lunch.\")"
      ]
    },
    {
      "cell_type": "markdown",
      "metadata": {
        "id": "6U17Q37cfmb-"
      },
      "source": [
        "# Variable Names Matter\n",
        "\n",
        "You can give variables (almost) any name you want."
      ]
    },
    {
      "cell_type": "code",
      "execution_count": null,
      "metadata": {
        "id": "Kpeg-BQ7fmb-",
        "outputId": "fe7c63da-e8d8-497c-c7b2-8b1a0c3a7c15"
      },
      "outputs": [
        {
          "name": "stdout",
          "output_type": "stream",
          "text": [
            "52\n"
          ]
        }
      ],
      "source": [
        "x = 42\n",
        "y = x + 10\n",
        "print(y)"
      ]
    },
    {
      "cell_type": "markdown",
      "metadata": {
        "id": "wLhydMmufmb_"
      },
      "source": [
        "But... you should give them descriptive names for the sake of humans reading the code"
      ]
    },
    {
      "cell_type": "code",
      "execution_count": null,
      "metadata": {
        "id": "XD9mJblufmb_",
        "outputId": "d39b1712-019f-4609-c64d-83b979773e37"
      },
      "outputs": [
        {
          "name": "stdout",
          "output_type": "stream",
          "text": [
            "52\n"
          ]
        }
      ],
      "source": [
        "num_students = 42\n",
        "num_adults = 10\n",
        "total_field_trip_lunches = num_students + num_adults\n",
        "print(total_field_trip_lunches)"
      ]
    },
    {
      "cell_type": "markdown",
      "metadata": {
        "id": "1l6wcvFwfmb_"
      },
      "source": [
        "# Variable Naming Rules\n",
        "Rules for naming variables in Python:\n",
        "- Variable name cannot (should not) be a Python keyword\n",
        "- variable name cannot contain spaces\n",
        "- first character must be a letter or an underscore\n",
        "- after the first character, you may use letters, digits, or underscores\n",
        "- variable names are case sensitive."
      ]
    },
    {
      "cell_type": "markdown",
      "metadata": {
        "id": "OColFaxHfmb_"
      },
      "source": [
        "# Variable Naming Conventions\n",
        "\n",
        "Variable names should reflect the use of the variable.\n",
        "- Don't use `x` when `total_sale` is more descriptive.\n",
        "\n",
        "Variable names should begin with a lowercase letter\n",
        "\n",
        "If a variable has more than one word, connect them with an underscore (this is called \"snake case\")\n",
        "- `total_sale` ✅\n",
        "- `totalSale` ❌ (this is called Camel case and is commonly used in Java)\n",
        "- `totalsale` ❌"
      ]
    },
    {
      "cell_type": "markdown",
      "metadata": {
        "id": "SBJtiDznfmb_"
      },
      "source": [
        "## 💪🏻 Exercise:\n",
        "\n",
        "Which of the following are bad variable names? Why?\n",
        "\n",
        "- `if`\n",
        "- `Taxable income` `taxable_income`\n",
        "- `1st_place_award` `first_place_award`\n",
        "- `#cash_prize` `cash_prize`\n",
        "- `seven`, not descriptive\n",
        "- `X` `x`, not descriptive\n",
        "- `cupsOfSugar`, camel case, `cups_of_sugar`"
      ]
    },
    {
      "cell_type": "markdown",
      "metadata": {
        "id": "MXpJf9T4fmcA"
      },
      "source": [
        "## Bad Variable Name Examples:"
      ]
    },
    {
      "cell_type": "code",
      "execution_count": null,
      "metadata": {
        "id": "9gQgQq3NfmcA",
        "outputId": "56c36562-a7e4-4698-e637-e8bf935a8d5b"
      },
      "outputs": [
        {
          "ename": "SyntaxError",
          "evalue": "invalid syntax (<ipython-input-18-7a2c26bbaa19>, line 1)",
          "output_type": "error",
          "traceback": [
            "\u001b[0;36m  File \u001b[0;32m\"<ipython-input-18-7a2c26bbaa19>\"\u001b[0;36m, line \u001b[0;32m1\u001b[0m\n\u001b[0;31m    cash prize = 34\u001b[0m\n\u001b[0m         ^\u001b[0m\n\u001b[0;31mSyntaxError\u001b[0m\u001b[0;31m:\u001b[0m invalid syntax\n"
          ]
        }
      ],
      "source": [
        "cash prize = 34"
      ]
    },
    {
      "cell_type": "code",
      "execution_count": null,
      "metadata": {
        "id": "t6Z-4hi9fmcA",
        "outputId": "05f033ff-bb19-48c7-ece9-3aac3636f306"
      },
      "outputs": [
        {
          "ename": "NameError",
          "evalue": "name 'studnts' is not defined",
          "output_type": "error",
          "traceback": [
            "\u001b[0;31m---------------------------------------------------------------------------\u001b[0m",
            "\u001b[0;31mNameError\u001b[0m                                 Traceback (most recent call last)",
            "\u001b[0;32m<ipython-input-24-787e3b2eab30>\u001b[0m in \u001b[0;36m<module>\u001b[0;34m\u001b[0m\n\u001b[1;32m      1\u001b[0m \u001b[0mstudents\u001b[0m \u001b[0;34m=\u001b[0m \u001b[0;36m42\u001b[0m\u001b[0;34m\u001b[0m\u001b[0;34m\u001b[0m\u001b[0m\n\u001b[0;32m----> 2\u001b[0;31m \u001b[0mprint\u001b[0m\u001b[0;34m(\u001b[0m\u001b[0mstudnts\u001b[0m\u001b[0;34m)\u001b[0m\u001b[0;34m\u001b[0m\u001b[0;34m\u001b[0m\u001b[0m\n\u001b[0m",
            "\u001b[0;31mNameError\u001b[0m: name 'studnts' is not defined"
          ]
        }
      ],
      "source": [
        "students = 42\n",
        "print(studnts)"
      ]
    },
    {
      "cell_type": "markdown",
      "metadata": {
        "id": "_Xqz2t1TfmcA"
      },
      "source": [
        "# Assignment Statements\n",
        "\n",
        "Code with a `=` is called an __assignment statement__.\n",
        "\n",
        "You can use an __assignment statement__ to create a variable and make it reference a piece of data (a value).\n",
        "\n",
        "Examples:"
      ]
    },
    {
      "cell_type": "code",
      "execution_count": null,
      "metadata": {
        "id": "G6FCcy6DfmcA"
      },
      "outputs": [],
      "source": [
        "age = 25\n",
        "hourly_rate = 15.5\n",
        "greeting = \"hello everyone\""
      ]
    },
    {
      "cell_type": "markdown",
      "metadata": {
        "id": "Hgqcrd6xfmcA"
      },
      "source": [
        "## Assignment Statements have an order\n",
        "\n",
        "Whatever is on the right side of the `=` will be evaluated and saved to the variable named on the left side."
      ]
    },
    {
      "cell_type": "code",
      "execution_count": null,
      "metadata": {
        "id": "d2kulwbMfmcB"
      },
      "outputs": [],
      "source": [
        "students = 42"
      ]
    },
    {
      "cell_type": "markdown",
      "metadata": {
        "id": "5_sFm3iufmcB"
      },
      "source": [
        "You can't write it the other way around."
      ]
    },
    {
      "cell_type": "code",
      "execution_count": null,
      "metadata": {
        "id": "FE-Ml6ELfmcB",
        "outputId": "73b62c8a-b270-4b2d-9150-9ecfc3ca4cb9"
      },
      "outputs": [
        {
          "ename": "SyntaxError",
          "evalue": "cannot assign to literal (<ipython-input-27-e94c5307290e>, line 1)",
          "output_type": "error",
          "traceback": [
            "\u001b[0;36m  File \u001b[0;32m\"<ipython-input-27-e94c5307290e>\"\u001b[0;36m, line \u001b[0;32m1\u001b[0m\n\u001b[0;31m    42 = students\u001b[0m\n\u001b[0m    ^\u001b[0m\n\u001b[0;31mSyntaxError\u001b[0m\u001b[0;31m:\u001b[0m cannot assign to literal\n"
          ]
        }
      ],
      "source": [
        "42 = students"
      ]
    },
    {
      "cell_type": "markdown",
      "metadata": {
        "id": "CCruo75xfmcB"
      },
      "source": [
        "# Expressions\n",
        "\n",
        "An _expression_ is something evaluated by the Python interpreter:"
      ]
    },
    {
      "cell_type": "code",
      "execution_count": null,
      "metadata": {
        "id": "0sAyruzvfmcB",
        "outputId": "57b85618-4113-4486-f705-3af5f454c7fb"
      },
      "outputs": [
        {
          "name": "stdout",
          "output_type": "stream",
          "text": [
            "Total field trip lunches: 52\n"
          ]
        }
      ],
      "source": [
        "num_students = 42\n",
        "num_adults = 10\n",
        "total_field_trip_lunches = num_students + num_adults\n",
        "print(\"Total field trip lunches:\", total_field_trip_lunches)"
      ]
    },
    {
      "cell_type": "markdown",
      "metadata": {
        "id": "lOs10SF7fmcB"
      },
      "source": [
        "When `num_students + num_adults` is _evaluated,_ it results in an answer, so it is an __expression__."
      ]
    },
    {
      "cell_type": "markdown",
      "metadata": {
        "id": "ghCyebwRfmcC"
      },
      "source": [
        "Expressions include __operators__ like `+`, and __operands__ like `num_students` and `num_adults`."
      ]
    },
    {
      "cell_type": "markdown",
      "metadata": {
        "id": "IMyE6DlZfmcC"
      },
      "source": [
        "<div>\n",
        "<img src=\"https://github.com/merriekay/CS65-F23/blob/main/images/day01_operator.png?raw=1\"/ width=400>\n",
        "</div>"
      ]
    },
    {
      "cell_type": "markdown",
      "metadata": {
        "id": "lVPrROqBfmcC"
      },
      "source": [
        "## Arithmetic Operators\n",
        "\n",
        "Python supports all of the arithmetic operators you know and love:\n",
        "- `( )` parentheses\n",
        "- `**` exponents\n",
        "- `*` multiplcation\n",
        "- `/` division\n",
        "- `-` subtraction\n",
        "- `+` addition\n",
        "\n",
        "PEMDAS order of operations"
      ]
    },
    {
      "cell_type": "code",
      "execution_count": null,
      "metadata": {
        "id": "LCVbvTirfmcC",
        "outputId": "0bdb427a-b2ce-4fe8-f5a1-18864805de8c"
      },
      "outputs": [
        {
          "name": "stdout",
          "output_type": "stream",
          "text": [
            "9.0\n"
          ]
        }
      ],
      "source": [
        "val = 6/2*(1+2)\n",
        "print(val)"
      ]
    },
    {
      "cell_type": "code",
      "execution_count": null,
      "metadata": {
        "id": "7AkNifWEfmcC",
        "outputId": "9f806b22-f4dc-42ab-e127-131710101dae"
      },
      "outputs": [
        {
          "name": "stdout",
          "output_type": "stream",
          "text": [
            "2\n"
          ]
        }
      ],
      "source": [
        "val = 2**6\n",
        "print(val)"
      ]
    },
    {
      "cell_type": "markdown",
      "metadata": {
        "id": "xPzGLlzxfmcC"
      },
      "source": [
        "# Exercise: Let's give it a try\n",
        "\n",
        "1. Open Thonny\n",
        "2. Create a new File\n",
        "3. Save it as `Day01Exercise.py`\n",
        "\n",
        "> You may want to consider putting this into its own folder inside your CS65 folder."
      ]
    },
    {
      "cell_type": "markdown",
      "metadata": {
        "id": "2Os2m4pOfmcD"
      },
      "source": [
        "Create a program that uses a variable and outputs a computation of your choice. Some ideas:\n",
        "- amount of sugar, flour, butter for cookies\n",
        "- BMI calculator\n",
        "- English to metric conversion\n",
        "- Yield on investments\n",
        "- Weight on moon formula\n",
        "\n",
        "Feel free to work with others! I'll leave a few breakout rooms open, if you want to work on your own, say here.\n",
        "\n",
        "Goals:\n",
        "- Get comfortable with Thonny\n",
        "- Make mistakes (and fix them)\n",
        "- Experiment\n",
        "- Have fun!"
      ]
    },
    {
      "cell_type": "markdown",
      "metadata": {
        "id": "7O8JwOIafmcD"
      },
      "source": [
        "# User Input\n",
        "\n",
        "Python provides a function called `input` that gets input from the keyboard.\n",
        "\n",
        "When this function is called, the program _stops and waits_ for the user to type someting.\n",
        "\n",
        "When the user presses `Return` or `Enter`, the program resumes and `input` returns what the user typed as a string."
      ]
    },
    {
      "cell_type": "code",
      "execution_count": null,
      "metadata": {
        "id": "25xp4v4_fmcD",
        "outputId": "1c853146-bb35-43f9-9339-5ea8b6e822f6"
      },
      "outputs": [
        {
          "name": "stdout",
          "output_type": "stream",
          "text": [
            "Please enter your first name: Meredith\n",
            "Please enter your last name: Moore\n",
            "Ahoy,  Meredith Moore\n"
          ]
        }
      ],
      "source": [
        "first_name = input(\"Please enter your first name: \")\n",
        "last_name = input(\"Please enter your last name: \")\n",
        "print(\"Ahoy, \", first_name, last_name)"
      ]
    },
    {
      "cell_type": "markdown",
      "metadata": {
        "id": "UXsb1_6lfmcD"
      },
      "source": [
        "## User Input -- Strings\n",
        "\n",
        "By default, the value of the variable that results from an input statment is a `String`.\n",
        "\n",
        "Strings are very useful, but they are limited in that they only hold a sequence of characters.\n",
        "- As such, you __cannot perform mathematical operations on strings__ or string variables.\n",
        "- if I want the result of the input function to give me a value that I can use in a calculation, I need to convert the string to a numeric format."
      ]
    },
    {
      "cell_type": "markdown",
      "metadata": {
        "id": "RQtg0fx6fmcD"
      },
      "source": [
        "# Numerical Formats:\n",
        "\n",
        "Python has two main forms of numbers:\n",
        "- `int` -- short for integer. these are whole nubmers that are not a fraction.\n",
        "    - examples are 0, 4, 24, -12\n",
        "- `float` -- floats are numbers with a decimal point. Float is short for 'floating-point' numbers.\n",
        "    - examples are 1.3, -34.5, 5.0, 0.0\n"
      ]
    },
    {
      "cell_type": "markdown",
      "metadata": {
        "id": "KHWcaHFrfmcD"
      },
      "source": [
        "# This will cause an error... Why?"
      ]
    },
    {
      "cell_type": "code",
      "execution_count": null,
      "metadata": {
        "id": "rEAotZljfmcD"
      },
      "outputs": [],
      "source": [
        "num_cookies = input(\"How many cookies would you like to make?\")\n",
        "ratio = num_cookies/48"
      ]
    },
    {
      "cell_type": "markdown",
      "metadata": {
        "id": "xMo75f82fmcE"
      },
      "source": [
        "# `int()` and `float()` for calculations\n",
        "\n",
        "If you expect the user to type an `integer` or `float`, you can try to convert the return value to int using the `int()` or `float()` function:"
      ]
    },
    {
      "cell_type": "code",
      "execution_count": null,
      "metadata": {
        "id": "Sqvo1BF7fmcE",
        "outputId": "ad8992ec-26ef-4c39-abc5-f25adb535b0d"
      },
      "outputs": [
        {
          "name": "stdout",
          "output_type": "stream",
          "text": [
            "how many cookies would you like to make? 38\n",
            "you will need 1.1875 cups of sugar.\n"
          ]
        }
      ],
      "source": [
        "num_cookies = int(input(\"how many cookies would you like to make? \"))\n",
        "ratio = num_cookies/48\n",
        "sugar = ratio*1.5\n",
        "print(\"you will need\", sugar, \"cups of sugar.\")"
      ]
    },
    {
      "cell_type": "markdown",
      "metadata": {
        "id": "heEaZ8tBfmcE"
      },
      "source": [
        "# 💪🏻 Exercise:\n",
        "\n",
        "Update your code from earlier to allow a user to enter a value into your calculation:"
      ]
    },
    {
      "cell_type": "code",
      "execution_count": null,
      "metadata": {
        "id": "dLtid6VofmcE"
      },
      "outputs": [],
      "source": []
    },
    {
      "cell_type": "markdown",
      "metadata": {
        "id": "TVtRxfIjfmcF"
      },
      "source": [
        "# CodePost:\n",
        "\n",
        "CodePost is a software system that allows you to hand in code, and it will automatically run your code (against my test cases) to determine if they are correct\n",
        "\n",
        "You can submit as many times as you’d like (before the deadline)\n",
        "\n",
        "Goals:\n",
        "- gives you peace of mind that your code works as expected\n",
        "- gives you immediate feedback if there are mistakes\n",
        "- Saves me time in grading\n",
        "\n"
      ]
    },
    {
      "cell_type": "markdown",
      "metadata": {
        "id": "g09FIOxZfmcF"
      },
      "source": [
        "## Sign Up for CodePost:\n",
        "\n",
        "If you haven't already done so...\n",
        "\n",
        "Getting started, go to this link: https://codepost.io/signup/join?code=3DCN7HSXZP\n",
        "\n",
        "Please use your Drake email address.\n"
      ]
    },
    {
      "cell_type": "markdown",
      "metadata": {
        "id": "M4uY1ULkfmcF"
      },
      "source": [
        "# Lab #1:\n",
        "\n",
        "Due Wednesday 9/6 by 11:59 pm. (usually the turn around will be shorter, but we have labor day on Monday)\n",
        "\n",
        "Four 'exercises' (and 'reflections') that are there to provide a hands-on walkthrough of additional content and experimentation with Python and Thonny.\n",
        "\n",
        "__Challenge Exercise__ -- this is what you 'hand-in' via CodePost.\n",
        "- For Lab #1, this is just a simple program that prints out \"Hello world!\" (note that the capitalization is important)."
      ]
    },
    {
      "cell_type": "markdown",
      "metadata": {
        "id": "HwXmFRzhfmcF"
      },
      "source": [
        "# You should be working on:\n",
        "\n",
        "1. Lab #1, due by 11:59 on Wednesday 9/6\n",
        "\n",
        "2. Reading #2: [Variables (Python for Everyone)](https://www.py4e.com/html3/02-variables)\n"
      ]
    }
  ],
  "metadata": {
    "celltoolbar": "Slideshow",
    "kernelspec": {
      "display_name": "Python 3 (ipykernel)",
      "language": "python",
      "name": "python3"
    },
    "language_info": {
      "codemirror_mode": {
        "name": "ipython",
        "version": 3
      },
      "file_extension": ".py",
      "mimetype": "text/x-python",
      "name": "python",
      "nbconvert_exporter": "python",
      "pygments_lexer": "ipython3",
      "version": "3.11.4"
    },
    "colab": {
      "provenance": [],
      "include_colab_link": true
    }
  },
  "nbformat": 4,
  "nbformat_minor": 0
}