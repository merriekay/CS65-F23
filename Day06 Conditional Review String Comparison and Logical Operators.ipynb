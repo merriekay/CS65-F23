{
 "cells": [
  {
   "cell_type": "markdown",
   "metadata": {
    "slideshow": {
     "slide_type": "slide"
    }
   },
   "source": [
    "# CS65: Day06 \n",
    "## If-Statements and While Loops\n",
    "\n",
    "####  CS65: Introduction to Computer Science I | Fall 2023\n",
    "\n",
    "Monday, September 18th, 2023\n",
    "\n",
    " 📜 [Syllabus](https://docs.google.com/document/d/1JTRJ-22abpu3HNhHzE2NaGfstNrrBav1MSQcLIMBWe4/edit?usp=sharing) | 📬 [CodePost Login](https://codepost.io/login) | 📆 [Schedule](https://docs.google.com/spreadsheets/d/e/2PACX-1vS51v65qE22qEyhLTF_q5sF_4Nu1GhWU4mDgfsF7NY8Yrjl5-ismCyXjHiR4Fuxqd1cJ9dY5l55CcV0/pubhtml?gid=0&single=true) | 🙋 [Polleverywhere](https://pollev.com/moore) | 🪴 [Office Hour Sign Up](https://calendly.com/meredith-moore/office-hours)"
   ]
  },
  {
   "cell_type": "markdown",
   "metadata": {
    "slideshow": {
     "slide_type": "slide"
    }
   },
   "source": [
    "> Note to self: Make sure you're recording 🎥"
   ]
  },
  {
   "cell_type": "markdown",
   "metadata": {
    "slideshow": {
     "slide_type": "slide"
    }
   },
   "source": [
    "# Admin Stuff"
   ]
  },
  {
   "cell_type": "markdown",
   "metadata": {
    "slideshow": {
     "slide_type": "fragment"
    }
   },
   "source": [
    "Grading:\n",
    "- Lab #2 is graded\n",
    "- Lab #3, I forgot to add the autograding earlier, but I updated it now--check out your autograded scores.\n"
   ]
  },
  {
   "cell_type": "markdown",
   "metadata": {
    "slideshow": {
     "slide_type": "fragment"
    }
   },
   "source": [
    "You should be working on:\n",
    "- [Lab #3](https://analytics.drake.edu/~moore/CS65-F23/Lab3.html) is due tonight by 11:59pm.\n",
    "\n",
    "> Quiz #1 is coming soon--it will be released after class on Wednesday and is due Monday 9/25 by 11:59pm."
   ]
  },
  {
   "cell_type": "markdown",
   "metadata": {
    "slideshow": {
     "slide_type": "slide"
    }
   },
   "source": [
    "# ⏪ Quick Review:"
   ]
  },
  {
   "cell_type": "markdown",
   "metadata": {
    "slideshow": {
     "slide_type": "slide"
    }
   },
   "source": [
    "## Conditionals Review\n",
    "\n",
    "So far, we've seen *conditional statements*"
   ]
  },
  {
   "cell_type": "code",
   "execution_count": 1,
   "metadata": {
    "scrolled": true,
    "slideshow": {
     "slide_type": "-"
    }
   },
   "outputs": [
    {
     "name": "stdout",
     "output_type": "stream",
     "text": [
      "What is your age? 30\n",
      "Your total bill is 35.63\n"
     ]
    }
   ],
   "source": [
    "total_bill = 35.63\n",
    "age = float(input(\"What is your age? \"))\n",
    "\n",
    "if age > 65:\n",
    "    print(\"Applying 10% senior discount\")\n",
    "    total_bill = total_bill * 0.9\n",
    "    #any indented code is only runs\n",
    "    #when the condition is True\n",
    "    \n",
    "#un-indented code runs no matter what\n",
    "print(\"Your total bill is\", total_bill)"
   ]
  },
  {
   "cell_type": "markdown",
   "metadata": {
    "slideshow": {
     "slide_type": "subslide"
    }
   },
   "source": [
    "conditional statements with two alternatives"
   ]
  },
  {
   "cell_type": "code",
   "execution_count": 2,
   "metadata": {},
   "outputs": [
    {
     "name": "stdout",
     "output_type": "stream",
     "text": [
      "Enter your height in inches: 61\n",
      "You are tall enough for this ride.\n"
     ]
    }
   ],
   "source": [
    "height = float(input(\"Enter your height in inches: \"))\n",
    "\n",
    "if height < 60:\n",
    "    print(\"You are not tall enough for this ride.\")\n",
    "else:\n",
    "    print(\"You are tall enough for this ride.\")"
   ]
  },
  {
   "cell_type": "markdown",
   "metadata": {
    "slideshow": {
     "slide_type": "subslide"
    }
   },
   "source": [
    "and in the lab, we saw _nested_ conditional statements"
   ]
  },
  {
   "cell_type": "code",
   "execution_count": 3,
   "metadata": {},
   "outputs": [
    {
     "name": "stdout",
     "output_type": "stream",
     "text": [
      "Enter a number: 6\n",
      "6 is even\n"
     ]
    }
   ],
   "source": [
    "num = int(input(\"Enter a number: \"))\n",
    "\n",
    "#this code checks if a number is divisible by both 2 and 3\n",
    "if num % 2 == 0:\n",
    "    print(num,\"is even\")\n",
    "else:\n",
    "    if num % 3 == 0:\n",
    "        print(num,\"is odd and divisble by 3\")\n",
    "    else:\n",
    "        print(num,\"is odd and not divisible by 3\")"
   ]
  },
  {
   "cell_type": "markdown",
   "metadata": {
    "slideshow": {
     "slide_type": "slide"
    }
   },
   "source": [
    "# The `if`-`elif`-`else` statement\n",
    "\n",
    "`if`-`elif`-`else`: special version of a decision structure--makes logic of nested decision structures simpler to write.\n",
    "\n",
    "You can include multiple `elif` statements:\n",
    "\n",
    "Syntax:\n",
    "\n",
    "__`if`__ `condition1`: <br>\n",
    "    - `statements`\n",
    "    \n",
    "__`elif`__ `condition2`: <br>\n",
    "    - `statements`\n",
    "    \n",
    "__`else`__: <br>\n",
    "    - `statements`"
   ]
  },
  {
   "cell_type": "code",
   "execution_count": null,
   "metadata": {
    "slideshow": {
     "slide_type": "slide"
    }
   },
   "outputs": [],
   "source": [
    "score = int(input('Enter your score:'))\n",
    "\n",
    "if score >=90: \n",
    "    print(\"your earned an A\")\n",
    "elif score >=80: \n",
    "    print(\"your earned a B\")\n",
    "elif score >=70: \n",
    "    print(\"your earned a C\")\n",
    "elif score >=60: \n",
    "    print(\"your earned a D\")\n",
    "else: \n",
    "    print(\"your earned an F\")\n",
    "\n",
    "print(\"Good work!\")"
   ]
  },
  {
   "cell_type": "markdown",
   "metadata": {
    "slideshow": {
     "slide_type": "slide"
    }
   },
   "source": [
    "# Accumulator Operator:\n",
    "\n",
    "A common task in computer science is to update the value of a variable by 1. \n",
    "\n",
    "Python provides an operator to do just that: `+=`\n",
    "\n",
    "This is often referred to as an __accumulator operator__. \n",
    "\n",
    "The following two expressions do the same thing (they assign x the value of x + 1)"
   ]
  },
  {
   "cell_type": "code",
   "execution_count": null,
   "metadata": {},
   "outputs": [],
   "source": [
    "x = 0 # start with x = 0\n",
    "\n",
    "x = x + 1 \n",
    "print(x)\n",
    "\n",
    "x += 5 # x = x + 5\n",
    "print(x)"
   ]
  },
  {
   "cell_type": "markdown",
   "metadata": {
    "id": "Y7UHGmtBiC1_",
    "slideshow": {
     "slide_type": "slide"
    }
   },
   "source": [
    "## Integer division operators\n",
    "\n",
    "Sometimes, instead of getting the full floating-point expansion, you might want the quotient and remainder separately. \n",
    "\n",
    "<div>\n",
    "<img src=\"images/day02_floor.png\"/ width=200>\n",
    "</div>\n",
    "\n",
    "\n",
    "The `//` is the _floor_ division operator - it gives you the quotient and _ignores_ and fractional/remainder part.\n"
   ]
  },
  {
   "cell_type": "code",
   "execution_count": 23,
   "metadata": {
    "id": "5lybxjNOiC1_"
   },
   "outputs": [
    {
     "data": {
      "text/plain": [
       "int"
      ]
     },
     "execution_count": 23,
     "metadata": {},
     "output_type": "execute_result"
    }
   ],
   "source": [
    "403 // 24 # quotient, w/o remainder "
   ]
  },
  {
   "cell_type": "markdown",
   "metadata": {
    "id": "_J-DBdIPiC1_",
    "slideshow": {
     "slide_type": "slide"
    }
   },
   "source": [
    "## Modulo operator\n",
    "\n",
    "The `%` operator is the __modulo__ operator - another word for remainder - it will ignore the quotient and just give you the remainder.\n",
    "\n",
    "<div>\n",
    "<img src=\"images/day02_mod.png\"/ width=200>\n",
    "</div>"
   ]
  },
  {
   "cell_type": "code",
   "execution_count": 26,
   "metadata": {
    "id": "s101RW8niC2A"
   },
   "outputs": [
    {
     "data": {
      "text/plain": [
       "19"
      ]
     },
     "execution_count": 26,
     "metadata": {},
     "output_type": "execute_result"
    }
   ],
   "source": [
    "403 %  24 # ignores the quotient, and gives us the remainder."
   ]
  },
  {
   "cell_type": "markdown",
   "metadata": {
    "slideshow": {
     "slide_type": "slide"
    }
   },
   "source": [
    "# PollEverywhere Review Questions:"
   ]
  },
  {
   "cell_type": "code",
   "execution_count": null,
   "metadata": {
    "slideshow": {
     "slide_type": "fragment"
    }
   },
   "outputs": [],
   "source": [
    "x = int(input(\"enter x: \"))\n",
    "n = int(input(\"enter n: \"))\n",
    "\n",
    "#check the boolean expressions here:"
   ]
  },
  {
   "cell_type": "code",
   "execution_count": null,
   "metadata": {
    "slideshow": {
     "slide_type": "fragment"
    }
   },
   "outputs": [],
   "source": [
    "price = 9.25\n",
    "paid = 10\n",
    "\n",
    "if paid = price:\n",
    "    print(\"No change needed\")\n",
    "elif price < paid:\n",
    "    print(\"You get\", paid - price, \"change back.\")\n",
    "elif price > paid:\n",
    "    print(\"That's not enough, you need\", price - paid, \"more.\")"
   ]
  },
  {
   "cell_type": "markdown",
   "metadata": {
    "slideshow": {
     "slide_type": "slide"
    }
   },
   "source": [
    "# Review Exercise #1:\n",
    "\n",
    "Prompt the user for the number of hours of sleep they got last night.\n",
    "\n",
    "Use ONLY `if-elif-else` statments to print out an appropriate response based on the inputted number and following chart:\n",
    "\n",
    "| Hours           | Response                                |\n",
    "|-----------------|-----------------------------------------|\n",
    "| Above 8         | \"You are well-rested!\"                  |\n",
    "| Between 4 and 8 | \"The coffee shop is around the corner.\" |\n",
    "| Between 0 and 4 | \"Are you sure you're awake?\"            |\n",
    "| Less than 0     | \"Input error\"                           |"
   ]
  },
  {
   "cell_type": "code",
   "execution_count": 4,
   "metadata": {},
   "outputs": [],
   "source": [
    "# your code here"
   ]
  },
  {
   "cell_type": "markdown",
   "metadata": {
    "slideshow": {
     "slide_type": "slide"
    }
   },
   "source": [
    "# 🎃 Review Exercise #2:\n",
    "\n",
    "Write a program that takes in two numbers:\n",
    "- the total pieces of candy\n",
    "- the total number of kids expected to trick-or-treat\n",
    "\n",
    "and returns:\n",
    "- the number of pieces of candy each child can take\n",
    "- how much candy you expect to have left over"
   ]
  },
  {
   "cell_type": "code",
   "execution_count": 6,
   "metadata": {},
   "outputs": [
    {
     "name": "stdout",
     "output_type": "stream",
     "text": [
      "How many pieces of candy do you have? 550\n",
      "How many childredn do you expect to trick-or-treat? 150\n",
      "Each child can have 3 pieces,.\n",
      "There will be  100 pieces leftover.\n"
     ]
    }
   ],
   "source": [
    "# output should look something like this:"
   ]
  },
  {
   "cell_type": "markdown",
   "metadata": {
    "slideshow": {
     "slide_type": "slide"
    }
   },
   "source": [
    "# ✨ New Material"
   ]
  },
  {
   "cell_type": "markdown",
   "metadata": {
    "slideshow": {
     "slide_type": "slide"
    }
   },
   "source": [
    "## Group Exercise: Comparing Strings\n",
    "\n",
    "Type the following program into Thonny, and run it several times. What does it do?"
   ]
  },
  {
   "cell_type": "code",
   "execution_count": 21,
   "metadata": {},
   "outputs": [
    {
     "name": "stdout",
     "output_type": "stream",
     "text": [
      "Enter a name: Abe\n",
      "Enter another name: abe\n",
      "Abe is first\n"
     ]
    }
   ],
   "source": [
    "name1 = input(\"Enter a name: \")\n",
    "name2 = input(\"Enter another name: \")\n",
    "\n",
    "if name1 < name2:\n",
    "    print(name1,\"is first\")\n",
    "else:\n",
    "    print(name2,\"is first\")"
   ]
  },
  {
   "cell_type": "markdown",
   "metadata": {
    "slideshow": {
     "slide_type": "subslide"
    }
   },
   "source": [
    "Is string comparison in Python case-sensitive? E.g., is `\"Meredith\"` the same as `\"meredith\"`? How could we test it?"
   ]
  },
  {
   "cell_type": "code",
   "execution_count": 25,
   "metadata": {},
   "outputs": [
    {
     "name": "stdout",
     "output_type": "stream",
     "text": [
      "Yes or no? yes\n",
      "Huzzah!\n"
     ]
    }
   ],
   "source": [
    "answer = input(\"Yes or no? \")\n",
    "\n",
    "if answer == \"yes\":\n",
    "    print(\"Huzzah!\")"
   ]
  },
  {
   "cell_type": "markdown",
   "metadata": {
    "slideshow": {
     "slide_type": "slide"
    }
   },
   "source": [
    "## Character representation\n",
    "\n",
    "Every text character is represented by a numerical code in your computer's memory. \n",
    "\n",
    "They came up with in the 1960's as part of the ASCII standard (https://en.wikipedia.org/wiki/ASCII)\n",
    "\n",
    "Here's some examples\n",
    "\n",
    "<table>\n",
    "<tr>\n",
    "    <td style=\"padding:30px\">\n",
    "        <table>\n",
    "            <tr><th> code </th> <th>character </tr>\n",
    "            <tr><td>33 </td><td> !</td></tr>\n",
    "            <tr><td>34 </td><td> \"</td></tr>\n",
    "            <tr><td>35 </td><td> #</td></tr>\n",
    "            <tr><td>36 </td><td> $</td></tr>\n",
    "            <tr><td>37 </td><td> % </td></tr>      \n",
    "        </table>      \n",
    "    </td>\n",
    "    <td style=\"padding:30px\">\n",
    "        <table>\n",
    "            <tr><th> code </th> <th>character </tr>\n",
    "            <tr><td>65 </td><td> A</td></tr>\n",
    "            <tr><td>66 </td><td> B</td></tr>\n",
    "            <tr><td>67 </td><td> C</td></tr>\n",
    "            <tr><td>68 </td><td> D</td></tr>\n",
    "            <tr><td>69 </td><td> E </td></tr>      \n",
    "        </table>\n",
    "    </td>\n",
    "    <td style=\"padding:30px\">\n",
    "        <table>\n",
    "            <tr><th> code </th> <th>character </tr>\n",
    "            <tr><td>97 </td><td> a</td></tr>\n",
    "            <tr><td>98 </td><td> b</td></tr>\n",
    "            <tr><td>99 </td><td> c</td></tr>\n",
    "            <tr><td>100 </td><td> d</td></tr>\n",
    "            <tr><td>101 </td><td> e </td></tr>      \n",
    "        </table>     \n",
    "    </td\n",
    "</tr>\n",
    "</table>"
   ]
  },
  {
   "cell_type": "markdown",
   "metadata": {
    "slideshow": {
     "slide_type": "subslide"
    }
   },
   "source": [
    "You can use the built-in `ord()` function to look up the code for any given character. Use `chr()` to do the opposite."
   ]
  },
  {
   "cell_type": "code",
   "execution_count": 33,
   "metadata": {},
   "outputs": [
    {
     "data": {
      "text/plain": [
       "77"
      ]
     },
     "execution_count": 33,
     "metadata": {},
     "output_type": "execute_result"
    }
   ],
   "source": [
    "ord(\"M\")"
   ]
  },
  {
   "cell_type": "code",
   "execution_count": 39,
   "metadata": {},
   "outputs": [
    {
     "data": {
      "text/plain": [
       "'M'"
      ]
     },
     "execution_count": 39,
     "metadata": {},
     "output_type": "execute_result"
    }
   ],
   "source": [
    "chr(77)"
   ]
  },
  {
   "cell_type": "markdown",
   "metadata": {
    "slideshow": {
     "slide_type": "slide"
    }
   },
   "source": [
    "## Helpful String Functions\n",
    "\n",
    "Here are three helpful functions that will come in handy when using strings:\n",
    "- `lower()`: will return the string with all lowercase letters [documentation](https://python-reference.readthedocs.io/en/latest/docs/str/lower.html)\n",
    "- `upper()`: will return the string with all uppercase letters [documentation](https://python-reference.readthedocs.io/en/latest/docs/str/upper.html)\n",
    "- `strip()`: will return the string without any leading or trailing whitespace [documentation](https://python-reference.readthedocs.io/en/latest/docs/str/strip.html)"
   ]
  },
  {
   "cell_type": "code",
   "execution_count": 44,
   "metadata": {},
   "outputs": [
    {
     "name": "stdout",
     "output_type": "stream",
     "text": [
      "What is your favorite fruit?  Bananas \n",
      "fruit.lower():   bananas \n",
      "fruit.upper():   BANANAS \n",
      "fruit.strip(): Bananas\n",
      "Wow, that's bananas.\n"
     ]
    }
   ],
   "source": [
    "fruit = input(\"What is your favorite fruit?\")\n",
    "\n",
    "print(\"fruit.lower():\", fruit.lower())\n",
    "print(\"fruit.upper():\", fruit.upper())\n",
    "print(\"fruit.strip():\", fruit.strip())\n",
    "\n",
    "if fruit.lower().strip() == 'bananas':\n",
    "    print(\"Wow, that's bananas.\")"
   ]
  },
  {
   "cell_type": "markdown",
   "metadata": {
    "slideshow": {
     "slide_type": "slide"
    }
   },
   "source": [
    "## Other conditional statement options\n",
    "\n",
    "There are also __chained conditional statements__ when you have more than two choices\n",
    "\n",
    "`elif` a new keyword meaning \"else if\" which allows you to add as many more options to a conditional statement as you want."
   ]
  },
  {
   "cell_type": "code",
   "execution_count": 48,
   "metadata": {},
   "outputs": [
    {
     "name": "stdout",
     "output_type": "stream",
     "text": [
      "What's the temperature? 20\n",
      "Let's go skiing.\n"
     ]
    }
   ],
   "source": [
    "temp = float(input(\"What's the temperature? \"))\n",
    "\n",
    "if temp >= 70:\n",
    "    print(\"Let's go hiking.\")\n",
    "elif temp >= 30:\n",
    "    print(\"Let's put on jackets and go hiking.\")\n",
    "elif temp >= 10:\n",
    "    print(\"Let's go skiing.\")\n",
    "else:\n",
    "    print(\"It's too cold. Let's stay in and code.\")"
   ]
  },
  {
   "cell_type": "markdown",
   "metadata": {
    "slideshow": {
     "slide_type": "subslide"
    }
   },
   "source": [
    "Note:\n",
    "* `else` part is still optional but gives you the opportunity for \"default\" behavior\n",
    "* at most one block in a `if-elif-else statement` will run"
   ]
  },
  {
   "cell_type": "markdown",
   "metadata": {
    "slideshow": {
     "slide_type": "subslide"
    }
   },
   "source": [
    "## a common chained-conditional logic error\n",
    "\n",
    "Take a look at this code... see if you can spot the error."
   ]
  },
  {
   "cell_type": "code",
   "execution_count": 52,
   "metadata": {},
   "outputs": [
    {
     "name": "stdout",
     "output_type": "stream",
     "text": [
      "What's the temperature? 80\n",
      "Let's go skiing.\n"
     ]
    }
   ],
   "source": [
    "temp = float(input(\"What's the temperature? \"))\n",
    "\n",
    "if temp >= 10:\n",
    "    print(\"Let's go skiing.\")\n",
    "elif temp >= 30:\n",
    "    print(\"Let's put on jackets and go hiking.\")\n",
    "elif temp >= 70:\n",
    "    print(\"Let's go hiking.\")\n",
    "else:\n",
    "    print(\"It's too cold. Let's stay in and code.\")"
   ]
  },
  {
   "cell_type": "markdown",
   "metadata": {
    "slideshow": {
     "slide_type": "fragment"
    }
   },
   "source": [
    "Make sure to put the conditions in the order you want to check them - the first one to evalute to `True` will be the one that runs."
   ]
  },
  {
   "cell_type": "markdown",
   "metadata": {
    "slideshow": {
     "slide_type": "slide"
    }
   },
   "source": [
    "## Logical Operators\n",
    "\n",
    "__Logical operators__ are operators that take Booleans as operands: `and`, `or`, `not`"
   ]
  },
  {
   "cell_type": "markdown",
   "metadata": {
    "slideshow": {
     "slide_type": "slide"
    }
   },
   "source": [
    "## Boolean Operators (`and`, `or`, and `not`)\n",
    "\n",
    "Boolean operators allow you to combine (or negate) boolean expressions:\n",
    "\n",
    "| Boolean operator | Description                                                                                              |\n",
    "|------------------|:----------------------------------------------------------------------------------------------------------|\n",
    "| a `and` b        | __boolean AND__: `True` when both operands are `True`                                                    |\n",
    "| a `or` b         | __boolean OR__: `True` when at least one operand is `True`                                               |\n",
    "| `not` a          | __boolean NOT__ (opposite): True when the signle operand is `False` (and `False` when operand is `True`) |"
   ]
  },
  {
   "cell_type": "markdown",
   "metadata": {
    "slideshow": {
     "slide_type": "slide"
    }
   },
   "source": [
    "## Examples -- `and`\n",
    "\n",
    "You can combine Boolean expressions to make more complicated Boolean expressions\n",
    "\n",
    "`and`: True when _both_ operands are True"
   ]
  },
  {
   "cell_type": "code",
   "execution_count": 27,
   "metadata": {},
   "outputs": [
    {
     "name": "stdout",
     "output_type": "stream",
     "text": [
      "Enter the temperature: -5\n",
      "Enter the weather (e.g. rainy, cloudy, sunny): snowing\n",
      "Check to see if school is canceled\n"
     ]
    }
   ],
   "source": [
    "temp = int(input(\"Enter the temperature: \"))\n",
    "weather = input(\"Enter the weather (e.g. rainy, cloudy, sunny): \")\n",
    "\n",
    "## AND\n",
    "if temp > 32 and temp < 75:\n",
    "    print(\"wear a jacket\")\n",
    "if temp <= 0 and weather == \"snowing\":\n",
    "    print(\"Check to see if school is canceled\")"
   ]
  },
  {
   "cell_type": "markdown",
   "metadata": {
    "slideshow": {
     "slide_type": "slide"
    }
   },
   "source": [
    "## Examples -- `or`\n",
    "\n",
    "You can combine Boolean expressions to make more complicated Boolean expressions\n",
    "\n",
    "`or`: True when _either_ of the operands are True"
   ]
  },
  {
   "cell_type": "code",
   "execution_count": 29,
   "metadata": {},
   "outputs": [
    {
     "name": "stdout",
     "output_type": "stream",
     "text": [
      "Enter the temperature: 95\n",
      "Enter the weather (e.g. rainy, cloudy, sunny): raining\n",
      "Bring sunglasses\n",
      "Bring a jacket.\n"
     ]
    }
   ],
   "source": [
    "temp = int(input(\"Enter the temperature: \"))\n",
    "weather = input(\"Enter the weather (e.g. rainy, cloudy, sunny): \")\n",
    "\n",
    "## OR\n",
    "if temp > 90 or weather == \"sunny\":\n",
    "    print(\"Bring sunglasses\")\n",
    "if weather == \"raining\" or weather == \"snowing\":\n",
    "    print(\"Bring a jacket.\")"
   ]
  },
  {
   "cell_type": "markdown",
   "metadata": {
    "slideshow": {
     "slide_type": "slide"
    }
   },
   "source": [
    "## Introducing `not`\n",
    "\n",
    "The Python keyword `not` will negate any Boolean expression:\n",
    "- turn `True` to `False`\n",
    "- turn `False` to `True`"
   ]
  },
  {
   "cell_type": "code",
   "execution_count": 5,
   "metadata": {},
   "outputs": [
    {
     "name": "stdout",
     "output_type": "stream",
     "text": [
      "Enter the temperature: 105\n",
      "Don't go outside!!\n"
     ]
    }
   ],
   "source": [
    "temp = int(input(\"Enter the temperature: \"))\n",
    "if not (temp < 100 and temp >40):\n",
    "    print(\"Don't go outside!!\")"
   ]
  },
  {
   "cell_type": "markdown",
   "metadata": {
    "slideshow": {
     "slide_type": "slide"
    }
   },
   "source": [
    "![!false shirt](https://m.media-amazon.com/images/I/A13usaonutL._AC_CLa%7C2140%2C2000%7C51ANSBHYSgL.png%7C0%2C0%2C2140%2C2000%2B0.0%2C0.0%2C2140.0%2C2000.0_UY1000_.png)"
   ]
  },
  {
   "cell_type": "markdown",
   "metadata": {
    "slideshow": {
     "slide_type": "slide"
    }
   },
   "source": [
    "## Let's Practice:"
   ]
  },
  {
   "cell_type": "code",
   "execution_count": 56,
   "metadata": {
    "slideshow": {
     "slide_type": "-"
    }
   },
   "outputs": [],
   "source": [
    "a = 2\n",
    "b = 4\n",
    "c = 6"
   ]
  },
  {
   "cell_type": "markdown",
   "metadata": {},
   "source": [
    "See if you can work out the values below before the answer is revealed"
   ]
  },
  {
   "cell_type": "code",
   "execution_count": null,
   "metadata": {
    "slideshow": {
     "slide_type": "-"
    }
   },
   "outputs": [],
   "source": [
    "a == 4 or b > 2 "
   ]
  },
  {
   "cell_type": "code",
   "execution_count": null,
   "metadata": {
    "slideshow": {
     "slide_type": "-"
    }
   },
   "outputs": [],
   "source": [
    "6 <= c and a > 3"
   ]
  },
  {
   "cell_type": "code",
   "execution_count": null,
   "metadata": {
    "slideshow": {
     "slide_type": "-"
    }
   },
   "outputs": [],
   "source": [
    "1 != b and c != 3 "
   ]
  },
  {
   "cell_type": "code",
   "execution_count": null,
   "metadata": {
    "slideshow": {
     "slide_type": "-"
    }
   },
   "outputs": [],
   "source": [
    "a >= -1 or a <= b "
   ]
  },
  {
   "cell_type": "code",
   "execution_count": null,
   "metadata": {
    "slideshow": {
     "slide_type": "-"
    }
   },
   "outputs": [],
   "source": [
    "not a > 2 "
   ]
  },
  {
   "cell_type": "markdown",
   "metadata": {
    "slideshow": {
     "slide_type": "slide"
    }
   },
   "source": [
    "Logical operators are pretty intuitive because we use them in our natural language, but they can sometimes be tricky when you get complex expressions."
   ]
  },
  {
   "cell_type": "code",
   "execution_count": 64,
   "metadata": {},
   "outputs": [
    {
     "name": "stdout",
     "output_type": "stream",
     "text": [
      "True\n"
     ]
    }
   ],
   "source": [
    "a = 2\n",
    "b = 4\n",
    "c = 6\n",
    "result = a == 2 or b != 2 and c != 6 or a == b + c\n",
    "print(result)"
   ]
  },
  {
   "cell_type": "markdown",
   "metadata": {
    "slideshow": {
     "slide_type": "fragment"
    }
   },
   "source": [
    "Rule of thumb: Always use parentheses when you have more than one logical operator"
   ]
  },
  {
   "cell_type": "markdown",
   "metadata": {
    "slideshow": {
     "slide_type": "slide"
    }
   },
   "source": [
    "## Quick Question:\n",
    "\n",
    "What's wrong with this?"
   ]
  },
  {
   "cell_type": "code",
   "execution_count": 33,
   "metadata": {},
   "outputs": [
    {
     "name": "stdout",
     "output_type": "stream",
     "text": [
      "name a state with only 4 letters Illinois\n",
      "correct\n"
     ]
    }
   ],
   "source": [
    "state = input(\"name a state with only 4 letters \")\n",
    "\n",
    "if state == \"Iowa\" or \"Utah\" or \"Ohio\": \n",
    "    print(\"correct\")\n",
    "else: \n",
    "    print(\"wrong!\")"
   ]
  },
  {
   "cell_type": "code",
   "execution_count": 37,
   "metadata": {
    "slideshow": {
     "slide_type": "slide"
    }
   },
   "outputs": [
    {
     "name": "stdout",
     "output_type": "stream",
     "text": [
      "name a state with only 4 letters Minnesota\n",
      "wrong!\n"
     ]
    }
   ],
   "source": [
    "state = input(\"name a state with only 4 letters \")\n",
    "\n",
    "if state == \"Iowa\" or state == \"Utah\" or state==\"Ohio\":\n",
    "    print(\"correct\")\n",
    "else:\n",
    "    print(\"wrong!\")"
   ]
  },
  {
   "cell_type": "code",
   "execution_count": 54,
   "metadata": {},
   "outputs": [
    {
     "name": "stdout",
     "output_type": "stream",
     "text": [
      "What's the temperature? 80\n",
      "Is it raining? no\n",
      "Grab your mitt.\n"
     ]
    }
   ],
   "source": [
    "temp = float(input(\"What's the temperature? \"))\n",
    "raining = input(\"Is it raining? \")\n",
    "\n",
    "if temp < 50 or raining == 'yes':\n",
    "    print(\"Grab your coat.\")\n",
    "\n",
    "if not (raining == 'yes') and temp > 70:\n",
    "    print(\"Grab your mitt.\")"
   ]
  },
  {
   "cell_type": "markdown",
   "metadata": {
    "slideshow": {
     "slide_type": "slide"
    }
   },
   "source": [
    "## Group Exercise:\n",
    "\n",
    "Using this flow chart, write a program that will ask the user questions about an emergency and recommend how they should respond. (image credit [cpr.heart.org](https://cpr.heart.org/en/resuscitation-science/cpr-and-ecc-guidelines/algorithms))\n",
    "\n",
    "<div>\n",
    "<img src=\"images/day04_heart.jpeg\" width=\"600\"/>\n",
    "</div>\n"
   ]
  },
  {
   "cell_type": "code",
   "execution_count": null,
   "metadata": {
    "slideshow": {
     "slide_type": "subslide"
    }
   },
   "outputs": [],
   "source": [
    "# Let's go through this one together:\n"
   ]
  },
  {
   "cell_type": "markdown",
   "metadata": {
    "slideshow": {
     "slide_type": "slide"
    }
   },
   "source": [
    "# Admin Stuff"
   ]
  },
  {
   "cell_type": "markdown",
   "metadata": {
    "slideshow": {
     "slide_type": "fragment"
    }
   },
   "source": [
    "Grading:\n",
    "- Lab #2 is graded\n",
    "- Lab #3, I forgot to add the autograding earlier, but I updated it now--check out your autograded scores.\n"
   ]
  },
  {
   "cell_type": "markdown",
   "metadata": {
    "slideshow": {
     "slide_type": "fragment"
    }
   },
   "source": [
    "You should be working on:\n",
    "- [Lab #3](https://analytics.drake.edu/~moore/CS65-F23/Lab3.html) is due tonight by 11:59pm.\n",
    "\n",
    "> Quiz #1 is coming soon--it will be released after class on Wednesday and is due Monday 9/25 by 11:59pm."
   ]
  }
 ],
 "metadata": {
  "celltoolbar": "Slideshow",
  "kernelspec": {
   "display_name": "Python 3 (ipykernel)",
   "language": "python",
   "name": "python3"
  },
  "language_info": {
   "codemirror_mode": {
    "name": "ipython",
    "version": 3
   },
   "file_extension": ".py",
   "mimetype": "text/x-python",
   "name": "python",
   "nbconvert_exporter": "python",
   "pygments_lexer": "ipython3",
   "version": "3.11.4"
  }
 },
 "nbformat": 4,
 "nbformat_minor": 4
}
