{
 "cells": [
  {
   "cell_type": "markdown",
   "metadata": {
    "slideshow": {
     "slide_type": "slide"
    }
   },
   "source": [
    "# CS65: Day 08\n",
    "## Lists and For Loops\n",
    "\n",
    "####  CS65: Introduction to Computer Science I | Fall 2023\n",
    "\n",
    "Monday, September 25th, 2023\n",
    "\n",
    " 📜 [Syllabus](https://docs.google.com/document/d/1JTRJ-22abpu3HNhHzE2NaGfstNrrBav1MSQcLIMBWe4/edit?usp=sharing) | 📬 [CodePost Login](https://codepost.io/login) | 📆 [Schedule](https://docs.google.com/spreadsheets/d/e/2PACX-1vS51v65qE22qEyhLTF_q5sF_4Nu1GhWU4mDgfsF7NY8Yrjl5-ismCyXjHiR4Fuxqd1cJ9dY5l55CcV0/pubhtml?gid=0&single=true) | 🙋 [Polleverywhere](https://pollev.com/moore) | 🪴 [Office Hour Sign Up](https://calendly.com/meredith-moore/office-hours)"
   ]
  },
  {
   "cell_type": "markdown",
   "metadata": {
    "slideshow": {
     "slide_type": "slide"
    }
   },
   "source": [
    "> Note to self: Make sure you're recording 🎥"
   ]
  },
  {
   "cell_type": "markdown",
   "metadata": {
    "slideshow": {
     "slide_type": "slide"
    }
   },
   "source": [
    "# Admin Stuff"
   ]
  },
  {
   "cell_type": "markdown",
   "metadata": {
    "slideshow": {
     "slide_type": "fragment"
    }
   },
   "source": [
    "You should be working on:\n",
    "- Quiz #1 is due tonight by 11:59 pm\n",
    "- [Lab #4 Looops](https://analytics.drake.edu/~moore/CS65-F23/Lab4.html) is released today, due Wednesday 9/27 by 11:59pm."
   ]
  },
  {
   "cell_type": "markdown",
   "metadata": {
    "slideshow": {
     "slide_type": "slide"
    }
   },
   "source": [
    "# ⏪ Quick Review:"
   ]
  },
  {
   "cell_type": "markdown",
   "metadata": {
    "slideshow": {
     "slide_type": "slide"
    }
   },
   "source": [
    "## Repeating code\n",
    "\n",
    "\n",
    "Sometimes we want a section of our code to repeat multiple times. For this we use a __loop__. \n",
    "\n",
    "The first loop we're going to look at is a `while` loop. Its syntax is a lot like the `if` statement (but there's no else part):\n",
    "* keyword `while`\n",
    "* condition\n",
    "* colon `:`\n",
    "* indented block of code\n",
    "\n",
    "**Example**: remember this code we wrote for a simple guess-the-number game? What if we want the user to be able to keep guess until they get it right?"
   ]
  },
  {
   "cell_type": "code",
   "execution_count": 23,
   "metadata": {
    "slideshow": {
     "slide_type": "slide"
    }
   },
   "outputs": [
    {
     "name": "stdout",
     "output_type": "stream",
     "text": [
      "Guess a number: 3\n",
      "Wrong!\n",
      "Guess a number: 4\n",
      "Wrong!\n",
      "Guess a number: 8\n",
      "Wrong!\n",
      "Guess a number: 1\n",
      "That was right, good guess!\n",
      "Thank you for playing!\n"
     ]
    }
   ],
   "source": [
    "import random\n",
    "secret_number = random.randint(1,10)\n",
    "guess = 0\n",
    "\n",
    "while guess != secret_number: \n",
    "    guess = int(input(\"Guess a number: \"))\n",
    "\n",
    "    if guess == secret_number:\n",
    "        print(\"That was right, good guess!\")\n",
    "    else:\n",
    "        print(\"Wrong!\")\n",
    "\n",
    "print(\"Thank you for playing!\") "
   ]
  },
  {
   "cell_type": "markdown",
   "metadata": {
    "slideshow": {
     "slide_type": "slide"
    }
   },
   "source": [
    "# Infinite Loops\n",
    "\n",
    "In all but rare cases, loops must contain within themselves a way to terminate.\n",
    "\n",
    "Something that makes the test condition `False`\n",
    "\n",
    "If your loop does not have a way of stopping, it is called an _infinite loop_.\n",
    "\n",
    "> If you accidentally do this in Thonny, you can kill the program by hitting the STOP button."
   ]
  },
  {
   "cell_type": "code",
   "execution_count": null,
   "metadata": {},
   "outputs": [],
   "source": [
    "counter = 0\n",
    "while counter < 10:\n",
    "    print(\"counter:\", counter)\n",
    "counter +=1"
   ]
  },
  {
   "cell_type": "markdown",
   "metadata": {
    "slideshow": {
     "slide_type": "slide"
    }
   },
   "source": [
    "## Tips for writing loops\n",
    "\n",
    "* Split it into 3 parts...Think about what needs to happen\n",
    "    - *before the loop*, set up loop control variables with initial values\n",
    "    - *during each loop __iteration__*, what do you need to update _inside_ the loop?\n",
    "    - and *after the loop*, what result do you want to show?"
   ]
  },
  {
   "cell_type": "markdown",
   "metadata": {
    "slideshow": {
     "slide_type": "fragment"
    }
   },
   "source": [
    "* Think about what condition should make the loop end\n",
    "    - Make sure there is something that changes inside the loop that will eventually allow the loop's condition to be `False`\n"
   ]
  },
  {
   "cell_type": "markdown",
   "metadata": {
    "slideshow": {
     "slide_type": "slide"
    }
   },
   "source": [
    "# ✨ New Material"
   ]
  },
  {
   "cell_type": "markdown",
   "metadata": {
    "slideshow": {
     "slide_type": "slide"
    }
   },
   "source": [
    "# 🥤Containers\n",
    "\n",
    "Some types in Python are used for storing a collection of values. These types are called __containers__. \n",
    "\n",
    "__List:__ a container type that stores values in a ordered _sequence_"
   ]
  },
  {
   "cell_type": "markdown",
   "metadata": {
    "slideshow": {
     "slide_type": "slide"
    }
   },
   "source": [
    "![image of all of the Doctors from Doctor Who](https://upload.wikimedia.org/wikipedia/en/8/80/Versions_of_the_Doctor.jpg)"
   ]
  },
  {
   "cell_type": "code",
   "execution_count": 65,
   "metadata": {},
   "outputs": [],
   "source": [
    "doctor_who_actors = [\"Tennant\", \"Smith\",\"Capaldi\",\"Whittaker\", \"Gatwa\"]\n",
    "rainfall_amounts = [0.0, 0.3, 0.71, 0.0, 0.32, 1.1, 0.4]\n",
    "dates = [\"March 14, 2020\", 2021, \"4/1\"]\n",
    "empty_list = []"
   ]
  },
  {
   "cell_type": "markdown",
   "metadata": {},
   "source": [
    "values in a list are called __items__ or __elements__, e.g., `\"Capaldi\"`, `0.3`\n",
    "\n",
    "Syntax: start with `[`, end with `]`, separate with `,`"
   ]
  },
  {
   "cell_type": "markdown",
   "metadata": {
    "slideshow": {
     "slide_type": "slide"
    }
   },
   "source": [
    "## Accessing items in a list\n",
    "\n",
    "You can access individual items in a list using their __index__, which is their position in the list:\n",
    "- indices _start at 0_\n",
    "- Use `[ ]` at the end of the list to access the index\n",
    "- Between the brackets, you can put a number or a variable (of type int)\n"
   ]
  },
  {
   "cell_type": "code",
   "execution_count": null,
   "metadata": {
    "slideshow": {
     "slide_type": "fragment"
    }
   },
   "outputs": [],
   "source": [
    "#           index:       0      1          2        3          4 (notice it doens't go to 5, since we start at 0)\n",
    "doctor_who_actors = [\"Tennant\",\"Smith\",\"Capaldi\",\"Whittaker\", \"Gatwa\"]\n",
    "print(doctor_who_actors[4]) "
   ]
  },
  {
   "cell_type": "code",
   "execution_count": null,
   "metadata": {
    "slideshow": {
     "slide_type": "fragment"
    }
   },
   "outputs": [],
   "source": [
    "i = 3\n",
    "rainfall_amounts = [0.0, 0.3, 0.71, 0.0, 0.32, 1.1, 0.4]\n",
    "print(rainfall_amounts[5])"
   ]
  },
  {
   "cell_type": "markdown",
   "metadata": {
    "slideshow": {
     "slide_type": "slide"
    }
   },
   "source": [
    "Using index notation, you can treat an item in a list like any other variable:\n",
    "- you can use it in an expression\n",
    "- you can print it out\n",
    "- or... do whatever else you want with it"
   ]
  },
  {
   "cell_type": "code",
   "execution_count": 82,
   "metadata": {},
   "outputs": [
    {
     "data": {
      "text/plain": [
       "1.5"
      ]
     },
     "execution_count": 82,
     "metadata": {},
     "output_type": "execute_result"
    }
   ],
   "source": [
    "rainfall_amounts = [0.0, 0.3, 0.71, 0.0, 0.32, 1.1, 0.4]\n",
    "total_weekend_rainfall = rainfall_amounts[5] + rainfall_amounts[6] \n",
    "print(total_weekend_rainfall) "
   ]
  },
  {
   "cell_type": "markdown",
   "metadata": {
    "slideshow": {
     "slide_type": "slide"
    }
   },
   "source": [
    "You will get an error if you try to access an item using an index that is too big for the list."
   ]
  },
  {
   "cell_type": "code",
   "execution_count": 85,
   "metadata": {},
   "outputs": [
    {
     "ename": "IndexError",
     "evalue": "list index out of range",
     "output_type": "error",
     "traceback": [
      "\u001b[0;31m---------------------------------------------------------------------------\u001b[0m",
      "\u001b[0;31mIndexError\u001b[0m                                Traceback (most recent call last)",
      "\u001b[0;32m<ipython-input-85-596a7f154715>\u001b[0m in \u001b[0;36m<module>\u001b[0;34m\u001b[0m\n\u001b[1;32m      1\u001b[0m \u001b[0mdoctor_who_actors\u001b[0m \u001b[0;34m=\u001b[0m \u001b[0;34m[\u001b[0m\u001b[0;34m\"Tennant\"\u001b[0m\u001b[0;34m,\u001b[0m\u001b[0;34m\"Smith\"\u001b[0m\u001b[0;34m,\u001b[0m\u001b[0;34m\"Capaldi\"\u001b[0m\u001b[0;34m,\u001b[0m\u001b[0;34m\"Whittaker\"\u001b[0m\u001b[0;34m,\u001b[0m \u001b[0;34m\"Gatwa\"\u001b[0m\u001b[0;34m]\u001b[0m\u001b[0;34m\u001b[0m\u001b[0;34m\u001b[0m\u001b[0m\n\u001b[0;32m----> 2\u001b[0;31m \u001b[0mprint\u001b[0m\u001b[0;34m(\u001b[0m\u001b[0mdoctor_who_actors\u001b[0m\u001b[0;34m[\u001b[0m\u001b[0;36m5\u001b[0m\u001b[0;34m]\u001b[0m\u001b[0;34m)\u001b[0m\u001b[0;34m\u001b[0m\u001b[0;34m\u001b[0m\u001b[0m\n\u001b[0m",
      "\u001b[0;31mIndexError\u001b[0m: list index out of range"
     ]
    }
   ],
   "source": [
    "#           index:       0      1          2        3          4 (notice it doens't go to 5, since we start at 0)\n",
    "doctor_who_actors = [\"Tennant\",\"Smith\",\"Capaldi\",\"Whittaker\", \"Gatwa\"] \n",
    "print(doctor_who_actors[5])"
   ]
  },
  {
   "cell_type": "markdown",
   "metadata": {
    "slideshow": {
     "slide_type": "slide"
    }
   },
   "source": [
    "But, if you use a negative index, it will count from the back of the list."
   ]
  },
  {
   "cell_type": "code",
   "execution_count": 1,
   "metadata": {},
   "outputs": [
    {
     "name": "stdout",
     "output_type": "stream",
     "text": [
      "Gatwa is the current Doctor.\n",
      "Whittaker was the previous Doctor.\n"
     ]
    }
   ],
   "source": [
    "#           index:     0 (-5)    1 (-4)   2 (-3)   3 (-2)    4 (-1) (- index starts from the end)\n",
    "doctor_who_actors = [\"Tennant\",\"Smith\",\"Capaldi\",\"Whittaker\", \"Gatwa\"]\n",
    "print(doctor_who_actors[-1], \"is the current Doctor.\")\n",
    "print(doctor_who_actors[-2], \"was the previous Doctor.\")"
   ]
  },
  {
   "cell_type": "markdown",
   "metadata": {
    "slideshow": {
     "slide_type": "slide"
    }
   },
   "source": [
    "## Updating items in a list\n",
    "\n",
    "You can also use list notation to change values in a list: \n",
    "- use the index to the position in the list you'd like to change (`rainfall_amounts[2]`) on the right hand side of the assignment operator `=` and the value on the left \n",
    "- `rainfall_amounts[2] = 0.65`"
   ]
  },
  {
   "cell_type": "code",
   "execution_count": 95,
   "metadata": {},
   "outputs": [
    {
     "name": "stdout",
     "output_type": "stream",
     "text": [
      "[0.0, 0.3, 0.65, 0.0, 0.32, 1.1, 0.4]\n"
     ]
    }
   ],
   "source": [
    "rainfall_amounts = [0.0, 0.3, 0.71, 0.0, 0.32, 1.1, 0.4]\n",
    "\n",
    "# change 0.71 to 0.65\n",
    "rainfall_amounts[2] = 0.65\n",
    "print(rainfall_amounts)"
   ]
  },
  {
   "cell_type": "markdown",
   "metadata": {
    "slideshow": {
     "slide_type": "slide"
    }
   },
   "source": [
    "## PollEverywhere:\n",
    "\n",
    "Fill in the blank:"
   ]
  },
  {
   "cell_type": "code",
   "execution_count": 100,
   "metadata": {},
   "outputs": [
    {
     "name": "stdout",
     "output_type": "stream",
     "text": [
      "Enter the number of a day 0-6: 6\n",
      "Day 6 had 0.4 inches of rainfall\n"
     ]
    }
   ],
   "source": [
    "rainfall_amounts = [0.0, 0.3, 0.71, 0.0, 0.32, 1.1, 0.4]\n",
    "day_num = int(input(\"Enter the number of a day 0-6: \"))\n",
    "print(\"Day\",day_num,\"had\",______________,\"inches of rainfall\") #Fill in the blank to get the output below"
   ]
  },
  {
   "cell_type": "markdown",
   "metadata": {
    "slideshow": {
     "slide_type": "fragment"
    }
   },
   "source": [
    "Add the line of code that will update the list with the new value."
   ]
  },
  {
   "cell_type": "code",
   "execution_count": 101,
   "metadata": {},
   "outputs": [
    {
     "name": "stdout",
     "output_type": "stream",
     "text": [
      "Enter the number of a day 0-6: 3\n",
      "Enter an updated rainfall amount for that day: 0.1\n",
      "[0.0, 0.3, 0.71, 0.1, 0.32, 1.1, 0.4]\n"
     ]
    }
   ],
   "source": [
    "rainfall_amounts = [0.0, 0.3, 0.71, 0.0, 0.32, 1.1, 0.4]\n",
    "day_num = int(input(\"Enter the number of a day 0-6: \"))\n",
    "new_amt = float(input(\"Enter an updated rainfall amount for that day: \"))\n",
    "\n",
    "#new line of code here\n",
    "\n",
    "\n",
    "print(rainfall_amounts)"
   ]
  },
  {
   "cell_type": "markdown",
   "metadata": {
    "slideshow": {
     "slide_type": "slide"
    }
   },
   "source": [
    "## Functions\n",
    "\n",
    "There are several useful functions that you can use on lists.\n",
    "\n",
    "Some of them require you to pass the list as an argument"
   ]
  },
  {
   "cell_type": "code",
   "execution_count": 102,
   "metadata": {
    "slideshow": {
     "slide_type": "fragment"
    }
   },
   "outputs": [
    {
     "data": {
      "text/plain": [
       "7"
      ]
     },
     "execution_count": 102,
     "metadata": {},
     "output_type": "execute_result"
    }
   ],
   "source": [
    "rainfall_amounts = [0.0, 0.3, 0.71, 0.0, 0.32, 1.1, 0.4]\n",
    "len(rainfall_amounts) #length of the list (# of items in list)"
   ]
  },
  {
   "cell_type": "code",
   "execution_count": 107,
   "metadata": {
    "slideshow": {
     "slide_type": "fragment"
    }
   },
   "outputs": [
    {
     "data": {
      "text/plain": [
       "1.1"
      ]
     },
     "execution_count": 107,
     "metadata": {},
     "output_type": "execute_result"
    }
   ],
   "source": [
    "max(rainfall_amounts) # largest value in the list"
   ]
  },
  {
   "cell_type": "code",
   "execution_count": 107,
   "metadata": {
    "slideshow": {
     "slide_type": "fragment"
    }
   },
   "outputs": [
    {
     "data": {
      "text/plain": [
       "1.1"
      ]
     },
     "execution_count": 107,
     "metadata": {},
     "output_type": "execute_result"
    }
   ],
   "source": [
    "min(rainfall_amounts) # smallest value in the list"
   ]
  },
  {
   "cell_type": "markdown",
   "metadata": {
    "slideshow": {
     "slide_type": "slide"
    }
   },
   "source": [
    "Some of them require to use the dot notation. \n",
    "\n",
    "Whenever you use a function with dot notation, it is technically called a __method__. The distinction will become more important later, but for now, don't be confused if you see the word _method_ in documentation like here: https://docs.python.org/3/tutorial/datastructures.html"
   ]
  },
  {
   "cell_type": "code",
   "execution_count": 111,
   "metadata": {
    "slideshow": {
     "slide_type": "fragment"
    }
   },
   "outputs": [
    {
     "data": {
      "text/plain": [
       "2"
      ]
     },
     "execution_count": 111,
     "metadata": {},
     "output_type": "execute_result"
    }
   ],
   "source": [
    "rainfall_amounts = [0.0, 0.3, 0.71, 0.0, 0.32, 1.1, 0.4]\n",
    "rainfall_amounts.index(0.71) #which index can I find 0.71 at? "
   ]
  },
  {
   "cell_type": "code",
   "execution_count": 115,
   "metadata": {
    "slideshow": {
     "slide_type": "fragment"
    }
   },
   "outputs": [
    {
     "data": {
      "text/plain": [
       "2"
      ]
     },
     "execution_count": 115,
     "metadata": {},
     "output_type": "execute_result"
    }
   ],
   "source": [
    "rainfall_amounts.count(0.0) #how many times does 0.0 appear in the list?"
   ]
  },
  {
   "cell_type": "markdown",
   "metadata": {
    "slideshow": {
     "slide_type": "slide"
    }
   },
   "source": [
    "## Group Exercises:"
   ]
  },
  {
   "cell_type": "code",
   "execution_count": null,
   "metadata": {},
   "outputs": [],
   "source": [
    "doctor_who_actors = [\"Tennant\",\"Smith\",\"Capaldi\",\"Whittaker\", \"Gatwa\"]\n",
    "print( len(doctor_who_actors) )\n",
    "print( max(doctor_who_actors) )\n",
    "\n",
    "rainfall_amounts = [0.0, 0.3, 0.71, 0.0, 0.32, 1.1, 0.4]\n",
    "print( min(rainfall_amounts) )\n",
    "print( sum(rainfall_amounts) )\n",
    "\n",
    "rainfall_amounts.reverse()\n",
    "print(rainfall_amounts)\n",
    "\n",
    "rainfall_amounts.sort()\n",
    "print(rainfall_amounts)\n",
    "print(doctor_who_actors.index(\"Gatwa\"))"
   ]
  },
  {
   "cell_type": "markdown",
   "metadata": {},
   "source": [
    "Execute this code and answer the following questions:\n",
    "- What do the `min()` and `sum()` functions do? \n",
    "- What do the `reverse()` and `sort()` function do?\n",
    "- Can you apply `sum()` too the `doctor_who_actors` list?\n",
    "- Write the line of code that will tell you which index `\"Tennant\"` appears at in the `doctor_who_actors` list."
   ]
  },
  {
   "cell_type": "markdown",
   "metadata": {
    "slideshow": {
     "slide_type": "slide"
    }
   },
   "source": [
    "## Testing membership in a list\n",
    "\n",
    "You can test if a value is in a list using the `in` operator."
   ]
  },
  {
   "cell_type": "code",
   "execution_count": 122,
   "metadata": {},
   "outputs": [
    {
     "name": "stdout",
     "output_type": "stream",
     "text": [
      "True\n"
     ]
    }
   ],
   "source": [
    "doctor_who_actors = [\"McGann\",\"Eccleston\",\"Tennant\",\"Smith\",\"Capaldi\",\"Whittaker\"]\n",
    "print(\"Tennant\" in doctor_who_actors)"
   ]
  },
  {
   "cell_type": "code",
   "execution_count": 121,
   "metadata": {},
   "outputs": [
    {
     "name": "stdout",
     "output_type": "stream",
     "text": [
      "Enter a rainfall amount: .91\n",
      "that does not appear.\n"
     ]
    }
   ],
   "source": [
    "rainfall_amounts = [0.0, 0.3, 0.71, 0.0, 0.32, 1.1, 0.4]\n",
    "amt = float(input(\"Enter a rainfall amount: \"))\n",
    "if amt in rainfall_amounts:\n",
    "    print(\"that amount appears in the list\")\n",
    "else:\n",
    "    print(\"that does not appear.\")"
   ]
  },
  {
   "cell_type": "markdown",
   "metadata": {
    "slideshow": {
     "slide_type": "slide"
    }
   },
   "source": [
    "## Group Exercise\n",
    "\n",
    "Fill in the blank"
   ]
  },
  {
   "cell_type": "code",
   "execution_count": 127,
   "metadata": {},
   "outputs": [
    {
     "name": "stdout",
     "output_type": "stream",
     "text": [
      "Enter the last name of an actor: Capaldi\n",
      "Capaldi has played Doctor Who.\n"
     ]
    }
   ],
   "source": [
    "doctor_who_actors = [\"McGann\",\"Eccleston\",\"Tennant\",\"Smith\",\"Capaldi\",\"Whittaker\"]\n",
    "actor = input(\"Enter the last name of an actor: \")\n",
    "\n",
    "if actor in doctor_who_actors:   #fill in the blank\n",
    "    print(________,\"has played Doctor Who.\")\n",
    "else:\n",
    "    print(________, \"has not played Doctor Who... yet\")"
   ]
  },
  {
   "cell_type": "markdown",
   "metadata": {
    "hideCode": false,
    "hidePrompt": false,
    "slideshow": {
     "slide_type": "slide"
    }
   },
   "source": [
    "## Appending items to the end of a list: `append()`\n",
    "\n",
    "Add new items to the end of a list using the `append()` list method."
   ]
  },
  {
   "cell_type": "code",
   "execution_count": 130,
   "metadata": {
    "hideCode": false,
    "hidePrompt": false
   },
   "outputs": [
    {
     "name": "stdout",
     "output_type": "stream",
     "text": [
      "[0.0, 0.3, 0.71, 0.0, 0.32, 1.1, 0.4, 0.1]\n",
      "8\n"
     ]
    }
   ],
   "source": [
    "rainfall_amounts = [0.0, 0.3, 0.71, 0.0, 0.32, 1.1, 0.4]\n",
    "rainfall_amounts.append(0.1)\n",
    "print(rainfall_amounts)\n",
    "print(len(rainfall_amounts))"
   ]
  },
  {
   "cell_type": "markdown",
   "metadata": {
    "hideCode": false,
    "hidePrompt": false,
    "slideshow": {
     "slide_type": "slide"
    }
   },
   "source": [
    "## Inserting new items into the beginning/middle of a list: `insert()`\n",
    "\n",
    "Add new items to the beginning or middlle of a list using the `insert()` method."
   ]
  },
  {
   "cell_type": "code",
   "execution_count": 133,
   "metadata": {
    "hideCode": false,
    "hidePrompt": false
   },
   "outputs": [
    {
     "name": "stdout",
     "output_type": "stream",
     "text": [
      "['Hurt', 'McGann', 'Eccleston', 'Tennant', 'Smith', 'Capaldi', 'Whittaker', 'Gatwa']\n"
     ]
    }
   ],
   "source": [
    "doctor_who_actors = [\"McGann\",\"Eccleston\",\"Tennant\",\"Smith\",\"Capaldi\",\"Whittaker\"]\n",
    "doctor_who_actors.insert(0,\"Hurt\")\n",
    "doctor_who_actors.append(\"Gatwa\")\n",
    "print(doctor_who_actors)"
   ]
  },
  {
   "cell_type": "markdown",
   "metadata": {
    "slideshow": {
     "slide_type": "slide"
    }
   },
   "source": [
    "## Group Exercise:\n",
    "\n",
    "A programmer wants to write a program that allows new rainfall amounts to appear at the __beginning of the list__. Here's the code they wrote for it, but they have an error in their code. Explain the problem and fix the code."
   ]
  },
  {
   "cell_type": "code",
   "execution_count": 2,
   "metadata": {},
   "outputs": [
    {
     "name": "stdout",
     "output_type": "stream",
     "text": [
      "Enter a new amount: .98\n",
      "[0.0, 0.3, 0.71, 0.0, 0.32, 1.1, 0.4, 0.98]\n"
     ]
    }
   ],
   "source": [
    "rainfall_amounts = [0.0, 0.3, 0.71, 0.0, 0.32, 1.1, 0.4]\n",
    "new_val = float(input(\"Enter a new amount: \"))\n",
    "rainfall_amounts.append(new_val)\n",
    "print(rainfall_amounts)"
   ]
  },
  {
   "cell_type": "markdown",
   "metadata": {
    "hideCode": false,
    "hidePrompt": false,
    "slideshow": {
     "slide_type": "slide"
    }
   },
   "source": [
    "## Removing items by value: `remove()`\n",
    "\n",
    "When you know the __value__ of the item you want to delete from the list, use the `remove()` method.\n",
    "\n",
    "This will only delete the first instance of the value.\n",
    "\n",
    "If the item isn't there, it will give an error."
   ]
  },
  {
   "cell_type": "code",
   "execution_count": 143,
   "metadata": {
    "hideCode": false,
    "hidePrompt": false,
    "scrolled": true
   },
   "outputs": [
    {
     "name": "stdout",
     "output_type": "stream",
     "text": [
      "[0.3, 0.71, 0.0, 0.32, 1.1, 0.4]\n"
     ]
    }
   ],
   "source": [
    "rainfall_amounts = [0.0, 0.3, 0.71, 0.0, 0.32, 1.1, 0.4]\n",
    "\n",
    "rainfall_amounts.remove(0.0)\n",
    "print(rainfall_amounts)"
   ]
  },
  {
   "cell_type": "markdown",
   "metadata": {
    "slideshow": {
     "slide_type": "slide"
    }
   },
   "source": [
    "## Removing items by index: `pop()`\n",
    "\n",
    "When you know the position of the item you want to delete, use the `pop()` method."
   ]
  },
  {
   "cell_type": "code",
   "execution_count": 3,
   "metadata": {},
   "outputs": [
    {
     "name": "stdout",
     "output_type": "stream",
     "text": [
      "[0.3, 0.71, 0.0, 0.32, 1.1, 0.4]\n",
      "0.0\n"
     ]
    }
   ],
   "source": [
    "rainfall_amounts = [0.0, 0.3, 0.71, 0.0, 0.32, 1.1, 0.4]\n",
    "value = rainfall_amounts.pop(0) # if no argument is given, it will assume -1\n",
    "print(rainfall_amounts)\n",
    "print(value)"
   ]
  },
  {
   "cell_type": "markdown",
   "metadata": {
    "slideshow": {
     "slide_type": "slide"
    }
   },
   "source": [
    "## Group Exercise:\n",
    "\n",
    "A programmer wants to write a program that allows the user to enter a rain amount and then remove that if it is in the list. However, when they test this code, some of the tests cause the program to crash. \n",
    "\n",
    "Explain the problem and write the code that will fix it\n",
    "> _Hint: you might need to add an `if` statement_."
   ]
  },
  {
   "cell_type": "code",
   "execution_count": null,
   "metadata": {},
   "outputs": [],
   "source": [
    "rainfall_amounts = [0.0, 0.3, 0.71, 0.0, 0.32, 1.1, 0.4]\n",
    "val_to_remove = float(input(\"Enter a value to remove: \"))\n",
    "\n",
    "# remove val_to_remove from list\n",
    "rainfall_amounts.remove(val_to_remove)\n",
    "print(rainfall_amounts)"
   ]
  },
  {
   "cell_type": "markdown",
   "metadata": {
    "slideshow": {
     "slide_type": "slide"
    }
   },
   "source": [
    "## Removing all values in a list: `clear()`\n",
    "\n",
    "If you want to clear out a list so that there are no remaining items in it, you can use the `clear()` method."
   ]
  },
  {
   "cell_type": "code",
   "execution_count": 7,
   "metadata": {},
   "outputs": [
    {
     "name": "stdout",
     "output_type": "stream",
     "text": [
      "[]\n"
     ]
    }
   ],
   "source": [
    "rainfall_amounts = [0.0, 0.3, 0.71, 0.0, 0.32, 1.1, 0.4]\n",
    "\n",
    "rainfall_amounts.clear()\n",
    "print(rainfall_amounts)"
   ]
  },
  {
   "cell_type": "markdown",
   "metadata": {
    "slideshow": {
     "slide_type": "slide"
    }
   },
   "source": [
    "## 🍕 List Slicing:\n",
    "Sometimes you want to work with not just one element, but multiple elements from a list. To do this, we use what is called __list slicing__.\n",
    "\n",
    "A __slice__ of a list is a span of items that are taken from a sequence.\n",
    "- list slicing syntax: `list[ start : end ] `\n",
    "- Span is a list containing copies of elements from `start` up to, but __not including__ `end`\n",
    "- if `start` is not specified, 0 is used for start index\n",
    "- if `end` is not specified, `len(list)` is used for the end index."
   ]
  },
  {
   "cell_type": "code",
   "execution_count": 4,
   "metadata": {
    "scrolled": true
   },
   "outputs": [
    {
     "name": "stdout",
     "output_type": "stream",
     "text": [
      "George\n",
      "['Thomas', 'Teddy']\n",
      "['Thomas', 'Teddy', 'Abe']\n",
      "['George', 'Thomas', 'Teddy']\n"
     ]
    }
   ],
   "source": [
    "presidents = [\"George\", \"Thomas\", \"Teddy\", \"Abe\"]\n",
    "print(presidents[0])\n",
    "print(presidents[1:3])\n",
    "print(presidents[1:])\n",
    "print(presidents[:3])"
   ]
  },
  {
   "cell_type": "markdown",
   "metadata": {
    "hideCode": false,
    "hidePrompt": false,
    "slideshow": {
     "slide_type": "slide"
    }
   },
   "source": [
    "## Removing items by value: `del`\n",
    "\n",
    "When you know the __index__ of the item(s) you want to delete from the list, use the `del` keyword.\n",
    "\n",
    "This will work on items or slices of the list."
   ]
  },
  {
   "cell_type": "code",
   "execution_count": 6,
   "metadata": {
    "hideCode": false,
    "hidePrompt": false,
    "scrolled": true
   },
   "outputs": [
    {
     "name": "stdout",
     "output_type": "stream",
     "text": [
      "[0.0, 0.3, 0.0, 0.32, 1.1, 0.4]\n"
     ]
    }
   ],
   "source": [
    "rainfall_amounts = [0.0, 0.3, 0.71, 0.0, 0.32, 1.1, 0.4]\n",
    "\n",
    "del rainfall_amounts[2:3]\n",
    "\n",
    "print(rainfall_amounts)"
   ]
  },
  {
   "cell_type": "markdown",
   "metadata": {
    "slideshow": {
     "slide_type": "slide"
    }
   },
   "source": [
    "## List Operation Summary:\n",
    "Last class we talked about **lists**\n",
    "\n",
    "| **Code**                     | **Operation**                                           |\n",
    "|:------------------------------|:---------------------------------------------------------|\n",
    "| `list_sum = sum(my_list)`    | Returns the sum of the elements in the list             |\n",
    "| `num_elements= len(my_list)` | returns number of elements in list                      |\n",
    "| `my_list[1] = 3`             | changes element of the list at index 1                  |\n",
    "| `del my_list[3]`             | deletes element of list at index 3                      |\n",
    "| `my_list.append(7)`          | adds the element 7 to the ened of the list              |\n",
    "| `my_list.pop(2)`             | removes the element at index 2 (also returns the value) |\n",
    "| `my_list.sort()`             | Sorts the list in ascending order                       |\n",
    "| `my_list.sort(reverse=True)` | Sorts the list in descending order                      |\n",
    "| `my_list.reverse()`          | reverses the list                                       |"
   ]
  },
  {
   "cell_type": "markdown",
   "metadata": {
    "slideshow": {
     "slide_type": "slide"
    }
   },
   "source": [
    "## Loops with Lists\n",
    "\n",
    "Loops are really good for doing things with lists. For example, you use the `len()` function to find out how many items are in a list and then create a count-controlled loop to go through each item in the list, using the counter as the list index. \n",
    "\n",
    "For example, this list will print out all of the values in the `rainfall_amounts` list."
   ]
  },
  {
   "cell_type": "code",
   "execution_count": 52,
   "metadata": {
    "scrolled": true
   },
   "outputs": [
    {
     "name": "stdout",
     "output_type": "stream",
     "text": [
      "Day 0 had 0.0 inches of rainfall.\n",
      "Day 1 had 0.3 inches of rainfall.\n",
      "Day 2 had 0.71 inches of rainfall.\n",
      "Day 3 had 0.0 inches of rainfall.\n",
      "Day 4 had 0.32 inches of rainfall.\n",
      "Day 5 had 1.1 inches of rainfall.\n",
      "Day 6 had 0.4 inches of rainfall.\n"
     ]
    }
   ],
   "source": [
    "rainfall = [0.0, 0.3, 0.71, 0.0, 0.32, 1.1, 0.4]\n",
    "counter = 0\n",
    "\n",
    "# [0,1,2,3,4,5,6] < 7\n",
    "while counter < len(rainfall):\n",
    "    print(\"Day\",counter,\"had\", rainfall[counter],\"inches of rainfall.\")\n",
    "    counter += 1"
   ]
  },
  {
   "cell_type": "markdown",
   "metadata": {
    "slideshow": {
     "slide_type": "slide"
    }
   },
   "source": [
    "# Introduction to For Loops and `range()`"
   ]
  },
  {
   "cell_type": "markdown",
   "metadata": {
    "slideshow": {
     "slide_type": "slide"
    }
   },
   "source": [
    "# Count-Controlled Loops\n",
    "\n",
    "__count-controlled loop__: a loop that ierates a specific number of times. \n",
    "- So far, we've accomplished this using a combination of a `counter`, `while` loop, and the `len()` function.\n"
   ]
  },
  {
   "cell_type": "code",
   "execution_count": 43,
   "metadata": {
    "scrolled": true
   },
   "outputs": [
    {
     "name": "stdout",
     "output_type": "stream",
     "text": [
      "Sunday\n",
      "Monday\n",
      "Tuesday\n",
      "Wednesday\n",
      "Thursday\n",
      "Friday\n",
      "Saturday\n"
     ]
    }
   ],
   "source": [
    "days_in_week = ['Sunday','Monday', 'Tuesday', 'Wednesday', 'Thursday', 'Friday', 'Saturday']\n",
    "counter = 0\n",
    "while counter < len(days_in_week):\n",
    "    print(days_in_week[counter])\n",
    "    counter +=1"
   ]
  },
  {
   "cell_type": "markdown",
   "metadata": {
    "slideshow": {
     "slide_type": "slide"
    }
   },
   "source": [
    "# The For Loop:\n",
    "## 🔐✨ New Keywords Unlocked: `for` and `in`\n",
    "Use a `for` statement to easily write count-controlled loops.\n",
    "- designed to work with a sequence of data items.\n",
    "    - iterates once for each item in the sequence."
   ]
  },
  {
   "cell_type": "markdown",
   "metadata": {
    "slideshow": {
     "slide_type": "subslide"
    }
   },
   "source": [
    "## `for` loop syntax:\n",
    "- keyword `for`\n",
    "- __target variable__: you get to make this one up, but it's best if it hasn't been used in your current program.\n",
    "- keyword `in`\n",
    "- a sequence\n",
    "- colon `:`\n",
    "\n",
    "Example:"
   ]
  },
  {
   "cell_type": "code",
   "execution_count": 44,
   "metadata": {
    "slideshow": {
     "slide_type": "subslide"
    }
   },
   "outputs": [
    {
     "name": "stdout",
     "output_type": "stream",
     "text": [
      "Sunday\n",
      "Monday\n",
      "Tuesday\n",
      "Wednesday\n",
      "Thursday\n",
      "Friday\n",
      "Saturday\n"
     ]
    }
   ],
   "source": [
    "days_in_week = ['Sunday','Monday', 'Tuesday', 'Wednesday', 'Thursday', 'Friday', 'Saturday']\n",
    "\n",
    "for day in days_in_week: #day is the target variable\n",
    "    print(day)"
   ]
  },
  {
   "cell_type": "code",
   "execution_count": 45,
   "metadata": {},
   "outputs": [
    {
     "name": "stdout",
     "output_type": "stream",
     "text": [
      "1\n",
      "2\n",
      "3\n",
      "4\n",
      "5\n"
     ]
    }
   ],
   "source": [
    "for num in [1,2,3,4,5]:\n",
    "    print(num)"
   ]
  },
  {
   "cell_type": "markdown",
   "metadata": {
    "slideshow": {
     "slide_type": "slide"
    }
   },
   "source": [
    "<div>\n",
    "<img src=\"images/day05_forloops.png\" width=\"500\"/>\n",
    "</div>"
   ]
  },
  {
   "cell_type": "markdown",
   "metadata": {
    "slideshow": {
     "slide_type": "slide"
    }
   },
   "source": [
    "# Group Exercise:\n",
    "\n",
    "Walk through the following for loops. Before you try running them, see if you can predit what they will output."
   ]
  },
  {
   "cell_type": "code",
   "execution_count": null,
   "metadata": {},
   "outputs": [],
   "source": [
    "for val in [1,3,5,7,9]:\n",
    "    print(val)"
   ]
  },
  {
   "cell_type": "code",
   "execution_count": null,
   "metadata": {},
   "outputs": [],
   "source": [
    "for name in ['Han Solo', 'Darth Vader', 'Yoda', 'The Child']:\n",
    "    print(name)"
   ]
  },
  {
   "cell_type": "code",
   "execution_count": null,
   "metadata": {},
   "outputs": [],
   "source": [
    "for num in [1,2,3,4,5]:\n",
    "    if num%2==0:\n",
    "        print(num)"
   ]
  },
  {
   "cell_type": "code",
   "execution_count": 46,
   "metadata": {
    "scrolled": true
   },
   "outputs": [
    {
     "name": "stdout",
     "output_type": "stream",
     "text": [
      "type something:apple\n",
      "a\n",
      "p\n",
      "p\n",
      "l\n",
      "e\n"
     ]
    }
   ],
   "source": [
    "my_string = input(\"type something:\")\n",
    "for char in my_string:\n",
    "    print(char)"
   ]
  },
  {
   "cell_type": "markdown",
   "metadata": {
    "slideshow": {
     "slide_type": "slide"
    }
   },
   "source": [
    "# The `range()` function\n",
    "\n",
    "The `range()` function simplifies the process of writing a for loop.\n",
    "\n",
    "- `range()` returns an iterable object\n",
    "    - *iterable* means that it contains a sequence of values that can be iterated (looped) over."
   ]
  },
  {
   "cell_type": "code",
   "execution_count": 47,
   "metadata": {},
   "outputs": [
    {
     "data": {
      "text/plain": [
       "range(0, 5)"
      ]
     },
     "execution_count": 47,
     "metadata": {},
     "output_type": "execute_result"
    }
   ],
   "source": [
    "range(5)"
   ]
  },
  {
   "cell_type": "code",
   "execution_count": 6,
   "metadata": {
    "slideshow": {
     "slide_type": "subslide"
    }
   },
   "outputs": [
    {
     "name": "stdout",
     "output_type": "stream",
     "text": [
      "0\n",
      "1\n",
      "2\n",
      "3\n",
      "4\n"
     ]
    }
   ],
   "source": [
    "for num in range(5):\n",
    "    print(num)"
   ]
  },
  {
   "cell_type": "code",
   "execution_count": 7,
   "metadata": {},
   "outputs": [
    {
     "name": "stdout",
     "output_type": "stream",
     "text": [
      "Hello World!\n",
      "Hello World!\n",
      "Hello World!\n",
      "Hello World!\n",
      "Hello World!\n"
     ]
    }
   ],
   "source": [
    "for x in range(5):\n",
    "    print(\"Hello World!\")"
   ]
  },
  {
   "cell_type": "markdown",
   "metadata": {
    "slideshow": {
     "slide_type": "slide"
    }
   },
   "source": [
    "## Passing `range()` Multiple Arguments\n",
    "\n",
    "By default, the range function produces a sequence of numbers that increases by 1.\n",
    "\n",
    "If you pass three arguments to range:\n",
    "- the first number is the starting value\n",
    "- the second number is the ending limit\n",
    "- the third number is the step value (increment)"
   ]
  },
  {
   "cell_type": "code",
   "execution_count": 48,
   "metadata": {},
   "outputs": [
    {
     "name": "stdout",
     "output_type": "stream",
     "text": [
      "10\n",
      "8\n",
      "6\n",
      "4\n",
      "2\n"
     ]
    }
   ],
   "source": [
    "for x in range(10,1,-2):\n",
    "    print(x)"
   ]
  },
  {
   "cell_type": "markdown",
   "metadata": {
    "slideshow": {
     "slide_type": "slide"
    }
   },
   "source": [
    "## Group Exercise:\n",
    "\n",
    "Using for loops and the `range()` function, take a crack at the following tasks:\n",
    "- print out all integers between 1 and 200 (including 200)\n",
    "- print out all even integers between 1 and 200 (including 200)\n",
    "- print out all integers counting down from 50 to 1\n",
    "- print out all integers between 1 and 10, followed by the squares\n",
    "    - So this output might look like:\n",
    "    \n",
    "    `1 --- 1`\n",
    "    \n",
    "    `2 --- 4` \n",
    "    \n",
    "    `3 --- 9` etc"
   ]
  },
  {
   "cell_type": "code",
   "execution_count": null,
   "metadata": {},
   "outputs": [],
   "source": []
  },
  {
   "cell_type": "markdown",
   "metadata": {
    "slideshow": {
     "slide_type": "slide"
    }
   },
   "source": [
    "## Two Main Formulas for For Loops:\n",
    "\n",
    "There are two common strategies for using for loops with lists. \n",
    "\n",
    "The first is called `list_comprehension`, and is used when you want to have access only to the values that are in the list, but don't necessarily care about the indices of the list. \n",
    "\n",
    "It looks something like this:"
   ]
  },
  {
   "cell_type": "code",
   "execution_count": 49,
   "metadata": {
    "slideshow": {
     "slide_type": "slide"
    }
   },
   "outputs": [
    {
     "name": "stdout",
     "output_type": "stream",
     "text": [
      "-5 4\n",
      "-15 5\n",
      "-8 6\n",
      "-1 7\n"
     ]
    }
   ],
   "source": [
    "temperatures = [30, 20, 2, -5, -15, -8, -1, 0, 5, 35]\n",
    "\n",
    "for temp in temperatures:\n",
    "    if temp < 0:\n",
    "        print(temp, day)"
   ]
  },
  {
   "cell_type": "markdown",
   "metadata": {
    "slideshow": {
     "slide_type": "-"
    }
   },
   "source": [
    "What if we wanted to print out which days had negative temperatures? Our output might look like:\n",
    "\n",
    "`Day 3 had a negative temperature`\n",
    "\n",
    "`Day 4 had a negative temperature`\n",
    "\n",
    "`Day 5 had a negative temperature`\n",
    "\n",
    "`Day 6 had a negative temperature`\n",
    "\n",
    "Any ideas how we might accomplish this?"
   ]
  },
  {
   "cell_type": "markdown",
   "metadata": {
    "slideshow": {
     "slide_type": "fragment"
    }
   },
   "source": [
    "Possible solutions:\n",
    "- use a counter\n",
    "- use the `range()` function"
   ]
  },
  {
   "cell_type": "code",
   "execution_count": null,
   "metadata": {
    "slideshow": {
     "slide_type": "slide"
    }
   },
   "outputs": [],
   "source": [
    "# what will this code do?\n",
    "for index in range(len(temperatures)):\n",
    "    print(index)"
   ]
  },
  {
   "cell_type": "code",
   "execution_count": null,
   "metadata": {},
   "outputs": [],
   "source": [
    "temperatures = [30, 20, 2, -5, -15, -8, -1, 0, 5, 35]\n",
    "\n",
    "for index in range(len(temperatures)):\n",
    "    if temperatures[index] < 0:\n",
    "        print(\"Day\", index, \" had a negative temperature\")"
   ]
  },
  {
   "cell_type": "code",
   "execution_count": null,
   "metadata": {},
   "outputs": [],
   "source": []
  }
 ],
 "metadata": {
  "celltoolbar": "Slideshow",
  "kernelspec": {
   "display_name": "Python 3 (ipykernel)",
   "language": "python",
   "name": "python3"
  },
  "language_info": {
   "codemirror_mode": {
    "name": "ipython",
    "version": 3
   },
   "file_extension": ".py",
   "mimetype": "text/x-python",
   "name": "python",
   "nbconvert_exporter": "python",
   "pygments_lexer": "ipython3",
   "version": "3.11.4"
  }
 },
 "nbformat": 4,
 "nbformat_minor": 4
}
