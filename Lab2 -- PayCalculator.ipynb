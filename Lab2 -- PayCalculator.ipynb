{
 "cells": [
  {
   "cell_type": "markdown",
   "id": "dfbcd23e",
   "metadata": {},
   "source": [
    "# Lab #: Pay Calculator\n",
    "#### CS65 | Fall 2023 | [CodePost Login](https://codepost.io/login)\n",
    "\n",
    "__Due__: Monday, September 11th, by 11:59pm\n",
    "\n",
    "__Total Points__: 4\n",
    "\n",
    "Please complete the following exercises, and then submit your Challenge Exercise to CodePost by the deadline.\n",
    "\n",
    "Open Thonny and create a new file. Call the file `Lab2Exercises.py`.\n",
    "\n",
    "## Exercise #1:\n",
    "Run the following code, observe the output, and reflect on the questions below:\n",
    "\n",
    "> (I'd advise against copying and pasting--the practice typing things out helps!)"
   ]
  },
  {
   "cell_type": "code",
   "execution_count": null,
   "id": "f196cb41",
   "metadata": {},
   "outputs": [],
   "source": [
    "# author:\n",
    "# description: Lab #2 exercises\n",
    "\n",
    "my_variable = 5\n",
    "my_variable = my_variable + 1\n",
    "print(my_variable)"
   ]
  },
  {
   "cell_type": "markdown",
   "id": "ce0d677b",
   "metadata": {},
   "source": [
    "<div class=\"alert alert-block alert-info\">\n",
    "<b>Reflection #1:</b> <br>\n",
    "    Can you put a variable on both the left and right side of an assignment statement? <br>\n",
    "    Why might you want to do that?\n",
    "</div>\n",
    "\n",
    "---\n",
    "\n",
    "## Exercise #2:\n",
    "Run the following code, observe the output, and reflect on the questions below."
   ]
  },
  {
   "cell_type": "code",
   "execution_count": null,
   "id": "08358241",
   "metadata": {},
   "outputs": [],
   "source": [
    "my_variable = 5\n",
    "my_variable += 1\n",
    "print(my_variable)"
   ]
  },
  {
   "cell_type": "markdown",
   "id": "566baa9a",
   "metadata": {},
   "source": [
    "<div class=\"alert alert-block alert-info\">\n",
    "<b>Reflection #2:</b> <br>\n",
    "   Is there a difference betweem <code>my_variable = my_variable +1</code> and <code>my_variable += 1</code>? <br>\n",
    "   Can you do this with other operators? Is there a <code>-=</code>, <code>*=</code>, or <code>/=</code>?\n",
    "</div>\n",
    "\n",
    "---\n",
    "\n",
    "## Exercise #3\n",
    "\n",
    "Type in the following line of code. Run this line of code and thinka bout what it is doing:\n",
    "\n",
    "`fav_color = input(\"What is your favorite color? \")`\n",
    "\n",
    "<div class=\"alert alert-block alert-info\">\n",
    "<b>Reflection #3:</b> <br>\n",
    "    <ul>\n",
    "        <li>Why does the program pause when it runs this line of code?</li> \n",
    "        <li>This is an _assignment_ statement. How is it like other assignment statements you've seen? </li>\n",
    "        <li>What variable is being assigned a value?</li>\n",
    "        <li>What value is saved to that variable?</li>\n",
    "        <li>What type does this variable have?</li>\n",
    "        <li>Write the line of code that would display this value to the user.</li>\n",
    "        <li>Write the line of code that would display the _type_ of <code>fav_color</code>. </li>\n",
    "    </ul>\n",
    "</div>\n",
    "\n",
    "---\n",
    "\n",
    "## Exercise 4: \n",
    "Let's say we want to ask the user what their favorite number is. Each of the three lines might\n",
    "work:"
   ]
  },
  {
   "cell_type": "code",
   "execution_count": null,
   "id": "15e3306e",
   "metadata": {},
   "outputs": [],
   "source": [
    "fav_number = input(\"What is your favorite number? \")\n",
    "fav_number = int(input(\"What is your favorite number? \") )\n",
    "fav_number = float( input(\"What is your favorite number? \") )"
   ]
  },
  {
   "cell_type": "markdown",
   "id": "097726e9",
   "metadata": {},
   "source": [
    "<div class=\"alert alert-block alert-info\">\n",
    "<b>Reflection #4:</b> <br>\n",
    "    <ul>\n",
    "        <li>Which do you think is the most appropriate? Why?</li>\n",
    "        <li> what does <code>int()</code> do here?</li>\n",
    "    </ul>\n",
    "</div>    \n",
    "\n",
    "---\n",
    "\n",
    "## Exercise #5:\n",
    "\n",
    "The following code will run, but it probably won't give the result that the programmer was\n",
    "hoping for. Type it in and then go ahead and run it:"
   ]
  },
  {
   "cell_type": "code",
   "execution_count": null,
   "id": "7f8fe72b",
   "metadata": {},
   "outputs": [],
   "source": [
    "first_number = input(\"What is your favorite number? \")\n",
    "second_number = input(\"What is your second favorite number? \")\n",
    "total = first_number + second_number\n",
    "print(\"The sum of your two favorite numbers is\",total)"
   ]
  },
  {
   "cell_type": "markdown",
   "id": "59129a7c",
   "metadata": {},
   "source": [
    "<div class=\"alert alert-block alert-info\">\n",
    "<b>Reflection #5:</b> <br>\n",
    "    <ul>\n",
    "        <li>Why is the result not as expected? When a program gives the wrong result but doesn't trigger a Python error like a <code>SyntaxError</code> or <code>TypeError</code>, it's called a logic error.</li>\n",
    "        <li>Fix this program so that it gives the expected result.</li>\n",
    "    </ul>\n",
    "</div>\n",
    "\n",
    "---\n",
    "\n",
    "# Challenge Exercise:\n",
    "Write a program that asks the user to enter their hourly wage and their number of\n",
    "hours worked, and then display their total pay for that pay period. This is what it should look like:\n",
    "\n",
    "<div>\n",
    "<img src=\"images/lab2_output.png\"/ width=400>\n",
    "</div>"
   ]
  },
  {
   "cell_type": "code",
   "execution_count": 1,
   "id": "e86970a4",
   "metadata": {},
   "outputs": [
    {
     "name": "stdout",
     "output_type": "stream",
     "text": [
      "What is your hourly wage? 9.25\n",
      "How many hours did you work? 25\n",
      "You earned 231.25\n"
     ]
    }
   ],
   "source": [
    "# your output should look like this:"
   ]
  },
  {
   "cell_type": "markdown",
   "id": "a3111694",
   "metadata": {},
   "source": [
    "When you are finished, upload your `Lab2.py` file to the [codePost](https://codepost.io/login) __Lab 2: Pay Calculator__ assignment. \n",
    "\n",
    "For this assignment, codePost will automatically test your code on several different inputs and check for the\n",
    "correct results, so make sure you test your program with additional test cases to ensure it is working."
   ]
  }
 ],
 "metadata": {
  "kernelspec": {
   "display_name": "Python 3 (ipykernel)",
   "language": "python",
   "name": "python3"
  },
  "language_info": {
   "codemirror_mode": {
    "name": "ipython",
    "version": 3
   },
   "file_extension": ".py",
   "mimetype": "text/x-python",
   "name": "python",
   "nbconvert_exporter": "python",
   "pygments_lexer": "ipython3",
   "version": "3.11.4"
  }
 },
 "nbformat": 4,
 "nbformat_minor": 5
}
