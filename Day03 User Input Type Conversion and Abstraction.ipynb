{
  "cells": [
    {
      "cell_type": "markdown",
      "metadata": {
        "id": "view-in-github",
        "colab_type": "text"
      },
      "source": [
        "<a href=\"https://colab.research.google.com/github/merriekay/CS65-F23/blob/main/Day03%20User%20Input%20Type%20Conversion%20and%20Abstraction.ipynb\" target=\"_parent\"><img src=\"https://colab.research.google.com/assets/colab-badge.svg\" alt=\"Open In Colab\"/></a>"
      ]
    },
    {
      "cell_type": "markdown",
      "metadata": {
        "id": "IRMiXkYgqtP2"
      },
      "source": [
        "# CS65: Day 03\n",
        "## User Input, Type Conversion, and Abstraction\n",
        "\n",
        "####  CS65: Introduction to Computer Science I | Fall 2023\n",
        "\n",
        "Wednesday, September 6th, 2023\n",
        "\n",
        " 📜 [Syllabus](https://docs.google.com/document/d/1JTRJ-22abpu3HNhHzE2NaGfstNrrBav1MSQcLIMBWe4/edit?usp=sharing) | 📬 [CodePost Login](https://codepost.io/login) | 📆 [Schedule](https://docs.google.com/spreadsheets/d/e/2PACX-1vS51v65qE22qEyhLTF_q5sF_4Nu1GhWU4mDgfsF7NY8Yrjl5-ismCyXjHiR4Fuxqd1cJ9dY5l55CcV0/pubhtml?gid=0&single=true) | 🙋 [Polleverywhere](https://pollev.com/moore) | 🪴 [Office Hour Sign Up](https://calendly.com/meredith-moore/office-hours)"
      ]
    },
    {
      "cell_type": "markdown",
      "metadata": {
        "id": "OYvWTZmdqtP4"
      },
      "source": [
        "> Note to self: Make sure you're recording 🎥"
      ]
    },
    {
      "cell_type": "markdown",
      "metadata": {
        "id": "3fGPjzjvqtP4"
      },
      "source": [
        "# Admin Stuff"
      ]
    },
    {
      "cell_type": "markdown",
      "metadata": {
        "id": "xZ0tQXNyqtP5"
      },
      "source": [
        "Grading:\n",
        "* I've commented on Lab #1 if you didn't get the full points to help you pinpoint your error. Please take a look at your feedback on CodePost and let me know if you have any questions. __You can resubmit as many times as you'd like up until the deadline__.\n"
      ]
    },
    {
      "cell_type": "markdown",
      "metadata": {
        "id": "3bLWd-yYqtP5"
      },
      "source": [
        "You should be working on:\n",
        "- [Lab #2](https://analytics.drake.edu/~moore/CS65-F23/Lab2.html) is released today, due Wednesday by 11:59pm.\n",
        "- [Reading #3: Values and Types](https://greenteapress.com/thinkpython2/html/thinkpython2002.html#sec10)"
      ]
    },
    {
      "cell_type": "markdown",
      "metadata": {
        "id": "fJzRUOPaqtP5"
      },
      "source": [
        "# Lab #1:\n",
        "\n",
        "Due Wednesday 9/6 (__TODAY__) by 11:59 pm.\n",
        "\n",
        "Four 'exercises' (and 'reflections') that are there to provide a hands-on walkthrough of additional content and experimentation with Python and Thonny.\n",
        "\n",
        "__Challenge Exercise__ -- this is what you 'hand-in' via CodePost.\n",
        "- For Lab #1, this is just a simple program that prints out \"Hello world!\" (note that the capitalization __and punctuation__ is important)."
      ]
    },
    {
      "cell_type": "markdown",
      "metadata": {
        "id": "KhYjTwIEqtP5"
      },
      "source": [
        "# ⏪ Quick Review:"
      ]
    },
    {
      "cell_type": "markdown",
      "metadata": {
        "id": "by3L2U0IqtP5"
      },
      "source": [
        "# `print` Statement:\n",
        "\n",
        "The `print` statement is a Python line of code that will output a value when the program is run.\n",
        "\n",
        "The value output will be whatever is between the parentheses `()`."
      ]
    },
    {
      "cell_type": "code",
      "execution_count": null,
      "metadata": {
        "id": "qIWVCc5cqtP6",
        "outputId": "9249d30b-01e8-49cc-af4d-d4aee5ac3331"
      },
      "outputs": [
        {
          "name": "stdout",
          "output_type": "stream",
          "text": [
            "Hello STEM280!\n"
          ]
        }
      ],
      "source": [
        "print(\"Hello STEM280!\")"
      ]
    },
    {
      "cell_type": "markdown",
      "metadata": {
        "id": "DqKvdamvqtP7"
      },
      "source": [
        "# Strings:\n",
        "\n",
        "## 🚨🚨 Terminology Alert 🚨🚨\n",
        "In Python, any sequence of characters between double-quotes `\"`, or single quotes `'` is known as a __string__.\n",
        "\n",
        "String Examples:\n",
        "- `\"Hello World\"`\n",
        "- `'123 ABC'`\n",
        "- `\"Greetings, what is your name?\"`"
      ]
    },
    {
      "cell_type": "markdown",
      "metadata": {
        "id": "rr4u6GByqtP7"
      },
      "source": [
        "# Comments:\n",
        "\n",
        "__Comments__ are notes of explanation that document lines of code or sections of a program.\n",
        "\n",
        "Comments are part of the program, but the Python _interpreter_ ignores them.\n",
        "\n",
        "They are intended for people who may be reading the source code:\n",
        "- like your professor\n",
        "- or your teammates\n",
        "\n",
        "Python comments are denoted with a `#`."
      ]
    },
    {
      "cell_type": "code",
      "execution_count": null,
      "metadata": {
        "id": "dykDM57QqtP7",
        "outputId": "f8cc65b8-0733-42c7-b1b2-7470fb93f4ae"
      },
      "outputs": [
        {
          "name": "stdout",
          "output_type": "stream",
          "text": [
            "this is a string\n",
            "this, too, is a string\n"
          ]
        }
      ],
      "source": [
        "# this is a comment\n",
        "\n",
        "print('this is a string') #comments can go after lines of code too\n",
        "print(\"this, too, is a string\")"
      ]
    },
    {
      "cell_type": "markdown",
      "metadata": {
        "id": "8XAAE3O_qtP8"
      },
      "source": [
        "## Multi-line comments\n",
        "\n",
        "Text that is surrounded by triple quotes (either `'`, or `\"`) are also comments:"
      ]
    },
    {
      "cell_type": "code",
      "execution_count": null,
      "metadata": {
        "id": "ClRmKUyIqtP8"
      },
      "outputs": [],
      "source": [
        "# This is a comment\n",
        "\n",
        "'''This is also a comment\n",
        "This comment is on multiple lines\n",
        "'''\n",
        "\n",
        "\"\"\"\n",
        "Yes\n",
        "This\n",
        "is\n",
        "A\n",
        "Comment\n",
        "\"\"\""
      ]
    },
    {
      "cell_type": "markdown",
      "metadata": {
        "id": "XuDZHis-qtP8"
      },
      "source": [
        "# Variables:\n",
        "\n",
        "A __variable__ is a _name_ that represents a value stored in the computer's memory.\n",
        "\n",
        "Programmers use variables to hold values that might change.\n",
        "\n",
        "They're kind of like cells in a spreadsheet.\n",
        "\n",
        "> cell with name B4 has the value of 42, and we can use that value in other computations by referring to its name.\n",
        "\n",
        "<div>\n",
        "<img src=\"https://github.com/merriekay/CS65-F23/blob/main/images/day01_cell.png?raw=1\"/ width=400>\n",
        "</div>\n"
      ]
    },
    {
      "cell_type": "markdown",
      "metadata": {
        "id": "yWuOqOxmqtP8"
      },
      "source": [
        "# Assignment Statements\n",
        "\n",
        "Code with a `=` is called an __assignment statement__.\n",
        "\n",
        "You can use an __assignment statement__ to create a variable and make it reference a piece of data (a value).\n",
        "\n",
        "Examples:"
      ]
    },
    {
      "cell_type": "code",
      "execution_count": null,
      "metadata": {
        "id": "R3rxmFqwqtP8"
      },
      "outputs": [],
      "source": [
        "age = 25\n",
        "hourly_rate = 15.5\n",
        "greeting = \"hello everyone\""
      ]
    },
    {
      "cell_type": "markdown",
      "metadata": {
        "id": "0Dhfbo_VqtP8"
      },
      "source": [
        "# Expressions\n",
        "\n",
        "An _expression_ is something evaluated by the Python interpreter:"
      ]
    },
    {
      "cell_type": "code",
      "execution_count": null,
      "metadata": {
        "id": "LTUkV_YkqtP8",
        "outputId": "ad8d7249-b360-4c67-f255-b428c0ac19fb"
      },
      "outputs": [
        {
          "name": "stdout",
          "output_type": "stream",
          "text": [
            "Total field trip lunches: 52\n"
          ]
        }
      ],
      "source": [
        "num_students = 42\n",
        "num_adults = 10\n",
        "total_field_trip_lunches = num_students + num_adults\n",
        "print(\"Total field trip lunches:\", total_field_trip_lunches)"
      ]
    },
    {
      "cell_type": "markdown",
      "metadata": {
        "id": "8fXT7pt0qtP9"
      },
      "source": [
        "When `num_students + num_adults` is _evaluated,_ it results in an answer, so it is an __expression__."
      ]
    },
    {
      "cell_type": "markdown",
      "metadata": {
        "id": "mzZYaV4qqtP9"
      },
      "source": [
        "## Arithmetic Operators\n",
        "\n",
        "Python supports all of the arithmetic operators you know and love:\n",
        "- `( )` parentheses\n",
        "- `**` exponents\n",
        "- `*` multiplcation\n",
        "- `/` division\n",
        "- `-` subtraction\n",
        "- `+` addition\n",
        "\n",
        "PEMDAS order of operations"
      ]
    },
    {
      "cell_type": "code",
      "execution_count": null,
      "metadata": {
        "id": "iczkzUhjqtP9",
        "outputId": "5993c7c6-ae65-42f0-d8ec-a8fdf106c809"
      },
      "outputs": [
        {
          "name": "stdout",
          "output_type": "stream",
          "text": [
            "9.0\n"
          ]
        }
      ],
      "source": [
        "val = 6/2*(1+2)\n",
        "print(val)"
      ]
    },
    {
      "cell_type": "code",
      "execution_count": null,
      "metadata": {
        "id": "YYHkS6rOqtP9",
        "outputId": "a1ef0135-2848-44f5-e16d-cb6621739e76"
      },
      "outputs": [
        {
          "name": "stdout",
          "output_type": "stream",
          "text": [
            "64\n"
          ]
        }
      ],
      "source": [
        "val = 2**6\n",
        "print(val)"
      ]
    },
    {
      "cell_type": "markdown",
      "metadata": {
        "id": "rA4lSZiyqtP9"
      },
      "source": [
        "## Review Question (PollEverywhere)\n",
        "\n",
        "Go to pollev.com/moore to submit your answer to this question:\n",
        "\n",
        "What is wrong with the following code:"
      ]
    },
    {
      "cell_type": "code",
      "execution_count": null,
      "metadata": {
        "id": "LIP1MFR4qtP9"
      },
      "outputs": [],
      "source": [
        "# what's wrong with this code?\n",
        "cs65_s0 = 31\n",
        "20 = cs65_s1\n",
        "totalCs65 = cs65_s0 + cs65_s1\n",
        "print(\"Total CS65 students:\", \"totalCs65\")"
      ]
    },
    {
      "cell_type": "markdown",
      "metadata": {
        "id": "bzvP9G31qtP-"
      },
      "source": [
        "# Review Exercise: Let's give it a try\n",
        "\n",
        "1. Open Thonny\n",
        "2. Create a new File\n",
        "3. Save it as `Day03Exercise.py`\n",
        "\n",
        "> You may want to consider putting this into its own folder inside your CS65 folder."
      ]
    },
    {
      "cell_type": "markdown",
      "metadata": {
        "id": "Pp7E18O3qtP-"
      },
      "source": [
        "Create a program that uses a variable and outputs a computation of your choice. Some ideas:\n",
        "- amount of sugar, flour, butter for cookies\n",
        "- BMI calculator\n",
        "- English to metric conversion\n",
        "- Yield on investments\n",
        "- Weight on moon formula\n",
        "\n",
        "Feel free to work with others! I'll leave a few breakout rooms open, if you want to work on your own, say here.\n",
        "\n",
        "Goals:\n",
        "- Get comfortable with Thonny\n",
        "- Make mistakes (and fix them)\n",
        "- Experiment\n",
        "- Have fun!"
      ]
    },
    {
      "cell_type": "markdown",
      "metadata": {
        "id": "sPmXQBo-qtP-"
      },
      "source": [
        "# ✨ New Material"
      ]
    },
    {
      "cell_type": "markdown",
      "metadata": {
        "id": "w1vbuPEvqtP-"
      },
      "source": [
        "# User Input\n",
        "\n",
        "Python provides a function called `input` that gets input from the keyboard.\n",
        "\n",
        "When this function is called, the program _stops and waits_ for the user to type someting.\n",
        "\n",
        "When the user presses `Return` or `Enter`, the program resumes and `input` returns what the user typed as a string."
      ]
    },
    {
      "cell_type": "code",
      "execution_count": null,
      "metadata": {
        "id": "xb0QnaMGqtP-",
        "outputId": "45a0f60c-996d-48c0-dd6f-1a429cd007d3"
      },
      "outputs": [
        {
          "name": "stdout",
          "output_type": "stream",
          "text": [
            "Please enter your first name: Meredith\n",
            "Please enter your last name: Moore\n",
            "Ahoy,  Meredith Moore\n"
          ]
        }
      ],
      "source": [
        "first_name = input(\"Please enter your first name: \")\n",
        "last_name = input(\"Please enter your last name: \")\n",
        "print(\"Ahoy, \", first_name, last_name)"
      ]
    },
    {
      "cell_type": "markdown",
      "metadata": {
        "id": "enaTQSURqtP-"
      },
      "source": [
        "## User Input -- Strings\n",
        "\n",
        "By default, the value of the variable that results from an input statment is a `String`.\n",
        "\n",
        "Strings are very useful, but they are limited in that they only hold a sequence of characters.\n",
        "- As such, you __cannot perform mathematical operations on strings__ or string variables.\n",
        "- if I want the result of the input function to give me a value that I can use in a calculation, I need to convert the string to a numeric format."
      ]
    },
    {
      "cell_type": "markdown",
      "metadata": {
        "id": "tT_FU3kRqtP-"
      },
      "source": [
        "# Numerical Formats:\n",
        "\n",
        "Python has two main forms of numbers:\n",
        "- `int` -- short for integer. these are whole nubmers that are not a fraction.\n",
        "    - examples are 0, 4, 24, -12\n",
        "- `float` -- floats are numbers with a decimal point. Float is short for 'floating-point' numbers.\n",
        "    - examples are 1.3, -34.5, 5.0, 0.0\n"
      ]
    },
    {
      "cell_type": "markdown",
      "metadata": {
        "id": "eNL8KXERqtP_"
      },
      "source": [
        "# This will cause an error... Why?"
      ]
    },
    {
      "cell_type": "code",
      "execution_count": null,
      "metadata": {
        "id": "tpv8sE6XqtP_"
      },
      "outputs": [],
      "source": [
        "num_cookies = input(\"How many cookies would you like to make?\")\n",
        "ratio = num_cookies/48"
      ]
    },
    {
      "cell_type": "markdown",
      "metadata": {
        "id": "0QugfuadqtP_"
      },
      "source": [
        "# `int()` and `float()` for calculations\n",
        "\n",
        "If you expect the user to type an `integer` or `float`, you can try to convert the return value to int using the `int()` or `float()` function:"
      ]
    },
    {
      "cell_type": "code",
      "execution_count": null,
      "metadata": {
        "id": "Prw4GwkQqtP_"
      },
      "outputs": [],
      "source": [
        "num_cookies = int(input(\"how many cookies would you like to make? \"))\n",
        "ratio = num_cookies/48\n",
        "sugar = ratio*1.5\n",
        "print(\"you will need\", sugar, \"cups of sugar.\")"
      ]
    },
    {
      "cell_type": "markdown",
      "metadata": {
        "id": "zuglq82KqtP_"
      },
      "source": [
        "# 💪🏻 Exercise:\n",
        "\n",
        "Update your code from Day01 to allow a user to enter a value into your calculation:"
      ]
    },
    {
      "cell_type": "markdown",
      "metadata": {
        "id": "RGK4YITQqtP_"
      },
      "source": [
        "# Type\n",
        "\n",
        "All __data__ has a __type__ which defines what kind of thing it is and what you can do with it."
      ]
    },
    {
      "cell_type": "code",
      "execution_count": null,
      "metadata": {
        "id": "zFYuo7-8qtP_"
      },
      "outputs": [],
      "source": [
        "num_students = 42 # whole numbers\n",
        "avg_gas_estimate = 2.7 # numbers with decimal point\n",
        "print(\"Hello world!\") # text data (strings)"
      ]
    },
    {
      "cell_type": "markdown",
      "metadata": {
        "id": "iy_DyTOgqtQE"
      },
      "source": [
        "## Type Examples:\n",
        "\n",
        "`integer`: whole numbers\n",
        "- 4, 144, -235"
      ]
    },
    {
      "cell_type": "markdown",
      "metadata": {
        "id": "DiBTV-50qtQE"
      },
      "source": [
        "`floating point`: numbers with decimal points\n",
        "- 2.56, -2.4, 5.0"
      ]
    },
    {
      "cell_type": "markdown",
      "metadata": {
        "id": "BXPUAI39qtQE"
      },
      "source": [
        "`string`: text data\n",
        "- \"Hello wolrd\", \"Nice to meet you\", \"She ate 20 apples\""
      ]
    },
    {
      "cell_type": "markdown",
      "metadata": {
        "id": "OTcqWQ8tqtQF"
      },
      "source": [
        "## The `type()` function\n",
        "\n",
        "Not sure what the type of a variable is? Python provides an easy way to check the type of any variable or expression, it's called `type()`"
      ]
    },
    {
      "cell_type": "code",
      "execution_count": null,
      "metadata": {
        "id": "6OCluJs7qtQF",
        "outputId": "6f395c18-504f-49c0-f67d-97080d8a6718"
      },
      "outputs": [
        {
          "name": "stdout",
          "output_type": "stream",
          "text": [
            "<class 'int'>\n",
            "<class 'float'>\n",
            "<class 'str'>\n"
          ]
        }
      ],
      "source": [
        "num_dogs = 2\n",
        "miles_walked_per_day = 1.5\n",
        "dogs_name = \"Zoey\"\n",
        "\n",
        "print(type(num_dogs))\n",
        "print(type(miles_walked_per_day))\n",
        "print(type(dogs_name))"
      ]
    },
    {
      "cell_type": "markdown",
      "metadata": {
        "id": "gK_EXAuRqtQF"
      },
      "source": [
        "# Intro to REPL\n",
        "\n",
        "A Read-Eval-Print Loop, or __REPL__, is a computer environment where user inputs are read and evaluated, and then the restuls are returned to the user.\n",
        "\n",
        "Demo using Thonny:\n",
        "<div>\n",
        "<img src=\"https://github.com/merriekay/CS65-F23/blob/main/images/day02_repl.png?raw=1\"/ width=600>\n",
        "</div>"
      ]
    },
    {
      "cell_type": "markdown",
      "metadata": {
        "id": "j6Y74jmyqtQF"
      },
      "source": [
        "It can also look like this. Remember though, use the shell as a playground... any code you write here will not be saved.\n",
        "\n",
        "<div>\n",
        "<img src=\"https://github.com/merriekay/CS65-F23/blob/main/images/day02_repl2.png?raw=1\"/ width=300>\n",
        "</div>"
      ]
    },
    {
      "cell_type": "markdown",
      "metadata": {
        "id": "JbyO5xdaqtQF"
      },
      "source": [
        "## What will be output?"
      ]
    },
    {
      "cell_type": "code",
      "execution_count": null,
      "metadata": {
        "id": "HX-8lrnYqtQF"
      },
      "outputs": [],
      "source": [
        "num_students = 42\n",
        "avg_gas_estimate = 3.70\n",
        "print(\"Hello world!\")\n",
        "\n",
        "print(type(2.70))\n",
        "print(type(avg_gas_estimate))\n",
        "print(type(num_students))"
      ]
    },
    {
      "cell_type": "markdown",
      "metadata": {
        "id": "_jpuVvOCqtQG"
      },
      "source": [
        "# Expressions on Strings:\n",
        "\n",
        "We've seen how arithmetic operators work on numerical types like ints and floats.\n",
        "\n",
        "__Strings__ have their own operators too - and some look like arithmetic operators!"
      ]
    },
    {
      "cell_type": "code",
      "execution_count": null,
      "metadata": {
        "id": "Xl2EW3lRqtQG"
      },
      "outputs": [],
      "source": [
        "greeting = \"Hello\"\n",
        "name = \"Professor Moore\"\n",
        "print(greeting + name)\n",
        "\n",
        "# what do you think will happen?"
      ]
    },
    {
      "cell_type": "markdown",
      "metadata": {
        "id": "0TaBbdHfqtQG"
      },
      "source": [
        "## How about this one?"
      ]
    },
    {
      "cell_type": "code",
      "execution_count": null,
      "metadata": {
        "id": "TjCJ0vaYqtQG"
      },
      "outputs": [],
      "source": [
        "greeting = \"Hello\"\n",
        "name = \"Professor Moore\"\n",
        "print(greeting + name)\n",
        "\n",
        "print(greeting - name)"
      ]
    },
    {
      "cell_type": "markdown",
      "metadata": {
        "id": "SeTiWHOWqtQG"
      },
      "source": [
        "## Other Operations:\n",
        "\n",
        "The `len` function will output the number of characters that a string has:"
      ]
    },
    {
      "cell_type": "code",
      "execution_count": null,
      "metadata": {
        "id": "2Ibjr39FqtQG",
        "outputId": "99ffb591-04c3-425b-bd26-feb8177944b3"
      },
      "outputs": [
        {
          "data": {
            "text/plain": [
              "5"
            ]
          },
          "execution_count": 4,
          "metadata": {},
          "output_type": "execute_result"
        }
      ],
      "source": [
        "len(\"Hello\")"
      ]
    },
    {
      "cell_type": "code",
      "execution_count": null,
      "metadata": {
        "id": "LAT8W0moqtQH",
        "outputId": "fb2b1e07-fab8-40b4-fc53-1cc85f3fc62e"
      },
      "outputs": [
        {
          "data": {
            "text/plain": [
              "3"
            ]
          },
          "execution_count": 5,
          "metadata": {},
          "output_type": "execute_result"
        }
      ],
      "source": [
        "len(\"123\")"
      ]
    },
    {
      "cell_type": "code",
      "execution_count": null,
      "metadata": {
        "id": "OLQZUexHqtQH",
        "outputId": "63230665-9fd9-4a42-ea10-84fdcde78a84"
      },
      "outputs": [
        {
          "data": {
            "text/plain": [
              "44"
            ]
          },
          "execution_count": 6,
          "metadata": {},
          "output_type": "execute_result"
        }
      ],
      "source": [
        "len(\"The quick brown fox jumped over the lazy dog\")"
      ]
    },
    {
      "cell_type": "markdown",
      "metadata": {
        "id": "zHgiXqyjqtQH"
      },
      "source": [
        "## What do you think will happen here?"
      ]
    },
    {
      "cell_type": "code",
      "execution_count": null,
      "metadata": {
        "id": "SFOzaxn0qtQH"
      },
      "outputs": [],
      "source": [
        "val = \"32\"\n",
        "print( type(val) )\n",
        "print( type(len(val)) )"
      ]
    },
    {
      "cell_type": "markdown",
      "metadata": {
        "id": "nZYGzVtIqtQH"
      },
      "source": [
        "# Other Types\n",
        "\n",
        "There are several other built-in types that we'll hear morea bout later like:\n",
        "- `Boolean`: can have one of two values-- `True` or `False`\n",
        "- `List`: for keeping track of a sequence of values"
      ]
    },
    {
      "cell_type": "code",
      "execution_count": null,
      "metadata": {
        "id": "gmPiZb_AqtQH",
        "outputId": "4ababf9e-2c0e-4462-fc30-ccabc26bb7b5"
      },
      "outputs": [
        {
          "name": "stdout",
          "output_type": "stream",
          "text": [
            "<class 'bool'>\n",
            "<class 'list'>\n"
          ]
        }
      ],
      "source": [
        "print( type(False) )\n",
        "print( type([1,2,3]) )"
      ]
    },
    {
      "cell_type": "markdown",
      "metadata": {
        "id": "ZGwMBMoNqtQI"
      },
      "source": [
        "# Let's build a temperature converter!\n",
        "\n",
        "The formula for converting Fahrenheit temperatures to Celsius is:\n",
        "\n",
        "$ C = (F - 32) * \\frac{5}{9} $"
      ]
    },
    {
      "cell_type": "markdown",
      "metadata": {
        "id": "p5J1USPRqtQI"
      },
      "source": [
        "# Exercise #1:\n",
        "\n",
        "Create a file called `Temperature.py`\n",
        "\n",
        "Type in the following code:"
      ]
    },
    {
      "cell_type": "code",
      "execution_count": null,
      "metadata": {
        "id": "c65cLqtsqtQI"
      },
      "outputs": [],
      "source": [
        "fahrenheit_temp = input(\"Enter the temperature in Fahrenheit \")\n",
        "celsius_temp = (fahrenheit_temp - 32) * (5/9)\n",
        "print(\"That's\", celcius_temp, \"in Celsius\")"
      ]
    },
    {
      "cell_type": "markdown",
      "metadata": {
        "id": "doMuAIBjqtQI"
      },
      "source": [
        "Will it work? Why or why not?"
      ]
    },
    {
      "cell_type": "markdown",
      "metadata": {
        "id": "X8-2XZCHqtQI"
      },
      "source": [
        "# Converting a string to an integer\n",
        "\n",
        "Forunately, there's a built-in function we can use to convert something to an integer:\n",
        "- `int()`"
      ]
    },
    {
      "cell_type": "markdown",
      "metadata": {
        "id": "h6kZFip7qtQI"
      },
      "source": [
        "## TemperatureConverterTry2.py"
      ]
    },
    {
      "cell_type": "code",
      "execution_count": null,
      "metadata": {
        "id": "gBy6uRB9qtQI",
        "outputId": "441baaf7-2608-4eb6-e467-ba2b74b7cf3f"
      },
      "outputs": [
        {
          "name": "stdout",
          "output_type": "stream",
          "text": [
            "Enter the temperature in Fahrenheit 75\n",
            "That's 23.88888888888889 in Celsius\n"
          ]
        }
      ],
      "source": [
        "fahrenheit_temp_str = input(\"Enter the temperature in Fahrenheit \")\n",
        "fahrenheit_temp_int = int(fahrenheit_temp_str)\n",
        "\n",
        "celsius_temp = (fahrenheit_temp_int - 32) * (5/9)\n",
        "print(\"That's\", celsius_temp, \"in Celsius\")"
      ]
    },
    {
      "cell_type": "markdown",
      "metadata": {
        "id": "Nf6LUxJCqtQJ"
      },
      "source": [
        "or... you can do it in one step:"
      ]
    },
    {
      "cell_type": "code",
      "execution_count": null,
      "metadata": {
        "id": "-UlBNf3AqtQJ",
        "outputId": "be9c5663-a3e9-4cc0-8da5-10585666c943"
      },
      "outputs": [
        {
          "name": "stdout",
          "output_type": "stream",
          "text": [
            "Enter the temperature in Fahrenheit 75\n",
            "That's 23.88888888888889 in Celsius\n"
          ]
        }
      ],
      "source": [
        "fahrenheit_temp = int(input(\"Enter the temperature in Fahrenheit \"))\n",
        "celsius_temp = (fahrenheit_temp - 32) * (5/9)\n",
        "print(\"That's\", celsius_temp, \"in Celsius\")"
      ]
    },
    {
      "cell_type": "markdown",
      "metadata": {
        "id": "-oJCMcqOqtQJ"
      },
      "source": [
        "## A Tricky Question:\n",
        "\n",
        "What would happen if the user typed a floating-point value like 72.5?"
      ]
    },
    {
      "cell_type": "code",
      "execution_count": null,
      "metadata": {
        "id": "sJxjC_VJqtQJ"
      },
      "outputs": [],
      "source": [
        "fahrenheit_temp_str = int(input(\"Enter the temperature in Fahrenheit \"))\n",
        "fahrenheit_temp_int = int(fahrenheit_temp_str)\n",
        "celsius_temp = (fahrenheit_temp_int - 32) * (5/9)\n",
        "print(\"That's\", celsius_temp, \"in Celsius\")"
      ]
    },
    {
      "cell_type": "markdown",
      "metadata": {
        "id": "2WwrM4dBqtQJ"
      },
      "source": [
        "## Other Type Conversion Functions\n",
        "\n",
        "Convert to a floating-point types with `float()`\n",
        "\n",
        "Convert to a string with `str()`"
      ]
    },
    {
      "cell_type": "code",
      "execution_count": null,
      "metadata": {
        "id": "dQ7oh0J4qtQJ",
        "outputId": "20ee4e55-2eb2-47b1-f4f8-468c5f8bf080"
      },
      "outputs": [
        {
          "name": "stdout",
          "output_type": "stream",
          "text": [
            "Enter the temperature in Fahrenheit 72.5\n",
            "That's 22.22222222222222 in Celsius\n"
          ]
        }
      ],
      "source": [
        "fahrenheit_temp_str = float(input(\"Enter the temperature in Fahrenheit \"))\n",
        "fahrenheit_temp_int = int(fahrenheit_temp_str)\n",
        "celsius_temp = (fahrenheit_temp_int - 32) * (5/9)\n",
        "print(\"That's\", celsius_temp, \"in Celsius\")"
      ]
    },
    {
      "cell_type": "markdown",
      "metadata": {
        "id": "jKBUzBrUqtQK"
      },
      "source": [
        "<div>\n",
        "<img src=\"https://github.com/merriekay/CS65-F23/blob/main/images/day02_type_conversion.png?raw=1\"/ width=800>\n",
        "</div>"
      ]
    },
    {
      "cell_type": "markdown",
      "metadata": {
        "id": "uvTxEMmLqtQK"
      },
      "source": [
        "## Let's try something else:"
      ]
    },
    {
      "cell_type": "code",
      "execution_count": null,
      "metadata": {
        "id": "AU61M37OqtQK"
      },
      "outputs": [],
      "source": [
        "target_number = 42\n",
        "# the code below will break, any ideas why?\n",
        "user_input = int(input(\"please enter a number larger than\", target_number))"
      ]
    },
    {
      "cell_type": "code",
      "execution_count": null,
      "metadata": {
        "id": "9PSrgVenqtQK",
        "outputId": "3bc3646f-44f2-49e5-e621-981761d9144d"
      },
      "outputs": [
        {
          "name": "stdout",
          "output_type": "stream",
          "text": [
            "Enter a number greater than 4249\n"
          ]
        }
      ],
      "source": [
        "target_number - 42\n",
        "\n",
        "user_input = int(input(\"Enter a number greater than \" + str(target_number)))"
      ]
    },
    {
      "cell_type": "markdown",
      "metadata": {
        "id": "uYiNmovOkfUg"
      },
      "source": [
        "## Abstraction: Big idea in computer science"
      ]
    },
    {
      "cell_type": "markdown",
      "metadata": {
        "id": "qYDMNpjHkfUg"
      },
      "source": [
        "<center>\n",
        "<div>\n",
        "<img src=\"https://github.com/merriekay/CS65-F23/blob/main/images/day02_abstraction.jpg?raw=1\" width=\"600\"/>\n",
        "</div>\n",
        "</center>\n"
      ]
    },
    {
      "cell_type": "markdown",
      "metadata": {
        "id": "yEOUa5TwkfUh"
      },
      "source": [
        "You don't have to know how to farm to be a chef - they work at different levels of abstraction in food production.\n",
        "\n",
        "In computer science, you build bigger, more complex things by using the building blocks others (or you) have provided.\n",
        "\n",
        "chef image credit: https://www.flickr.com/photos/nestle/3885866873"
      ]
    },
    {
      "cell_type": "markdown",
      "metadata": {
        "id": "ZR_5IoewkfUh"
      },
      "source": [
        "## Abstraction examples we've already seen\n",
        "\n",
        "We've already used several built-in _functions_ in this class: `print()`, `input()`, `type()`, `int()`, `float()`, `str()`\n",
        "* A function is an abstraction tool\n",
        "* We don't have to understand how they work in order to use them"
      ]
    },
    {
      "cell_type": "code",
      "execution_count": null,
      "metadata": {
        "id": "cN_ZTbfhkfUh",
        "outputId": "2b28a44e-7156-4a4d-9159-e8564252289a"
      },
      "outputs": [
        {
          "name": "stdout",
          "output_type": "stream",
          "text": [
            "Enter your name Meredith\n",
            "Hello Meredith\n"
          ]
        }
      ],
      "source": [
        "name = input(\"Enter your name \")\n",
        "print(\"Hello\",name)"
      ]
    },
    {
      "cell_type": "markdown",
      "metadata": {
        "id": "rwoY_DRVkfUh"
      },
      "source": [
        "`input(\"Enter your name \")` and `print(\"Hello\",name)` are __function calls__\n",
        "\n",
        "Anything you put in the parentheses, like `\"Enter your name \"`, `\"Hello\"`, and `name` are _arguments_ which are passed to the function\n",
        "\n",
        "Functions do/execute/compute something based on the arguments"
      ]
    },
    {
      "cell_type": "markdown",
      "metadata": {
        "id": "SCDKymzHkfUh"
      },
      "source": [
        "## Functions that aren't built-in\n",
        "\n",
        "One of the things that makes Python such a great language is that there are many functions you can use that aren't built in.\n",
        "\n",
        "They're written by other programmers and made available to you.\n",
        "\n",
        "In order to use them, you need an `import` statement.\n",
        "\n",
        "Something you import this way is called a __module__.\n",
        "\n",
        "When running a function from a module, you usually use the __dot notation__."
      ]
    },
    {
      "cell_type": "code",
      "execution_count": null,
      "metadata": {
        "id": "8CJon-SFkfUi",
        "outputId": "2b81023c-def4-485b-9b7a-371addccf413"
      },
      "outputs": [
        {
          "name": "stdout",
          "output_type": "stream",
          "text": [
            "100\n"
          ]
        }
      ],
      "source": [
        "import random\n",
        "print( random.randint(1,100) )"
      ]
    },
    {
      "cell_type": "markdown",
      "metadata": {
        "id": "_QZVC7b7kfUi"
      },
      "source": [
        "In `random.randint(1,100)`, `random` is the name of the module and `randint` is the name of the function we want to use from that module. `1` and `100` are __arguments__ we pass to the function that tell it what range of numbers we want our random number to be in."
      ]
    },
    {
      "cell_type": "code",
      "execution_count": null,
      "metadata": {
        "id": "mnZj5GDZkfUi",
        "outputId": "7f1f5b7a-1c18-4bda-c226-ad4c4c39927d"
      },
      "outputs": [
        {
          "name": "stdout",
          "output_type": "stream",
          "text": [
            "2022-09-12 11:56:00.648897\n"
          ]
        }
      ],
      "source": [
        "import datetime\n",
        "print( datetime.datetime.now() )"
      ]
    },
    {
      "cell_type": "markdown",
      "metadata": {
        "id": "dFAiT9P_kfUi"
      },
      "source": [
        "Notice that this uses two dots - in this case, the pattern is `modulename.typename.functionname` becaise the `datetime` modules contains many different types, and those types each support different functions.\n",
        "\n",
        "Different modules are set up to be used in slightly different ways."
      ]
    },
    {
      "cell_type": "markdown",
      "metadata": {
        "id": "7QIBob84kfUj"
      },
      "source": [
        "How do you know how to use a module?"
      ]
    },
    {
      "cell_type": "markdown",
      "metadata": {
        "id": "cDtlP4_gkfUj"
      },
      "source": [
        "Find the documentation for it on the web!\n",
        "\n",
        "https://docs.python.org/3/library/datetime.html"
      ]
    },
    {
      "cell_type": "code",
      "execution_count": null,
      "metadata": {
        "hideCode": true,
        "id": "vsPKFiTEkfUj",
        "outputId": "9ab206de-4d68-4db7-e844-822e13602f5d"
      },
      "outputs": [
        {
          "data": {
            "text/html": [
              "\n",
              "        <iframe\n",
              "            width=\"900\"\n",
              "            height=\"450\"\n",
              "            src=\"https://docs.python.org/3/library/datetime.html\"\n",
              "            frameborder=\"0\"\n",
              "            allowfullscreen\n",
              "        ></iframe>\n",
              "        "
            ],
            "text/plain": [
              "<IPython.lib.display.IFrame at 0x7f7e517075b0>"
            ]
          },
          "execution_count": 19,
          "metadata": {},
          "output_type": "execute_result"
        }
      ],
      "source": [
        "from IPython.display import IFrame\n",
        "IFrame('https://docs.python.org/3/library/datetime.html',width=900,height=450)"
      ]
    },
    {
      "cell_type": "markdown",
      "metadata": {
        "id": "_8pTeffbkfUj"
      },
      "source": [
        "https://docs.python.org/3/library/random.html"
      ]
    },
    {
      "cell_type": "code",
      "execution_count": null,
      "metadata": {
        "hideCode": true,
        "id": "KVLk0VP3kfUj",
        "outputId": "f7876282-1c9d-4850-a869-a515b3c604e8"
      },
      "outputs": [
        {
          "data": {
            "text/html": [
              "\n",
              "        <iframe\n",
              "            width=\"900\"\n",
              "            height=\"450\"\n",
              "            src=\"https://docs.python.org/3/library/random.html\"\n",
              "            frameborder=\"0\"\n",
              "            allowfullscreen\n",
              "        ></iframe>\n",
              "        "
            ],
            "text/plain": [
              "<IPython.lib.display.IFrame at 0x7f7e51707a90>"
            ]
          },
          "execution_count": 18,
          "metadata": {},
          "output_type": "execute_result"
        }
      ],
      "source": [
        "from IPython.display import IFrame\n",
        "IFrame('https://docs.python.org/3/library/random.html',width=900,height=450)"
      ]
    },
    {
      "cell_type": "markdown",
      "metadata": {
        "id": "p_2Xj2pUkfUj"
      },
      "source": [
        "## Modules can provide new functions and new types"
      ]
    },
    {
      "cell_type": "code",
      "execution_count": null,
      "metadata": {
        "id": "4hxza9txkfUk",
        "outputId": "8c64b16c-2d49-4d29-d150-22b8c1e7ec5a"
      },
      "outputs": [
        {
          "data": {
            "text/plain": [
              "module"
            ]
          },
          "execution_count": 47,
          "metadata": {},
          "output_type": "execute_result"
        }
      ],
      "source": [
        "type(datetime)"
      ]
    },
    {
      "cell_type": "code",
      "execution_count": null,
      "metadata": {
        "id": "eNajlXkfkfUk",
        "outputId": "de5eef3a-90a9-437a-a585-8a683bf1a926"
      },
      "outputs": [
        {
          "data": {
            "text/plain": [
              "type"
            ]
          },
          "execution_count": 48,
          "metadata": {},
          "output_type": "execute_result"
        }
      ],
      "source": [
        "type(datetime.datetime)"
      ]
    },
    {
      "cell_type": "code",
      "execution_count": null,
      "metadata": {
        "id": "GOlzkFBlkfUk",
        "outputId": "71f65c02-70ab-4dcb-e5d6-00dc622be318"
      },
      "outputs": [
        {
          "data": {
            "text/plain": [
              "datetime.datetime"
            ]
          },
          "execution_count": 49,
          "metadata": {},
          "output_type": "execute_result"
        }
      ],
      "source": [
        "current = datetime.datetime.now()\n",
        "type(current)"
      ]
    },
    {
      "cell_type": "markdown",
      "metadata": {
        "id": "9U1zsCgZkfUk"
      },
      "source": [
        "https://xkcd.com/353/\n",
        "\n",
        "\n",
        "![an xkcd comic about Python](https://imgs.xkcd.com/comics/python.png \"Python xkcd\")"
      ]
    },
    {
      "cell_type": "code",
      "execution_count": null,
      "metadata": {
        "id": "0C68w_X5qtQO"
      },
      "outputs": [],
      "source": []
    }
  ],
  "metadata": {
    "celltoolbar": "Slideshow",
    "kernelspec": {
      "display_name": "Python 3 (ipykernel)",
      "language": "python",
      "name": "python3"
    },
    "language_info": {
      "codemirror_mode": {
        "name": "ipython",
        "version": 3
      },
      "file_extension": ".py",
      "mimetype": "text/x-python",
      "name": "python",
      "nbconvert_exporter": "python",
      "pygments_lexer": "ipython3",
      "version": "3.11.4"
    },
    "colab": {
      "provenance": [],
      "include_colab_link": true
    }
  },
  "nbformat": 4,
  "nbformat_minor": 0
}