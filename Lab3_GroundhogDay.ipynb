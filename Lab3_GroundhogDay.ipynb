{
 "cells": [
  {
   "cell_type": "markdown",
   "metadata": {},
   "source": [
    "# Lab #3: Groundhog Day\n",
    "\n",
    "__Due:__ Monday, September 18th by 11:59pm.\n",
    "\n",
    "__Total Points:__ 4\n",
    "\n",
    "CS65 | Fall 2023"
   ]
  },
  {
   "cell_type": "markdown",
   "metadata": {},
   "source": [
    "In this lab, you'll experiment with the floor division (`//`) and modulo (`%`) operators. You'll also practice\n",
    "writing conditional statements with `if` and `if-else` patterns.\n",
    "\n",
    "In Thonny, craet a file called `Lab3Exercises.py`\n",
    "\n",
    "## Exercise #1:\n",
    "Type this code in and try several inputs to confirm that it works as you expect it to."
   ]
  },
  {
   "cell_type": "code",
   "execution_count": null,
   "metadata": {
    "scrolled": true
   },
   "outputs": [],
   "source": [
    "num = int(input(\"Enter your favorite integer: \"))\n",
    "\n",
    "if num % 2 == 0:\n",
    "    print(num, \"is even\")\n",
    "else:\n",
    "    print(num, \"is odd\")"
   ]
  },
  {
   "cell_type": "markdown",
   "metadata": {},
   "source": [
    "## Exercise #2:\n",
    "Replace the `==` in the above code with `=` and run it again. Answer the following questions (for\n",
    "your notes):\n",
    "- What kind of error does this give you? Why do you think Python gives that error?\n",
    "- What is the difference between `==` and `=`?"
   ]
  },
  {
   "cell_type": "markdown",
   "metadata": {},
   "source": [
    "## Exercise #3\n",
    "\n",
    "The date July 3, 2021 is a _magic_ date because, when written in this format: 7/3/21, the month\n",
    "times the day equals the two-digit year: $7∗3=21$. \n",
    "\n",
    "Write a program that asks the user to enter a month, a day, and a two-digit year and displays whether or not that date is magic. It should work like this:"
   ]
  },
  {
   "cell_type": "code",
   "execution_count": 3,
   "metadata": {},
   "outputs": [
    {
     "name": "stdout",
     "output_type": "stream",
     "text": [
      "Enter a number for a month (1-12): 7\n",
      "Enter a number for a day (1-31): 3\n",
      "Enter a two-digit year): 21\n",
      "That is a magic date!\n"
     ]
    }
   ],
   "source": [
    "#your output should look something like this:"
   ]
  },
  {
   "cell_type": "code",
   "execution_count": 4,
   "metadata": {},
   "outputs": [
    {
     "name": "stdout",
     "output_type": "stream",
     "text": [
      "Enter a number for a month (1-12): 5\n",
      "Enter a number for a day (1-31): 3\n",
      "Enter a two-digit year): 18\n",
      "That is not a magic date.\n"
     ]
    }
   ],
   "source": [
    "#your output should look something like this:"
   ]
  },
  {
   "cell_type": "markdown",
   "metadata": {},
   "source": [
    "## Exercise 4: \n",
    "\n",
    "You can include conditional statements inside of other conditional statements like in the example below. This is called a __nested conditional__ statement because one of the conditional statements is _nested_ inside the other.\n",
    "\n",
    "Type in this code and run it with different inputs. Would could you do if you wanted it to be able to tell you whether or not a number is even _and_ divisible by 3?"
   ]
  },
  {
   "cell_type": "code",
   "execution_count": 6,
   "metadata": {},
   "outputs": [
    {
     "name": "stdout",
     "output_type": "stream",
     "text": [
      "please enter an integer: 3\n",
      "3 is odd and divisible by 3\n"
     ]
    }
   ],
   "source": [
    "#enter an integer\n",
    "num = int(input(\"please enter an integer: \"))\n",
    "\n",
    "# this code checks if a number is dividual by both 2 and 3:\n",
    "if num %2 == 0:\n",
    "    print(num, \"is even\")\n",
    "else:\n",
    "    if num % 3 == 0:\n",
    "        print(num, \"is odd and divisible by 3\")\n",
    "    else:\n",
    "        print(num, \"is odd and not divisible by 3\")"
   ]
  },
  {
   "cell_type": "markdown",
   "metadata": {},
   "source": [
    "__Create a new file called `Lab3.py`__"
   ]
  },
  {
   "cell_type": "markdown",
   "metadata": {},
   "source": [
    "# Challenge Exercise:\n",
    "\n",
    "If you grew up in America, you likely are familiar with the Groundhog day (February 2nd) fable in which\n",
    "if a groundhog emerges from its burrow on February 2nd and sees his shadow, it indicates that it will\n",
    "return to its den which forecasts 6 more weeks of winter. However, if the groundhog does not see its\n",
    "shadow, spring will arrive early. This, of course, is not true.\n",
    "\n",
    "(_Disclaimer: the following is also not true, but it makes for a nice exercise involving the concepts we’ve\n",
    "covered so far_)\n",
    "\n",
    "A team a data scientists have analyzed the weather patterns on February 2nd and found a more reliable\n",
    "forecasting method for Groundhog Day:\n",
    "\n",
    "Given the calendar year (e.g. 2023) and the temperature (in Fahrenheit) at dawn on February 2nd, the following conditions predict the length of the remainder of the winter:\n",
    "\n",
    "- If the calendar year is __even__ (e.g. $2024$) then check the temperature\n",
    "    - If the temperature at dawn is less than or equal to $32$, then “six more weeks of winter”\n",
    "    - If the temperature at dawn is greater than $32$, then “early spring”\n",
    "- However, if the calendar year is __odd__ (e.g. $2023$) then check the temperature\n",
    "    - if the temperater at dawn is a multiple of 3 (remainder is 0 when dividing the tempterature by 3) then there will be \"eight more weeks of winter\"\n",
    "    - otherwise, if the tempterature at dawn is not a multiple of 3, then just \"three more weeks of winter\". \n",
    "    \n",
    "Write your program that will prompt the user for the year and temperature. The output should be consistent with the algorithm depicted above. Here are some sample outputs:"
   ]
  },
  {
   "cell_type": "code",
   "execution_count": 7,
   "metadata": {},
   "outputs": [
    {
     "name": "stdout",
     "output_type": "stream",
     "text": [
      "Enter a year: 2023\n",
      "Enter the temperature: 32\n",
      "three more weeks of winter\n"
     ]
    }
   ],
   "source": [
    "# output example #1"
   ]
  },
  {
   "cell_type": "code",
   "execution_count": 8,
   "metadata": {},
   "outputs": [
    {
     "name": "stdout",
     "output_type": "stream",
     "text": [
      "Enter a year: 2021\n",
      "Enter the temperature: 30\n",
      "eight more weeks of winter\n"
     ]
    }
   ],
   "source": [
    "# output example #2"
   ]
  },
  {
   "cell_type": "code",
   "execution_count": 9,
   "metadata": {},
   "outputs": [
    {
     "name": "stdout",
     "output_type": "stream",
     "text": [
      "Enter a year: 2024\n",
      "Enter the temperature: 32\n",
      "six more weeks of winter\n"
     ]
    }
   ],
   "source": [
    "# output example #3"
   ]
  },
  {
   "cell_type": "code",
   "execution_count": 10,
   "metadata": {},
   "outputs": [
    {
     "name": "stdout",
     "output_type": "stream",
     "text": [
      "Enter a year: 2026\n",
      "Enter the temperature: 33\n",
      "early spring\n"
     ]
    }
   ],
   "source": [
    "# output example #4"
   ]
  },
  {
   "cell_type": "markdown",
   "metadata": {},
   "source": [
    "When you are finished, submit your solution to the __Lab 3: Groundhog Day__ assignment on codePost. This\n",
    "problem will be auto-graded, and it will be checking that your output matches the sample above exactly.\n",
    "\n",
    "So, if you think your solution is correct, but codePost doesn't give you the points, check the messages it is\n",
    "giving you - there may be a difference in spelling, punctuation, etc."
   ]
  }
 ],
 "metadata": {
  "kernelspec": {
   "display_name": "Python 3 (ipykernel)",
   "language": "python",
   "name": "python3"
  },
  "language_info": {
   "codemirror_mode": {
    "name": "ipython",
    "version": 3
   },
   "file_extension": ".py",
   "mimetype": "text/x-python",
   "name": "python",
   "nbconvert_exporter": "python",
   "pygments_lexer": "ipython3",
   "version": "3.11.4"
  }
 },
 "nbformat": 4,
 "nbformat_minor": 4
}
