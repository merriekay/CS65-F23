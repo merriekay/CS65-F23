{
  "cells": [
    {
      "cell_type": "markdown",
      "metadata": {
        "id": "view-in-github",
        "colab_type": "text"
      },
      "source": [
        "<a href=\"https://colab.research.google.com/github/merriekay/CS65-F23/blob/main/Day05%20Division%20Operators.ipynb\" target=\"_parent\"><img src=\"https://colab.research.google.com/assets/colab-badge.svg\" alt=\"Open In Colab\"/></a>"
      ]
    },
    {
      "cell_type": "markdown",
      "metadata": {
        "id": "r2pF8fT0ndIC"
      },
      "source": [
        "# CS65: Day 05\n",
        "## Division Operators\n",
        "\n",
        "####  CS65: Introduction to Computer Science I | Fall 2023\n",
        "\n",
        "Wednesday, September 13th, 2023\n",
        "\n",
        " 📜 [Syllabus](https://docs.google.com/document/d/1JTRJ-22abpu3HNhHzE2NaGfstNrrBav1MSQcLIMBWe4/edit?usp=sharing) | 📬 [CodePost Login](https://codepost.io/login) | 📆 [Schedule](https://docs.google.com/spreadsheets/d/e/2PACX-1vS51v65qE22qEyhLTF_q5sF_4Nu1GhWU4mDgfsF7NY8Yrjl5-ismCyXjHiR4Fuxqd1cJ9dY5l55CcV0/pubhtml?gid=0&single=true) | 🙋 [Polleverywhere](https://pollev.com/moore) | 🪴 [Office Hour Sign Up](https://calendly.com/meredith-moore/office-hours)"
      ]
    },
    {
      "cell_type": "markdown",
      "metadata": {
        "id": "vylMJ9LPndIE"
      },
      "source": [
        "> Note to self: Make sure you're recording 🎥"
      ]
    },
    {
      "cell_type": "markdown",
      "metadata": {
        "id": "yXlQ2YB8ndIF"
      },
      "source": [
        "# Admin Stuff"
      ]
    },
    {
      "cell_type": "markdown",
      "metadata": {
        "id": "Fq4cJ1bDndIF"
      },
      "source": [
        "You should be working on:\n",
        "- [Lab #3](https://analytics.drake.edu/~moore/CS65-F23/Lab3.html) is released today, due Monday 9/18 by 11:59pm."
      ]
    },
    {
      "cell_type": "markdown",
      "metadata": {
        "id": "W74yYHayndIF"
      },
      "source": [
        "# ⏪ Quick Review:"
      ]
    },
    {
      "cell_type": "markdown",
      "metadata": {
        "id": "uYiNmovOkfUg"
      },
      "source": [
        "## Abstraction: Big idea in computer science"
      ]
    },
    {
      "cell_type": "markdown",
      "metadata": {
        "id": "qYDMNpjHkfUg"
      },
      "source": [
        "<center>\n",
        "<div>\n",
        "<img src=\"https://github.com/merriekay/CS65-F23/blob/main/images/day02_abstraction.jpg?raw=1\" width=\"600\"/>\n",
        "</div>\n",
        "</center>\n"
      ]
    },
    {
      "cell_type": "markdown",
      "metadata": {
        "id": "yEOUa5TwkfUh"
      },
      "source": [
        "You don't have to know how to farm to be a chef - they work at different levels of abstraction in food production.\n",
        "\n",
        "In computer science, you build bigger, more complex things by using the building blocks others (or you) have provided.\n",
        "\n",
        "chef image credit: https://www.flickr.com/photos/nestle/3885866873"
      ]
    },
    {
      "cell_type": "markdown",
      "metadata": {
        "id": "ptKJFk36ndIG"
      },
      "source": [
        "## Syntax for `if` statements\n",
        "\n",
        "* keyword `if`\n",
        "* a condition\n",
        "* colon `:`\n",
        "* indented _block_ of code"
      ]
    },
    {
      "cell_type": "code",
      "execution_count": null,
      "metadata": {
        "scrolled": true,
        "id": "qUH4Hs4GndIG"
      },
      "outputs": [],
      "source": [
        "total_bill = 35.63\n",
        "age = float(input(\"What is your age? \"))\n",
        "\n",
        "if age > 65:\n",
        "    # notice the 'if' keyword and the colon ':'\n",
        "    print(\"Applying 10% senior discount\")\n",
        "    total_bill = total_bill * 0.9\n",
        "    #any indented code is only runs\n",
        "    #when the condition is True\n",
        "\n",
        "#un-indented code runs no matter what\n",
        "print(\"Your total bill is\", total_bill)"
      ]
    },
    {
      "cell_type": "markdown",
      "metadata": {
        "id": "a7fV9u72ndIH"
      },
      "source": [
        "But, sometimes you need more than just an `if` statement:\n",
        "\n",
        "## Syntax for `if-else` statements\n",
        "\n",
        "* keyword `if`\n",
        "* a condition\n",
        "* colon `:`\n",
        "* indented block of code\n",
        "* keyword `else`\n",
        "* colon `:`\n",
        "* indented block of code"
      ]
    },
    {
      "cell_type": "code",
      "execution_count": null,
      "metadata": {
        "id": "rZat83ALndII"
      },
      "outputs": [],
      "source": [
        "#if-else example\n",
        "height = float(input(\"Enter your height in inches: \"))\n",
        "\n",
        "if height < 60: # notice the 'if' keyword and the colon ':'\n",
        "    print(\"You are not tall enough for this ride.\")\n",
        "    #indented block of code that runs if the condition is true\n",
        "\n",
        "else: # notice the 'else' keyword and the colon ':'\n",
        "    print(\"You are tall enough for this ride.\")\n",
        "    #indented block of code that runs if the condition is not true\n",
        "\n",
        "print(\"Have fun!\")\n",
        "#notice that the 'if' and 'else' clauses match indentation"
      ]
    },
    {
      "cell_type": "markdown",
      "metadata": {
        "id": "kWhCxwbUndII"
      },
      "source": [
        "## Boolean type\n",
        "\n",
        "The __Boolean__ type has two possible values: `True` and `False`\n",
        "\n",
        "`type()` of a Boolean variable will read as `bool`\n"
      ]
    },
    {
      "cell_type": "code",
      "execution_count": null,
      "metadata": {
        "id": "sFk3UcufndII"
      },
      "outputs": [],
      "source": [
        "bool_variable = (48 > 60) # False\n",
        "\n",
        "if bool_variable:\n",
        "    print(\"The condition is True!\")\n",
        "else:\n",
        "    print(\"The condition is False\")"
      ]
    },
    {
      "cell_type": "markdown",
      "metadata": {
        "id": "Y2TgkLUEndII"
      },
      "source": [
        "## Some Boolean operators\n",
        "\n",
        "* `<` less than\n",
        "* `>` greater than\n",
        "* `<=` less than or equal\n",
        "    - note there is no $\\leq$ button on your keyboard\n",
        "* `>=` greater than or equal\n",
        "* `==` equal (comparison)\n",
        "    - note that `=` is used for assignment, they're different operators, don't confuse them!\n",
        "* `!=` not equal"
      ]
    },
    {
      "cell_type": "markdown",
      "metadata": {
        "id": "34_JMSHqndII"
      },
      "source": [
        "# The `if`-`elif`-`else` statement\n",
        "\n",
        "`if`-`elif`-`else`: special version of a decision structure--makes logic of nested decision structures simpler to write.\n",
        "\n",
        "You can include multiple `elif` statements:\n",
        "\n",
        "Syntax:\n",
        "\n",
        "__`if`__ `condition1`: <br>\n",
        "    - `statements`\n",
        "    \n",
        "__`elif`__ `condition2`: <br>\n",
        "    - `statements`\n",
        "    \n",
        "__`else`__: <br>\n",
        "    - `statements`"
      ]
    },
    {
      "cell_type": "code",
      "execution_count": null,
      "metadata": {
        "id": "_sR6QIthndII"
      },
      "outputs": [],
      "source": [
        "score = int(input('Enter your score:'))\n",
        "\n",
        "if score >=90:\n",
        "    print(\"your earned an A\")\n",
        "elif score >=80:\n",
        "    print(\"your earned a B\")\n",
        "elif score >=70:\n",
        "    print(\"your earned a C\")\n",
        "elif score >=60:\n",
        "    print(\"your earned a D\")\n",
        "else:\n",
        "    print(\"your earned an F\")\n",
        "\n",
        "print(\"Good work!\")"
      ]
    },
    {
      "cell_type": "markdown",
      "metadata": {
        "id": "YrQuhVCvndIJ"
      },
      "source": [
        "# ✨ New Material"
      ]
    },
    {
      "cell_type": "markdown",
      "metadata": {
        "id": "vPYo0HtqndIJ"
      },
      "source": [
        "# Accumulator Operator:\n",
        "\n",
        "A common task in computer science is to update the value of a variable by 1.\n",
        "\n",
        "Python provides an operator to do just that: `+=`\n",
        "\n",
        "This is often referred to as an __accumulator operator__.\n",
        "\n",
        "The following two expressions do the same thing (they assign x the value of x + 1)"
      ]
    },
    {
      "cell_type": "code",
      "execution_count": null,
      "metadata": {
        "id": "6__-u5UrndIJ"
      },
      "outputs": [],
      "source": [
        "x = 0 # start with x = 0\n",
        "\n",
        "x = x + 1\n",
        "print(x)\n",
        "\n",
        "x += 5 # x = x + 5\n",
        "print(x)"
      ]
    },
    {
      "cell_type": "markdown",
      "metadata": {
        "id": "UcIgJC12ndIJ"
      },
      "source": [
        "## Other Assignment Operators:\n",
        "Python has a built in operator pattern (`+=`, `-=`, `*=`, `/=`) that takes the value of a variable and changes it by adding, subtracting, mulitplying, or dividing the variable by whatever value follows the operator."
      ]
    },
    {
      "cell_type": "code",
      "execution_count": null,
      "metadata": {
        "id": "PKApYPNandIJ"
      },
      "outputs": [],
      "source": [
        "x = 5\n",
        "print(x)\n",
        "\n",
        "x += 5  # x = x + 5 -- 5 + 5 = 10\n",
        "print(x)\n",
        "\n",
        "x *= 10 # x = x*10 -- 10*10 = 100\n",
        "print(x)\n",
        "\n",
        "x /= 10 # x = x / 10 -- 100/10 = 10\n",
        "print(x)\n",
        "\n",
        "x -= 5  # x = x - 5 -- 10-5 = 5\n",
        "print(x)"
      ]
    },
    {
      "cell_type": "markdown",
      "metadata": {
        "id": "jG7DZvKKndIJ"
      },
      "source": [
        "# Let's test our understanding:\n",
        "\n",
        "Re-write the following expressions using the assignment operators we just learned about:\n",
        "1. `x = x + 7`\n",
        "\n",
        "2. `x = x * 5`\n",
        "\n",
        "    \n",
        "3. `x = x / 10`\n",
        "\n",
        "    \n",
        "4. `x = x - 2`\n",
        "\n",
        "    "
      ]
    },
    {
      "cell_type": "markdown",
      "metadata": {
        "id": "1vdTKoNhndIK"
      },
      "source": [
        "# Special Characters in Strings:\n",
        "\n",
        "There are a few special characters that can be included in strings worth mentioning:\n",
        "- `\\n`: this will add a 'newline' to whatever text you want to print:"
      ]
    },
    {
      "cell_type": "code",
      "execution_count": null,
      "metadata": {
        "id": "6Ne7Q7U4ndIK"
      },
      "outputs": [],
      "source": [
        "print(\"a \\nb \\nc \\nd\")"
      ]
    },
    {
      "cell_type": "markdown",
      "metadata": {
        "id": "vDI-yndhndIK"
      },
      "source": [
        "- `\\t`: this will add a 'tab' to whatever you're printing out"
      ]
    },
    {
      "cell_type": "code",
      "execution_count": null,
      "metadata": {
        "id": "EWlQPHcjndIK"
      },
      "outputs": [],
      "source": [
        "print(\"a \\t b \\t c\")\n",
        "print(\"apple \\t b \\t c\")"
      ]
    },
    {
      "cell_type": "markdown",
      "metadata": {
        "id": "pXnWbxCUndIK"
      },
      "source": [
        "## More special characters:"
      ]
    },
    {
      "cell_type": "markdown",
      "metadata": {
        "id": "i3mL_LAnndIK"
      },
      "source": [
        "- `\\\"`: this will print a single double-quote (`\"`)"
      ]
    },
    {
      "cell_type": "code",
      "execution_count": null,
      "metadata": {
        "id": "hNs8rQtLndIK"
      },
      "outputs": [],
      "source": [
        "print(\"\\\"To be or not to be, that is the question.\\\"\")"
      ]
    },
    {
      "cell_type": "markdown",
      "metadata": {
        "id": "oYojKb6SndIK"
      },
      "source": [
        "- `\\\\`: this will print a single backslash `\\`"
      ]
    },
    {
      "cell_type": "code",
      "execution_count": null,
      "metadata": {
        "id": "Cy7n4XKTndIL"
      },
      "outputs": [],
      "source": [
        "print(\"\\\\\")"
      ]
    },
    {
      "cell_type": "markdown",
      "metadata": {
        "id": "0bgtBEuGndIL"
      },
      "source": [
        "### A Tricky question...\n",
        "What do you think will happen here?"
      ]
    },
    {
      "cell_type": "code",
      "execution_count": null,
      "metadata": {
        "id": "YcdQ9sTbndIL",
        "outputId": "54268af4-a7f2-4928-e34e-da4f6b6e9bff"
      },
      "outputs": [
        {
          "name": "stdout",
          "output_type": "stream",
          "text": [
            "\"\n",
            "\\\n"
          ]
        }
      ],
      "source": [
        "print(\"\\\"\")\n",
        "print(\"\\\\\")"
      ]
    },
    {
      "cell_type": "markdown",
      "metadata": {
        "id": "gGeu1d4OiC1-"
      },
      "source": [
        "# Division Operators"
      ]
    },
    {
      "cell_type": "markdown",
      "metadata": {
        "id": "yOnfD0H1iC1-"
      },
      "source": [
        "## Floating-point division operator\n",
        "\n",
        "The `/` operator will always give you a _float_ as a result."
      ]
    },
    {
      "cell_type": "code",
      "execution_count": null,
      "metadata": {
        "id": "8yxO4jIuiC1_",
        "outputId": "8346e143-5b11-4452-adff-7b84c3cae867"
      },
      "outputs": [
        {
          "data": {
            "text/plain": [
              "16.0"
            ]
          },
          "execution_count": 19,
          "metadata": {},
          "output_type": "execute_result"
        }
      ],
      "source": [
        "320 / 20"
      ]
    },
    {
      "cell_type": "code",
      "execution_count": null,
      "metadata": {
        "id": "D8lSZNbeiC1_",
        "outputId": "2a59304a-f1d7-45e0-b559-5428ebf4af41"
      },
      "outputs": [
        {
          "data": {
            "text/plain": [
              "16.791666666666668"
            ]
          },
          "execution_count": 20,
          "metadata": {},
          "output_type": "execute_result"
        }
      ],
      "source": [
        "403.0 / 24.0"
      ]
    },
    {
      "cell_type": "code",
      "execution_count": null,
      "metadata": {
        "id": "E2RYdZ6MndIM",
        "outputId": "b22adc0a-2a8c-40e1-f8df-dd86de3b54d8"
      },
      "outputs": [
        {
          "data": {
            "text/plain": [
              "float"
            ]
          },
          "execution_count": 21,
          "metadata": {},
          "output_type": "execute_result"
        }
      ],
      "source": [
        "type(320/20)"
      ]
    },
    {
      "cell_type": "markdown",
      "metadata": {
        "id": "Y7UHGmtBiC1_"
      },
      "source": [
        "## Integer division operators\n",
        "\n",
        "Sometimes, instead of getting the full floating-point expansion, you might want the quotient and remainder separately.\n",
        "\n",
        "<div>\n",
        "<img src=\"https://github.com/merriekay/CS65-F23/blob/main/images/day02_floor.png?raw=1\"/ width=200>\n",
        "</div>\n",
        "\n",
        "\n",
        "The `//` is the _floor_ division operator - it gives you the quotient and _ignores_ and fractional/remainder part.\n"
      ]
    },
    {
      "cell_type": "code",
      "execution_count": null,
      "metadata": {
        "id": "5lybxjNOiC1_",
        "outputId": "c7486978-1076-45b1-c2f2-5b32d6ef73ce"
      },
      "outputs": [
        {
          "data": {
            "text/plain": [
              "int"
            ]
          },
          "execution_count": 23,
          "metadata": {},
          "output_type": "execute_result"
        }
      ],
      "source": [
        "403 // 24 # quotient, w/o remainder"
      ]
    },
    {
      "cell_type": "markdown",
      "metadata": {
        "id": "_J-DBdIPiC1_"
      },
      "source": [
        "## Modulo operator\n",
        "\n",
        "The `%` operator is the __modulo__ operator - another word for remainder - it will ignore the quotient and just give you the remainder.\n",
        "\n",
        "<div>\n",
        "<img src=\"https://github.com/merriekay/CS65-F23/blob/main/images/day02_mod.png?raw=1\"/ width=200>\n",
        "</div>"
      ]
    },
    {
      "cell_type": "code",
      "execution_count": null,
      "metadata": {
        "id": "s101RW8niC2A",
        "outputId": "97e10ce7-8b62-4cd1-98e8-0aeb0a521bda"
      },
      "outputs": [
        {
          "data": {
            "text/plain": [
              "19"
            ]
          },
          "execution_count": 26,
          "metadata": {},
          "output_type": "execute_result"
        }
      ],
      "source": [
        "403 %  24 # ignores the quotient, and gives us the remainder."
      ]
    },
    {
      "cell_type": "markdown",
      "metadata": {
        "id": "wwE7mQLHiC2A"
      },
      "source": [
        "## Practice Exercise:\n",
        "\n",
        "Try each of the following in your interactive shell. What pattern do you notice?"
      ]
    },
    {
      "cell_type": "code",
      "execution_count": null,
      "metadata": {
        "id": "VvK2Xw1diC2A"
      },
      "outputs": [],
      "source": [
        "0 // 2\n",
        "1 // 2\n",
        "3 // 2\n",
        "4 // 2\n",
        "5 // 2\n",
        "6 // 2\n",
        "20 // 5\n",
        "21 // 5\n",
        "22 // 5\n",
        "23 // 5\n",
        "24 // 5\n",
        "25 // 5"
      ]
    },
    {
      "cell_type": "markdown",
      "metadata": {
        "id": "egZfyLUKiC2A"
      },
      "source": [
        "Try each of the following in your interactive shell. What pattern do you notice?"
      ]
    },
    {
      "cell_type": "code",
      "execution_count": null,
      "metadata": {
        "id": "8K2HONPsiC2A"
      },
      "outputs": [],
      "source": [
        "0 % 2\n",
        "1 % 2\n",
        "3 % 2\n",
        "4 % 2\n",
        "5 % 2\n",
        "6 % 2\n",
        "20 % 5\n",
        "21 % 5\n",
        "22 % 5\n",
        "23 % 5\n",
        "24 % 5\n",
        "25 % 5"
      ]
    },
    {
      "cell_type": "markdown",
      "metadata": {
        "id": "R2M1xFEbiC2B"
      },
      "source": [
        "Write down in your notes:\n",
        "* What is the difference between `//` and `/`?\n",
        "* What is the difference between `//` and `%`?\n",
        "\n",
        "Try each of the following in your interactive shell."
      ]
    },
    {
      "cell_type": "code",
      "execution_count": null,
      "metadata": {
        "id": "JExLpjaeiC2B",
        "outputId": "f3323123-27f3-4639-9856-769b1b9db39d"
      },
      "outputs": [
        {
          "name": "stdout",
          "output_type": "stream",
          "text": [
            "4.0\n"
          ]
        }
      ],
      "source": [
        "print(23 // 5.50)\n",
        "23 / 0\n",
        "23 % 0\n",
        "23 // 0"
      ]
    },
    {
      "cell_type": "markdown",
      "metadata": {
        "id": "Jh5xCezyiC2B"
      },
      "source": [
        "Write down in your notes:\n",
        "* What happens when you use a float with the floor division operator?\n",
        "* What happens in Python if you try to divide by 0?\n",
        "* What happens when you do `%0`?\n",
        "* What happens when you do `// 0`?"
      ]
    },
    {
      "cell_type": "markdown",
      "metadata": {
        "id": "NgidI_s5ndIT"
      },
      "source": [
        "# Practice Exercises:\n",
        "\n",
        "Take a few minutes and try to answer these questions using Python and the division operators we just talked about:\n",
        "\n",
        "1. There are 100 pieces of candy; there are 8 people at the party; how many pieces of candy does each person get? How much candy is left over?\n",
        "    - `100 // 8`: how many pieces does each person get?\n",
        "    - `100 % 8`: how much candy is leftover.\n",
        "\n",
        "2. I'm programming a super computer with 64 processors to perform 1500 variations of a simulation for a physics experiment, and each of the simulations takes about the same amount of time to run. How many simulations should be given to each processor?\n",
        "    - `1500 // 64`: how many simluations per processor\n",
        "    - `1500 % 64`: how many simulations are leftover\n",
        "\n",
        "3. I have 78 cents, how many quarters should I give in change?\n",
        "    - `78 // 25`: how many quarters\n",
        "    - `78 % 25`: how much is leftover."
      ]
    },
    {
      "cell_type": "markdown",
      "metadata": {
        "id": "T9SoBhJ1iC2B"
      },
      "source": [
        "## When is this useful?\n",
        "\n",
        "If you want to check if a number is divisible by 4 - say you're checking to see if the year is a presidential election year, Olympic year, leap year, etc., you can see if the result is zero:"
      ]
    },
    {
      "cell_type": "code",
      "execution_count": null,
      "metadata": {
        "id": "7B92DE52iC2B",
        "outputId": "e9aacaef-9f04-4110-9773-941421c16114"
      },
      "outputs": [
        {
          "data": {
            "text/plain": [
              "0"
            ]
          },
          "execution_count": 32,
          "metadata": {},
          "output_type": "execute_result"
        }
      ],
      "source": [
        "2024 % 4"
      ]
    },
    {
      "cell_type": "markdown",
      "metadata": {
        "id": "uSP8vxP6ndIU"
      },
      "source": [
        "Modulo (`%`) is also good if you need to check if a number is even or odd:"
      ]
    },
    {
      "cell_type": "code",
      "execution_count": null,
      "metadata": {
        "id": "uAWkLk9indIU",
        "outputId": "7f8d4e9e-63ce-4512-9995-6870dad9d2b2"
      },
      "outputs": [
        {
          "data": {
            "text/plain": [
              "1"
            ]
          },
          "execution_count": 33,
          "metadata": {},
          "output_type": "execute_result"
        }
      ],
      "source": [
        "253 % 2 # odd numbers have a remainder of 1 when divided by 2"
      ]
    },
    {
      "cell_type": "code",
      "execution_count": null,
      "metadata": {
        "id": "9bsv5DuMndIU",
        "outputId": "55997d34-1bee-430a-e58a-ee8178364904"
      },
      "outputs": [
        {
          "data": {
            "text/plain": [
              "0"
            ]
          },
          "execution_count": 34,
          "metadata": {},
          "output_type": "execute_result"
        }
      ],
      "source": [
        "254 % 2 # even numbers have a remainder of 0 when divided by 2"
      ]
    },
    {
      "cell_type": "code",
      "execution_count": null,
      "metadata": {
        "id": "c1jUdb0EndIV",
        "outputId": "aa61cd71-8c29-4078-c85b-7412392d12ae"
      },
      "outputs": [
        {
          "name": "stdout",
          "output_type": "stream",
          "text": [
            "x is divisible by 3\n",
            "x is divisble by 5\n"
          ]
        }
      ],
      "source": [
        "x = 150\n",
        "# is x divisible by 3?\n",
        "if x % 3 == 0:\n",
        "    print(\"x is divisible by 3\")\n",
        "if x % 5 == 0:\n",
        "    print(\"x is divisble by 5\")"
      ]
    },
    {
      "cell_type": "markdown",
      "metadata": {
        "id": "Ebd33i8hndIV"
      },
      "source": [
        "# Try it! 🍕\n",
        "\n",
        "Write a program that will:\n",
        "- prompt the user for the number of slices of pizza;\n",
        "- prompt the user for the number of people\n",
        "- print out how many slices each person can eat (if everyone gets the same number of slices)\n",
        "- print out how many slices will be left over"
      ]
    },
    {
      "cell_type": "code",
      "execution_count": null,
      "metadata": {
        "id": "ylOvtJb3ndIV",
        "outputId": "44995f21-a1b5-4982-eddd-eb74bcf6a80a"
      },
      "outputs": [
        {
          "name": "stdout",
          "output_type": "stream",
          "text": [
            "How many slices are there? 40\n",
            "How many people are there? 7\n",
            "With 40 slices and 7 people, each person should get 5 slices.\n",
            "There will be 5 slices left over.\n"
          ]
        }
      ],
      "source": [
        "num_slices = int(input(\"How many slices are there? \"))\n",
        "num_people = int(input(\"How many people are there? \"))\n",
        "\n",
        "slices_per_person = num_slices // num_people\n",
        "slices_leftover = num_slices % num_people\n",
        "\n",
        "print(\"With\", num_slices, \"slices and\", num_people, \"people, each person should get\", slices_per_person, \"slices.\")\n",
        "print(\"There will be\", slices_leftover, \"slices left over.\")"
      ]
    },
    {
      "cell_type": "markdown",
      "metadata": {
        "id": "bq41VyFYndIV"
      },
      "source": [
        "# Admin Stuff"
      ]
    },
    {
      "cell_type": "markdown",
      "metadata": {
        "id": "alHs2xSwndIV"
      },
      "source": [
        "You should be working on:\n",
        "- [Lab #3](https://analytics.drake.edu/~moore/CS65-F23/Lab3.html) is released today, due Monday 9/18 by 11:59pm."
      ]
    }
  ],
  "metadata": {
    "celltoolbar": "Slideshow",
    "kernelspec": {
      "display_name": "Python 3 (ipykernel)",
      "language": "python",
      "name": "python3"
    },
    "language_info": {
      "codemirror_mode": {
        "name": "ipython",
        "version": 3
      },
      "file_extension": ".py",
      "mimetype": "text/x-python",
      "name": "python",
      "nbconvert_exporter": "python",
      "pygments_lexer": "ipython3",
      "version": "3.11.4"
    },
    "colab": {
      "provenance": [],
      "include_colab_link": true
    }
  },
  "nbformat": 4,
  "nbformat_minor": 0
}